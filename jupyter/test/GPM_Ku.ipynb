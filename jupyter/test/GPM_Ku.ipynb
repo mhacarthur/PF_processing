{
 "cells": [
  {
   "cell_type": "code",
   "execution_count": 42,
   "metadata": {},
   "outputs": [],
   "source": [
    "import glob\n",
    "import numpy as np\n",
    "import pandas as pd\n",
    "import geopandas as gpd\n",
    "import clima_anom as ca\n",
    "\n",
    "import cartopy\n",
    "import cartopy.feature as cf\n",
    "import cartopy.crs as ccrs\n",
    "import cartopy.feature as cfeature\n",
    "import cartopy.io.shapereader as shpreader\n",
    "\n",
    "import matplotlib\n",
    "import matplotlib.cm as cm\n",
    "import matplotlib.pyplot as plt\n",
    "import matplotlib.gridspec as gridspec\n",
    "from matplotlib.colors import ListedColormap"
   ]
  },
  {
   "cell_type": "code",
   "execution_count": 43,
   "metadata": {},
   "outputs": [],
   "source": [
    "comm_name_in = 'Comm_IMERG_05x05_pearson_summer_noc'\n",
    "shape_file_in = '../../communities/'+comm_name_in+'.shp'"
   ]
  },
  {
   "cell_type": "code",
   "execution_count": 44,
   "metadata": {},
   "outputs": [
    {
     "name": "stdout",
     "output_type": "stream",
     "text": [
      "Comm Len: 15\n"
     ]
    },
    {
     "data": {
      "text/html": [
       "<div>\n",
       "<style scoped>\n",
       "    .dataframe tbody tr th:only-of-type {\n",
       "        vertical-align: middle;\n",
       "    }\n",
       "\n",
       "    .dataframe tbody tr th {\n",
       "        vertical-align: top;\n",
       "    }\n",
       "\n",
       "    .dataframe thead th {\n",
       "        text-align: right;\n",
       "    }\n",
       "</style>\n",
       "<table border=\"1\" class=\"dataframe\">\n",
       "  <thead>\n",
       "    <tr style=\"text-align: right;\">\n",
       "      <th></th>\n",
       "      <th>Comm</th>\n",
       "      <th>lon</th>\n",
       "      <th>lat</th>\n",
       "      <th>geometry</th>\n",
       "    </tr>\n",
       "  </thead>\n",
       "  <tbody>\n",
       "    <tr>\n",
       "      <th>0</th>\n",
       "      <td>10.0</td>\n",
       "      <td>-58.480651</td>\n",
       "      <td>-29.256809</td>\n",
       "      <td>POLYGON ((-61.71364 -20.20833, -60.72273 -20.2...</td>\n",
       "    </tr>\n",
       "    <tr>\n",
       "      <th>1</th>\n",
       "      <td>15.0</td>\n",
       "      <td>-57.861720</td>\n",
       "      <td>-2.545139</td>\n",
       "      <td>POLYGON ((-57.75000 3.59167, -54.77727 3.59167...</td>\n",
       "    </tr>\n",
       "    <tr>\n",
       "      <th>2</th>\n",
       "      <td>20.0</td>\n",
       "      <td>-41.850281</td>\n",
       "      <td>-13.637083</td>\n",
       "      <td>POLYGON ((-39.91364 -7.31667, -38.42727 -7.316...</td>\n",
       "    </tr>\n",
       "    <tr>\n",
       "      <th>3</th>\n",
       "      <td>25.0</td>\n",
       "      <td>-69.015226</td>\n",
       "      <td>-4.636619</td>\n",
       "      <td>POLYGON ((-70.63182 -0.37500, -68.65000 -0.375...</td>\n",
       "    </tr>\n",
       "    <tr>\n",
       "      <th>4</th>\n",
       "      <td>30.0</td>\n",
       "      <td>-53.929244</td>\n",
       "      <td>-23.713114</td>\n",
       "      <td>POLYGON ((-58.24545 -18.72083, -56.75909 -18.7...</td>\n",
       "    </tr>\n",
       "    <tr>\n",
       "      <th>5</th>\n",
       "      <td>35.0</td>\n",
       "      <td>-65.311980</td>\n",
       "      <td>-14.929249</td>\n",
       "      <td>POLYGON ((-69.64091 -11.77917, -63.69545 -11.7...</td>\n",
       "    </tr>\n",
       "    <tr>\n",
       "      <th>6</th>\n",
       "      <td>40.0</td>\n",
       "      <td>-66.730476</td>\n",
       "      <td>-40.930397</td>\n",
       "      <td>POLYGON ((-68.65000 -37.06667, -68.15455 -37.0...</td>\n",
       "    </tr>\n",
       "    <tr>\n",
       "      <th>7</th>\n",
       "      <td>50.0</td>\n",
       "      <td>-47.129807</td>\n",
       "      <td>-3.965333</td>\n",
       "      <td>POLYGON ((-51.80455 -1.36667, -48.83182 -1.366...</td>\n",
       "    </tr>\n",
       "  </tbody>\n",
       "</table>\n",
       "</div>"
      ],
      "text/plain": [
       "   Comm        lon        lat  \\\n",
       "0  10.0 -58.480651 -29.256809   \n",
       "1  15.0 -57.861720  -2.545139   \n",
       "2  20.0 -41.850281 -13.637083   \n",
       "3  25.0 -69.015226  -4.636619   \n",
       "4  30.0 -53.929244 -23.713114   \n",
       "5  35.0 -65.311980 -14.929249   \n",
       "6  40.0 -66.730476 -40.930397   \n",
       "7  50.0 -47.129807  -3.965333   \n",
       "\n",
       "                                            geometry  \n",
       "0  POLYGON ((-61.71364 -20.20833, -60.72273 -20.2...  \n",
       "1  POLYGON ((-57.75000 3.59167, -54.77727 3.59167...  \n",
       "2  POLYGON ((-39.91364 -7.31667, -38.42727 -7.316...  \n",
       "3  POLYGON ((-70.63182 -0.37500, -68.65000 -0.375...  \n",
       "4  POLYGON ((-58.24545 -18.72083, -56.75909 -18.7...  \n",
       "5  POLYGON ((-69.64091 -11.77917, -63.69545 -11.7...  \n",
       "6  POLYGON ((-68.65000 -37.06667, -68.15455 -37.0...  \n",
       "7  POLYGON ((-51.80455 -1.36667, -48.83182 -1.366...  "
      ]
     },
     "execution_count": 44,
     "metadata": {},
     "output_type": "execute_result"
    }
   ],
   "source": [
    "comm_GPD = gpd.read_file('../../communities/'+comm_name_in+'.geojson')\n",
    "len_comm = len(comm_GPD['Comm'])\n",
    "\n",
    "lista_comunidades = np.zeros([len_comm,2])\n",
    "index_comm = np.arange(len_comm)\n",
    "lista_comunidades[:,0] = index_comm\n",
    "lista_comunidades[:,1] = comm_GPD['Comm'].values\n",
    "\n",
    "comm_GPD = comm_GPD.drop(['index'], axis=1)\n",
    "\n",
    "print(f'Comm Len: {len_comm}')\n",
    "comm_GPD.head(8)"
   ]
  },
  {
   "cell_type": "code",
   "execution_count": 20,
   "metadata": {},
   "outputs": [
    {
     "name": "stdout",
     "output_type": "stream",
     "text": [
      "2101\n"
     ]
    }
   ],
   "source": [
    "list_files = glob.glob('/media/arturo/Arturo/Data/GPM/AS/2018/*.nc')\n",
    "list_files = sorted(list_files)\n",
    "len_list = len(list_files)\n",
    "print(len_list)"
   ]
  },
  {
   "cell_type": "code",
   "execution_count": 54,
   "metadata": {},
   "outputs": [
    {
     "name": "stdout",
     "output_type": "stream",
     "text": [
      "NS_PRE_heightStormTop : (1893, 49)\n",
      "NS_PRE_zFactorMeasured : (1893, 49, 176)\n",
      "NS_SLV_zFactorCorrected : (1893, 49, 176)\n",
      "NS_Latitude : (1893, 49)\n",
      "NS_Longitude : (1893, 49)\n",
      "NS_ScanTime_Year : (1893,)\n",
      "NS_ScanTime_Month : (1893,)\n",
      "NS_ScanTime_Day : (1893,)\n",
      "NS_ScanTime_Hour : (1893,)\n",
      "NS_ScanTime_Minute : (1893,)\n"
     ]
    }
   ],
   "source": [
    "data = ca.read_netcdf(list_files[7],2)\n",
    "lat = data['NS_Latitude'].data\n",
    "lon = data['NS_Longitude'].data\n",
    "top = data['NS_PRE_heightStormTop'].data"
   ]
  },
  {
   "cell_type": "code",
   "execution_count": 68,
   "metadata": {},
   "outputs": [
    {
     "name": "stderr",
     "output_type": "stream",
     "text": [
      "/home/arturo/anaconda3/envs/AXE/lib/python3.9/site-packages/cartopy/mpl/style.py:90: UserWarning: facecolor will have no effect as it has been defined as \"never\".\n",
      "  warnings.warn('facecolor will have no effect as it has been '\n",
      "/home/arturo/anaconda3/envs/AXE/lib/python3.9/site-packages/cartopy/mpl/style.py:90: UserWarning: facecolor will have no effect as it has been defined as \"never\".\n",
      "  warnings.warn('facecolor will have no effect as it has been '\n",
      "/home/arturo/anaconda3/envs/AXE/lib/python3.9/site-packages/cartopy/mpl/style.py:90: UserWarning: facecolor will have no effect as it has been defined as \"never\".\n",
      "  warnings.warn('facecolor will have no effect as it has been '\n",
      "/home/arturo/anaconda3/envs/AXE/lib/python3.9/site-packages/cartopy/mpl/style.py:90: UserWarning: facecolor will have no effect as it has been defined as \"never\".\n",
      "  warnings.warn('facecolor will have no effect as it has been '\n"
     ]
    },
    {
     "data": {
      "image/png": "[encoded data removed]",
      "text/plain": [
       "<Figure size 1600x1300 with 1 Axes>"
      ]
     },
     "metadata": {},
     "output_type": "display_data"
    }
   ],
   "source": [
    "proj = ccrs.PlateCarree()\n",
    "\n",
    "fig = plt.figure(figsize=(8,6.5),dpi=200)\n",
    "gs = gridspec.GridSpec(2,3)\n",
    "plt.style.use('default')\n",
    "\n",
    "#=====================================================================================================\n",
    "ax1 = plt.subplot(gs[0, 0], projection = proj)\n",
    "ax1.coastlines(linestyle='-',linewidth=0.5,color='black',zorder=4)\n",
    "ax1.set_extent([-80,-55,-25,0],crs=proj)\n",
    "# ax1.add_geometries(andes,proj,edgecolor='k',facecolor='None',linestyle='-',linewidth=0.1,zorder=5)\n",
    "ax1.add_feature(cfeature.COASTLINE,linewidth=0.2,color='black',zorder=4)\n",
    "ax1.add_feature(cfeature.BORDERS,linewidth=0.2,color='black',zorder=4)\n",
    "\n",
    "comm_GPD.loc[[3],'geometry'].plot(ax=ax1,facecolor='b')\n",
    "comm_GPD.loc[[3],'geometry'].exterior.plot(ax=ax1,color='k',linestyle='-',linewidth=0.8)\n",
    "\n",
    "comm_GPD.loc[[5],'geometry'].plot(ax=ax1,facecolor='r')\n",
    "comm_GPD.loc[[5],'geometry'].exterior.plot(ax=ax1,color='k',linestyle='-',linewidth=0.8)\n",
    "\n",
    "# ax1.scatter(lon,lat,s=top/np.nanmax(top))\n",
    "ax1.scatter(lon,lat,s=0.1)\n",
    "\n",
    "gl = ax1.gridlines(crs=proj,draw_labels=True,linewidth=0.2,color='gray',alpha=0.5,linestyle='--')\n",
    "gl.top_labels = False\n",
    "gl.bottom_labels = True\n",
    "gl.left_labels = True\n",
    "gl.right_labels = False\n",
    "gl.xlabel_style = {'size': 4, 'color': 'k'}\n",
    "gl.ylabel_style = {'size': 4, 'color': 'k'}"
   ]
  },
  {
   "cell_type": "code",
   "execution_count": 65,
   "metadata": {},
   "outputs": [
    {
     "data": {
      "text/plain": [
       "(1893, 49)"
      ]
     },
     "execution_count": 65,
     "metadata": {},
     "output_type": "execute_result"
    }
   ],
   "source": [
    "lon.shape"
   ]
  },
  {
   "cell_type": "code",
   "execution_count": 62,
   "metadata": {},
   "outputs": [
    {
     "data": {
      "text/plain": [
       "(array([-78.80789185, -78.79047394, -78.77310944, ..., -28.92851639,\n",
       "        -28.86420631, -28.79978371]),\n",
       " array([ 15.4987936 ,  15.45767975,  15.41661358, ..., -57.16090393,\n",
       "        -57.18754196, -57.21419525]))"
      ]
     },
     "execution_count": 62,
     "metadata": {},
     "output_type": "execute_result"
    }
   ],
   "source": [
    "lon[:,0],lat[:,0]"
   ]
  },
  {
   "cell_type": "code",
   "execution_count": null,
   "metadata": {},
   "outputs": [],
   "source": []
  }
 ],
 "metadata": {
  "interpreter": {
   "hash": "c6c4883052875ec3257edf99ee092a790b9a432228222ee7e742d4f8a559e5a8"
  },
  "kernelspec": {
   "display_name": "Python 3.9.7 ('AXE')",
   "language": "python",
   "name": "python3"
  },
  "language_info": {
   "codemirror_mode": {
    "name": "ipython",
    "version": 3
   },
   "file_extension": ".py",
   "mimetype": "text/x-python",
   "name": "python",
   "nbconvert_exporter": "python",
   "pygments_lexer": "ipython3",
   "version": "3.9.7"
  },
  "orig_nbformat": 4
 },
 "nbformat": 4,
 "nbformat_minor": 2
}

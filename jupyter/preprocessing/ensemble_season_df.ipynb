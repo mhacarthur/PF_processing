{
 "cells": [
  {
   "cell_type": "code",
   "execution_count": 1,
   "metadata": {},
   "outputs": [],
   "source": [
    "import os\n",
    "import glob\n",
    "import json\n",
    "import numpy as np\n",
    "import pandas as pd\n",
    "import geopandas as gpd\n",
    "import clima_anom as ca\n",
    "\n",
    "import matplotlib.cbook\n",
    "import matplotlib.pyplot as plt\n",
    "import matplotlib.gridspec as gridspec\n",
    "\n",
    "import cartopy\n",
    "import cartopy.feature as cf\n",
    "import cartopy.crs as ccrs\n",
    "import cartopy.feature as cfeature\n",
    "import cartopy.io.shapereader as shpreader"
   ]
  },
  {
   "cell_type": "code",
   "execution_count": 2,
   "metadata": {},
   "outputs": [],
   "source": [
    "method = 'pearson'"
   ]
  },
  {
   "cell_type": "code",
   "execution_count": 3,
   "metadata": {},
   "outputs": [],
   "source": [
    "with open ('../../json/directories.json') as f:\n",
    "    DIRS = json.load(f)"
   ]
  },
  {
   "cell_type": "code",
   "execution_count": 4,
   "metadata": {},
   "outputs": [
    {
     "name": "stdout",
     "output_type": "stream",
     "text": [
      "DELL_LAPTOP\n",
      "Export dir: D:/Data/PF/ENSEMBLE/ENSEMBLE_SA/pearson/\n"
     ]
    }
   ],
   "source": [
    "if os.environ['COMPUTERNAME'] == 'DELL_LAPTOP':\n",
    "    export_dir = 'D:/Data/PF/ENSEMBLE/ENSEMBLE_SA/' + method + '/'\n",
    "    PF_ensemble_files = 'D:\\Data\\PF\\ENSEMBLE\\list\\TRMM_GPM_summer_200012_2021_02.csv'\n",
    "else:\n",
    "    export_dir = '/mnt/Data/Data/PF/ENSEMBLE/ENSEMBLE_SA/' + method + '/'\n",
    "\n",
    "print(os.environ['COMPUTERNAME'])\n",
    "print(f'Export dir: {export_dir}')"
   ]
  },
  {
   "cell_type": "code",
   "execution_count": 5,
   "metadata": {},
   "outputs": [],
   "source": [
    "if method == 'pearson':\n",
    "    comms_file = 'Comm_IMERG_05x05_pearson_summer_noc'\n",
    "else:\n",
    "    print('ERROR')"
   ]
  },
  {
   "cell_type": "code",
   "execution_count": 6,
   "metadata": {},
   "outputs": [
    {
     "name": "stdout",
     "output_type": "stream",
     "text": [
      "Files Number: 63\n",
      "/mnt/Data/Data/PF/TRMM/rpf_SA/rpf_200012_level2.csv\n",
      "/mnt/Data/Data/PF/GPM/rgpf_SA/rgpf_202102_level2.csv\n"
     ]
    }
   ],
   "source": [
    "file_list = pd.read_csv(PF_ensemble_files)\n",
    "# file_list = pd.read_csv(DIRS['dir_ENSEMBLE_list']+'TRMM_GPM_summer_200012_2021_02.csv')\n",
    "len_files = len(file_list)\n",
    "print(f'Files Number: {len_files}')\n",
    "print(file_list['file_name'].iloc[0])\n",
    "print(file_list['file_name'].iloc[-1])"
   ]
  },
  {
   "cell_type": "code",
   "execution_count": 19,
   "metadata": {},
   "outputs": [
    {
     "data": {
      "text/plain": [
       "array([ 10,  15,  20,  25,  30,  35,  40,  45,  50,  55,  60,  65,  70,\n",
       "        75,  80,  90,  95, 100])"
      ]
     },
     "execution_count": 19,
     "metadata": {},
     "output_type": "execute_result"
    }
   ],
   "source": [
    "communities_poligon = gpd.read_file(DIRS['dir_comm'] + comms_file + '.geojson')\n",
    "communities_index = communities_poligon['Comm'].values.astype(int)\n",
    "communities_index"
   ]
  },
  {
   "cell_type": "code",
   "execution_count": 8,
   "metadata": {},
   "outputs": [
    {
     "name": "stdout",
     "output_type": "stream",
     "text": [
      "Number of Communities: 18\n"
     ]
    }
   ],
   "source": [
    "Comunidad_file = DIRS['dir_comm'] + comms_file + '.shp'\n",
    "Comunidades = gpd.read_file(Comunidad_file)\n",
    "num_comm = len(Comunidades)\n",
    "print(f'Number of Communities: {num_comm}')"
   ]
  },
  {
   "cell_type": "code",
   "execution_count": 20,
   "metadata": {},
   "outputs": [
    {
     "data": {
      "text/plain": [
       "'D:/Data/PF/ENSEMBLE/ENSEMBLE_SA/pearson/Comm_IMERG_05x05_pearson_summer_noc_C010.csv'"
      ]
     },
     "execution_count": 20,
     "metadata": {},
     "output_type": "execute_result"
    }
   ],
   "source": [
    "# test names\n",
    "comm_id = communities_index[0]\n",
    "comm_name = comms_file + '_C'+str(comm_id).zfill(3)\n",
    "salida = export_dir + comm_name + '.csv'\n",
    "salida"
   ]
  },
  {
   "cell_type": "code",
   "execution_count": 22,
   "metadata": {},
   "outputs": [
    {
     "name": "stdout",
     "output_type": "stream",
     "text": [
      "Community: 0\n",
      "Exporting data to D:/Data/PF/ENSEMBLE/ENSEMBLE_SA/pearson/Comm_IMERG_05x05_pearson_summer_noc_C010.csv\n",
      "Community: 1\n",
      "Exporting data to D:/Data/PF/ENSEMBLE/ENSEMBLE_SA/pearson/Comm_IMERG_05x05_pearson_summer_noc_C015.csv\n",
      "Community: 2\n",
      "Exporting data to D:/Data/PF/ENSEMBLE/ENSEMBLE_SA/pearson/Comm_IMERG_05x05_pearson_summer_noc_C020.csv\n",
      "Community: 3\n",
      "Exporting data to D:/Data/PF/ENSEMBLE/ENSEMBLE_SA/pearson/Comm_IMERG_05x05_pearson_summer_noc_C025.csv\n",
      "Community: 4\n",
      "Exporting data to D:/Data/PF/ENSEMBLE/ENSEMBLE_SA/pearson/Comm_IMERG_05x05_pearson_summer_noc_C030.csv\n",
      "Community: 5\n",
      "Exporting data to D:/Data/PF/ENSEMBLE/ENSEMBLE_SA/pearson/Comm_IMERG_05x05_pearson_summer_noc_C035.csv\n",
      "Community: 6\n",
      "Exporting data to D:/Data/PF/ENSEMBLE/ENSEMBLE_SA/pearson/Comm_IMERG_05x05_pearson_summer_noc_C040.csv\n",
      "Community: 7\n",
      "Exporting data to D:/Data/PF/ENSEMBLE/ENSEMBLE_SA/pearson/Comm_IMERG_05x05_pearson_summer_noc_C045.csv\n",
      "Community: 8\n",
      "Exporting data to D:/Data/PF/ENSEMBLE/ENSEMBLE_SA/pearson/Comm_IMERG_05x05_pearson_summer_noc_C050.csv\n",
      "Community: 9\n",
      "Exporting data to D:/Data/PF/ENSEMBLE/ENSEMBLE_SA/pearson/Comm_IMERG_05x05_pearson_summer_noc_C055.csv\n",
      "Community: 10\n",
      "Exporting data to D:/Data/PF/ENSEMBLE/ENSEMBLE_SA/pearson/Comm_IMERG_05x05_pearson_summer_noc_C060.csv\n",
      "Community: 11\n",
      "Exporting data to D:/Data/PF/ENSEMBLE/ENSEMBLE_SA/pearson/Comm_IMERG_05x05_pearson_summer_noc_C065.csv\n",
      "Community: 12\n",
      "Exporting data to D:/Data/PF/ENSEMBLE/ENSEMBLE_SA/pearson/Comm_IMERG_05x05_pearson_summer_noc_C070.csv\n",
      "Community: 13\n",
      "Exporting data to D:/Data/PF/ENSEMBLE/ENSEMBLE_SA/pearson/Comm_IMERG_05x05_pearson_summer_noc_C075.csv\n",
      "Community: 14\n",
      "Exporting data to D:/Data/PF/ENSEMBLE/ENSEMBLE_SA/pearson/Comm_IMERG_05x05_pearson_summer_noc_C080.csv\n",
      "Community: 15\n",
      "Exporting data to D:/Data/PF/ENSEMBLE/ENSEMBLE_SA/pearson/Comm_IMERG_05x05_pearson_summer_noc_C090.csv\n",
      "Community: 16\n",
      "Exporting data to D:/Data/PF/ENSEMBLE/ENSEMBLE_SA/pearson/Comm_IMERG_05x05_pearson_summer_noc_C095.csv\n",
      "Community: 17\n",
      "Exporting data to D:/Data/PF/ENSEMBLE/ENSEMBLE_SA/pearson/Comm_IMERG_05x05_pearson_summer_noc_C100.csv\n"
     ]
    }
   ],
   "source": [
    "for comm_id in range(num_comm):\n",
    "\n",
    "    comm_id_new = communities_index[comm_id]\n",
    "    print(f'Community: {comm_id}')\n",
    "\n",
    "    for nn in range(len_files):\n",
    "\n",
    "        if os.environ['COMPUTERNAME'] == 'DELL_LAPTOP':\n",
    "            data = pd.read_csv(file_list['file_name'][nn].replace('/mnt/Data/Data/PF/','D:/Data/PF/'))\n",
    "        else:\n",
    "            data = pd.read_csv(file_list['file_name'][nn], sep=',')\n",
    "\n",
    "        data[data==-88.88] = np.nan\n",
    "        data[data==-99.99] = np.nan\n",
    "\n",
    "        PF_GPD = gpd.GeoDataFrame(data[data.columns[2:]], geometry=gpd.points_from_xy(data['lon'],data['lat'], crs=\"EPSG:4326\"))\n",
    "        num_points = len(PF_GPD['geometry']) \n",
    "\n",
    "        points_interception = [] \n",
    "\n",
    "        for t in range(num_points):\n",
    "\n",
    "            if Comunidades['geometry'][comm_id].contains(PF_GPD['geometry'][t]) == True:\n",
    "                points_interception.append(t)\n",
    "\n",
    "        dic_tmp = data.loc[points_interception]\n",
    "        dic_tmp = dic_tmp.reset_index(drop=True)\n",
    "\n",
    "        if nn == 0:\n",
    "            dict_out = dic_tmp\n",
    "\n",
    "        else:\n",
    "            dict_out = pd.concat([dic_tmp, dict_out], axis=0)\n",
    "\n",
    "        # print(f'Points in the community: {len(dic_tmp)}')\n",
    "\n",
    "    comm_name = comms_file + '_C'+str(comm_id_new).zfill(3)\n",
    "    salida = export_dir + comm_name + '.csv'\n",
    "    print(f'Exporting data to {salida}')\n",
    "    dict_out.to_csv(salida,header=True,index=False)"
   ]
  },
  {
   "cell_type": "code",
   "execution_count": null,
   "metadata": {},
   "outputs": [],
   "source": []
  },
  {
   "cell_type": "code",
   "execution_count": 68,
   "metadata": {},
   "outputs": [],
   "source": [
    "# Comunidad_file = 'Comm_IMERG_05x05_sync_summer_P90_tau3_SP95'\n",
    "# comm_id = 1\n",
    "# comm_name = 'C'+str(comm_id+1).zfill(2)\n",
    "# print(comm_name)\n",
    "\n",
    "# levels = np.arange(0.5,20.5,0.5)\n",
    "\n",
    "# for nn in range(63):\n",
    "\n",
    "#     data = pd.read_csv(file_list['file_name'][nn], sep=',')\n",
    "#     data[data==-88.88] = np.nan\n",
    "#     data[data==-99.99] = np.nan\n",
    "\n",
    "#     PF_GPD = gpd.GeoDataFrame(data[data.columns[2:]], geometry=gpd.points_from_xy(data['lon'],data['lat'], crs=\"EPSG:4326\"))\n",
    "\n",
    "#     comm_GPD = gpd.read_file(DIRS['dir_communities']'+Comunidad_file+'.shp')\n",
    "\n",
    "#     num_comm = len(comm_GPD['geometry'])\n",
    "#     num_points = len(PF_GPD['geometry']) \n",
    "\n",
    "#     points_interception = []  \n",
    "\n",
    "#     for t in range(num_points):\n",
    "\n",
    "#         if comm_GPD['geometry'][comm_id].contains(PF_GPD['geometry'][t]) == True:\n",
    "#             points_interception.append(t)\n",
    "\n",
    "#     dic_tmp = data.loc[points_interception]\n",
    "#     dic_tmp = dic_tmp.reset_index(drop=True)\n",
    "\n",
    "#     if nn == 0:\n",
    "#         dict_out = dic_tmp\n",
    "\n",
    "#     else:\n",
    "#         dict_out = pd.concat([dic_tmp, dict_out], axis=0)\n",
    "\n",
    "#     print(f'Points in the community: {len(dic_tmp)}')\n",
    "\n",
    "# # export dataframe to csv\n",
    "# salida = '/mnt/Data/Data/PF/ENSEMBLE/ENSEMBLE_SA/'+Comunidad_file+'_'+comm_name+'.csv'\n",
    "# print(f'Exporting data to {salida}')\n",
    "# dict_out.to_csv(salida,header=True,index=False)"
   ]
  },
  {
   "cell_type": "code",
   "execution_count": null,
   "metadata": {},
   "outputs": [],
   "source": []
  }
 ],
 "metadata": {
  "kernelspec": {
   "display_name": "Python 3.9.12 ('base')",
   "language": "python",
   "name": "python3"
  },
  "language_info": {
   "codemirror_mode": {
    "name": "ipython",
    "version": 3
   },
   "file_extension": ".py",
   "mimetype": "text/x-python",
   "name": "python",
   "nbconvert_exporter": "python",
   "pygments_lexer": "ipython3",
   "version": "3.9.12"
  },
  "orig_nbformat": 4,
  "vscode": {
   "interpreter": {
    "hash": "49cb93f377a7abe7414b7b0f21fb3017538004a126cf690fb524202736b7fb92"
   }
  }
 },
 "nbformat": 4,
 "nbformat_minor": 2
}

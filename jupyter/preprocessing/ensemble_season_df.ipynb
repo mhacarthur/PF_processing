{
 "cells": [
  {
   "cell_type": "code",
   "execution_count": 1,
   "metadata": {},
   "outputs": [],
   "source": [
    "import glob\n",
    "import json\n",
    "import numpy as np\n",
    "import pandas as pd\n",
    "import geopandas as gpd\n",
    "import clima_anom as ca\n",
    "\n",
    "import matplotlib.cbook\n",
    "import matplotlib.pyplot as plt\n",
    "import matplotlib.gridspec as gridspec\n",
    "\n",
    "import cartopy\n",
    "import cartopy.feature as cf\n",
    "import cartopy.crs as ccrs\n",
    "import cartopy.feature as cfeature\n",
    "import cartopy.io.shapereader as shpreader\n",
    "\n",
    "import sys\n",
    "sys.path.append('../../function/')\n",
    "from Funciones import dbz2mm, mm2dbz"
   ]
  },
  {
   "cell_type": "code",
   "execution_count": 2,
   "metadata": {},
   "outputs": [],
   "source": [
    "with open ('../../json/directories.json') as f:\n",
    "    DIRS = json.load(f)"
   ]
  },
  {
   "cell_type": "code",
   "execution_count": 3,
   "metadata": {},
   "outputs": [
    {
     "name": "stdout",
     "output_type": "stream",
     "text": [
      "Files Number: 63\n",
      "/mnt/Data/Data/PF/TRMM/rpf_SA/rpf_200012_level2.csv\n",
      "/mnt/Data/Data/PF/GPM/rgpf_SA/rgpf_202102_level2.csv\n"
     ]
    }
   ],
   "source": [
    "file_list = pd.read_csv(DIRS['dir_ENSEMBLE_list']+'TRMM_GPM_summer_200012_2021_02.csv')\n",
    "len_files = len(file_list)\n",
    "print(f'Files Number: {len_files}')\n",
    "print(file_list['file_name'].iloc[0])\n",
    "print(file_list['file_name'].iloc[-1])"
   ]
  },
  {
   "cell_type": "code",
   "execution_count": 4,
   "metadata": {},
   "outputs": [
    {
     "name": "stdout",
     "output_type": "stream",
     "text": [
      "C02\n"
     ]
    }
   ],
   "source": [
    "Comunidad_file = 'Comm_IMERG_05x05_sync_summer_P90_tau3_SP95'\n",
    "comm_id = 1\n",
    "comm_name = 'C'+str(comm_id+1).zfill(2)\n",
    "print(comm_name)"
   ]
  },
  {
   "cell_type": "code",
   "execution_count": 5,
   "metadata": {},
   "outputs": [
    {
     "name": "stdout",
     "output_type": "stream",
     "text": [
      "Points in the community: 6096\n",
      "Points in the community: 7867\n",
      "Points in the community: 6027\n",
      "Points in the community: 5602\n",
      "Points in the community: 4641\n",
      "Points in the community: 6905\n",
      "Points in the community: 5869\n",
      "Points in the community: 6005\n",
      "Points in the community: 6677\n",
      "Points in the community: 5648\n",
      "Points in the community: 6133\n",
      "Points in the community: 4214\n",
      "Points in the community: 5554\n",
      "Points in the community: 5620\n",
      "Points in the community: 4757\n",
      "Points in the community: 5976\n",
      "Points in the community: 5898\n",
      "Points in the community: 5885\n",
      "Points in the community: 6154\n",
      "Points in the community: 7373\n",
      "Points in the community: 5616\n",
      "Points in the community: 5654\n",
      "Points in the community: 8298\n",
      "Points in the community: 5972\n",
      "Points in the community: 5845\n",
      "Points in the community: 5225\n",
      "Points in the community: 5906\n",
      "Points in the community: 6343\n",
      "Points in the community: 6739\n",
      "Points in the community: 6836\n",
      "Points in the community: 5032\n",
      "Points in the community: 7792\n",
      "Points in the community: 6049\n",
      "Points in the community: 5346\n",
      "Points in the community: 4666\n",
      "Points in the community: 6282\n",
      "Points in the community: 6362\n",
      "Points in the community: 4375\n",
      "Points in the community: 6209\n",
      "Points in the community: 4518\n",
      "Points in the community: 6678\n",
      "Points in the community: 6395\n",
      "Points in the community: 2030\n",
      "Points in the community: 2038\n",
      "Points in the community: 2270\n",
      "Points in the community: 2158\n",
      "Points in the community: 2011\n",
      "Points in the community: 2455\n",
      "Points in the community: 1753\n",
      "Points in the community: 2002\n",
      "Points in the community: 1882\n",
      "Points in the community: 2044\n",
      "Points in the community: 2507\n",
      "Points in the community: 1902\n",
      "Points in the community: 1697\n",
      "Points in the community: 2315\n",
      "Points in the community: 1934\n",
      "Points in the community: 1720\n",
      "Points in the community: 1801\n",
      "Points in the community: 1863\n",
      "Points in the community: 1541\n",
      "Points in the community: 2798\n",
      "Points in the community: 1841\n",
      "Exporting data to /mnt/Data/Data/PF/ENSEMBLE/ENSEMBLE_SA/Comm_IMERG_05x05_sync_summer_P90_tau3_SP95_C02.csv\n"
     ]
    }
   ],
   "source": [
    "levels = np.arange(0.5,20.5,0.5)\n",
    "\n",
    "for nn in range(63):\n",
    "\n",
    "    data = pd.read_csv(file_list['file_name'][nn], sep=',')\n",
    "    data[data==-88.88] = np.nan\n",
    "    data[data==-99.99] = np.nan\n",
    "\n",
    "    PF_GPD = gpd.GeoDataFrame(data[data.columns[2:]], geometry=gpd.points_from_xy(data['lon'],data['lat'], crs=\"EPSG:4326\"))\n",
    "\n",
    "    comm_GPD = gpd.read_file('/mnt/Data/Github/Complex-Network-AS/mapping/communities/'+Comunidad_file+'.shp')\n",
    "\n",
    "    num_comm = len(comm_GPD['geometry'])\n",
    "    num_points = len(PF_GPD['geometry']) \n",
    "\n",
    "    points_interception = []  \n",
    "\n",
    "    for t in range(num_points):\n",
    "\n",
    "        if comm_GPD['geometry'][comm_id].contains(PF_GPD['geometry'][t]) == True:\n",
    "            points_interception.append(t)\n",
    "\n",
    "    dic_tmp = data.loc[points_interception]\n",
    "    dic_tmp = dic_tmp.reset_index(drop=True)\n",
    "\n",
    "    if nn == 0:\n",
    "        dict_out = dic_tmp\n",
    "\n",
    "    else:\n",
    "        dict_out = pd.concat([dic_tmp, dict_out], axis=0)\n",
    "\n",
    "    print(f'Points in the community: {len(dic_tmp)}')\n",
    "\n",
    "# export dataframe to csv\n",
    "salida = '/mnt/Data/Data/PF/ENSEMBLE/ENSEMBLE_SA/'+Comunidad_file+'_'+comm_name+'.csv'\n",
    "print(f'Exporting data to {salida}')\n",
    "dict_out.to_csv(salida,header=True,index=False)"
   ]
  },
  {
   "cell_type": "code",
   "execution_count": null,
   "metadata": {},
   "outputs": [],
   "source": []
  }
 ],
 "metadata": {
  "kernelspec": {
   "display_name": "Python 3.9.7 ('AXE')",
   "language": "python",
   "name": "python3"
  },
  "language_info": {
   "codemirror_mode": {
    "name": "ipython",
    "version": 3
   },
   "file_extension": ".py",
   "mimetype": "text/x-python",
   "name": "python",
   "nbconvert_exporter": "python",
   "pygments_lexer": "ipython3",
   "version": "3.9.7"
  },
  "orig_nbformat": 4,
  "vscode": {
   "interpreter": {
    "hash": "c6c4883052875ec3257edf99ee092a790b9a432228222ee7e742d4f8a559e5a8"
   }
  }
 },
 "nbformat": 4,
 "nbformat_minor": 2
}

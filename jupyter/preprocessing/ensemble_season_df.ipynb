{
 "cells": [
  {
   "cell_type": "code",
   "execution_count": 1,
   "metadata": {},
   "outputs": [],
   "source": [
    "import glob\n",
    "import json\n",
    "import numpy as np\n",
    "import pandas as pd\n",
    "import geopandas as gpd\n",
    "import clima_anom as ca\n",
    "\n",
    "import matplotlib.cbook\n",
    "import matplotlib.pyplot as plt\n",
    "import matplotlib.gridspec as gridspec\n",
    "\n",
    "import cartopy\n",
    "import cartopy.feature as cf\n",
    "import cartopy.crs as ccrs\n",
    "import cartopy.feature as cfeature\n",
    "import cartopy.io.shapereader as shpreader\n",
    "\n",
    "import sys\n",
    "sys.path.append('../../function/')\n",
    "from Funciones import dbz2mm, mm2dbz"
   ]
  },
  {
   "cell_type": "code",
   "execution_count": 2,
   "metadata": {},
   "outputs": [],
   "source": [
    "with open ('../../json/directories.json') as f:\n",
    "    DIRS = json.load(f)"
   ]
  },
  {
   "cell_type": "code",
   "execution_count": 3,
   "metadata": {},
   "outputs": [
    {
     "name": "stdout",
     "output_type": "stream",
     "text": [
      "Files Number: 63\n",
      "/mnt/Data/Data/PF/TRMM/rpf_SA/rpf_200012_level2.csv\n",
      "/mnt/Data/Data/PF/GPM/rgpf_SA/rgpf_202102_level2.csv\n"
     ]
    }
   ],
   "source": [
    "file_list = pd.read_csv(DIRS['dir_ENSEMBLE_list']+'TRMM_GPM_summer_200012_2021_02.csv')\n",
    "len_files = len(file_list)\n",
    "print(f'Files Number: {len_files}')\n",
    "print(file_list['file_name'].iloc[0])\n",
    "print(file_list['file_name'].iloc[-1])"
   ]
  },
  {
   "cell_type": "code",
   "execution_count": 4,
   "metadata": {},
   "outputs": [],
   "source": [
    "Comunidad_file = 'Comm_IMERG_05x05_sync_summer_P90_tau3_SP95'"
   ]
  },
  {
   "cell_type": "code",
   "execution_count": 5,
   "metadata": {},
   "outputs": [
    {
     "name": "stdout",
     "output_type": "stream",
     "text": [
      "Points in the community: 10219\n",
      "Points in the community: 10951\n",
      "Points in the community: 9795\n",
      "Points in the community: 8838\n",
      "Points in the community: 8606\n",
      "Points in the community: 10421\n",
      "Points in the community: 10092\n",
      "Points in the community: 9219\n",
      "Points in the community: 8850\n",
      "Points in the community: 7860\n",
      "Points in the community: 9432\n",
      "Points in the community: 10873\n",
      "Points in the community: 8857\n",
      "Points in the community: 9046\n",
      "Points in the community: 9280\n",
      "Points in the community: 10121\n",
      "Points in the community: 9180\n",
      "Points in the community: 10715\n",
      "Points in the community: 9223\n",
      "Points in the community: 10745\n",
      "Points in the community: 7855\n",
      "Points in the community: 9847\n",
      "Points in the community: 10671\n",
      "Points in the community: 9365\n",
      "Points in the community: 9556\n",
      "Points in the community: 10123\n",
      "Points in the community: 10394\n",
      "Points in the community: 9799\n",
      "Points in the community: 9886\n",
      "Points in the community: 8142\n",
      "Points in the community: 7675\n",
      "Points in the community: 11212\n",
      "Points in the community: 9407\n",
      "Points in the community: 10037\n",
      "Points in the community: 10990\n",
      "Points in the community: 9566\n",
      "Points in the community: 8387\n",
      "Points in the community: 9649\n",
      "Points in the community: 9969\n",
      "Points in the community: 8715\n",
      "Points in the community: 11404\n",
      "Points in the community: 8691\n",
      "Points in the community: 4136\n",
      "Points in the community: 4233\n",
      "Points in the community: 3709\n",
      "Points in the community: 3474\n",
      "Points in the community: 3680\n",
      "Points in the community: 3897\n",
      "Points in the community: 3554\n",
      "Points in the community: 4382\n",
      "Points in the community: 4168\n",
      "Points in the community: 3845\n",
      "Points in the community: 4029\n",
      "Points in the community: 4642\n",
      "Points in the community: 4180\n",
      "Points in the community: 4487\n",
      "Points in the community: 4606\n",
      "Points in the community: 4138\n",
      "Points in the community: 4643\n",
      "Points in the community: 4204\n",
      "Points in the community: 3706\n",
      "Points in the community: 4820\n",
      "Points in the community: 3590\n",
      "Exporting data to /mnt/Data/Data/PF/ENSEMBLE/ENSEMBLE_SA/Comm_IMERG_05x05_sync_summer_P90_tau3_SP95.csv\n"
     ]
    }
   ],
   "source": [
    "levels = np.arange(0.5,20.5,0.5)\n",
    "\n",
    "for nn in range(63):\n",
    "\n",
    "    data = pd.read_csv(file_list['file_name'][nn], sep=',')\n",
    "    data[data==-88.88] = np.nan\n",
    "    data[data==-99.99] = np.nan\n",
    "\n",
    "    PF_GPD = gpd.GeoDataFrame(data[data.columns[2:]], geometry=gpd.points_from_xy(data['lon'],data['lat'], crs=\"EPSG:4326\"))\n",
    "\n",
    "    comm_GPD = gpd.read_file('/mnt/Data/Github/Complex-Network-AS/mapping/communities/'+Comunidad_file+'.shp')\n",
    "\n",
    "    num_comm = len(comm_GPD['geometry'])\n",
    "    num_points = len(PF_GPD['geometry']) \n",
    "\n",
    "    points_interception = []  \n",
    "\n",
    "    for t in range(num_points):\n",
    "\n",
    "        if comm_GPD['geometry'][0].contains(PF_GPD['geometry'][t]) == True:\n",
    "            points_interception.append(t)\n",
    "\n",
    "    dic_tmp = data.loc[points_interception]\n",
    "    dic_tmp = dic_tmp.reset_index(drop=True)\n",
    "\n",
    "    if nn == 0:\n",
    "        dict_out = dic_tmp\n",
    "\n",
    "    else:\n",
    "        dict_out = pd.concat([dic_tmp, dict_out], axis=0)\n",
    "\n",
    "    print(f'Points in the community: {len(dic_tmp)}')\n",
    "\n",
    "# export dataframe to csv\n",
    "salida = '/mnt/Data/Data/PF/ENSEMBLE/ENSEMBLE_SA/'+Comunidad_file+'.csv'\n",
    "print(f'Exporting data to {salida}')\n",
    "dict_out.to_csv(salida,header=True,index=False)"
   ]
  },
  {
   "cell_type": "code",
   "execution_count": null,
   "metadata": {},
   "outputs": [],
   "source": []
  }
 ],
 "metadata": {
  "kernelspec": {
   "display_name": "Python 3.9.7 ('AXE')",
   "language": "python",
   "name": "python3"
  },
  "language_info": {
   "codemirror_mode": {
    "name": "ipython",
    "version": 3
   },
   "file_extension": ".py",
   "mimetype": "text/x-python",
   "name": "python",
   "nbconvert_exporter": "python",
   "pygments_lexer": "ipython3",
   "version": "3.9.7"
  },
  "orig_nbformat": 4,
  "vscode": {
   "interpreter": {
    "hash": "c6c4883052875ec3257edf99ee092a790b9a432228222ee7e742d4f8a559e5a8"
   }
  }
 },
 "nbformat": 4,
 "nbformat_minor": 2
}

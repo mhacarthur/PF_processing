{
 "cells": [
  {
   "cell_type": "code",
   "execution_count": 1,
   "metadata": {},
   "outputs": [
    {
     "name": "stderr",
     "output_type": "stream",
     "text": [
      "/home/arturo/anaconda3/envs/AXE/lib/python3.9/site-packages/geopandas/_compat.py:112: UserWarning: The Shapely GEOS version (3.11.0-CAPI-1.17.0) is incompatible with the GEOS version PyGEOS was compiled with (3.9.1-CAPI-1.14.2). Conversions between both will be slow.\n",
      "  warnings.warn(\n"
     ]
    }
   ],
   "source": [
    "import os\n",
    "import glob\n",
    "import json\n",
    "import numpy as np\n",
    "import pandas as pd\n",
    "import geopandas as gpd\n",
    "import clima_anom as ca\n",
    "\n",
    "import matplotlib.cbook\n",
    "import matplotlib.pyplot as plt\n",
    "import matplotlib.gridspec as gridspec\n",
    "\n",
    "import cartopy\n",
    "import cartopy.feature as cf\n",
    "import cartopy.crs as ccrs\n",
    "import cartopy.feature as cfeature\n",
    "import cartopy.io.shapereader as shpreader"
   ]
  },
  {
   "cell_type": "code",
   "execution_count": 2,
   "metadata": {},
   "outputs": [],
   "source": [
    "# json_method = 'AMA_pearson'\n",
    "# json_method = 'AMA_spearman'\n",
    "# json_method = 'AMA_kendall'\n",
    "json_method = 'SA_sync'"
   ]
  },
  {
   "cell_type": "code",
   "execution_count": 3,
   "metadata": {},
   "outputs": [
    {
     "name": "stdout",
     "output_type": "stream",
     "text": [
      "Read json: ../../../Complex-Network-AS/json/SA_sync.json\n"
     ]
    }
   ],
   "source": [
    "with open ('../../json/directories.json') as f:\n",
    "    dirs = json.load(f)\n",
    "\n",
    "json_read = dirs['json_CN'] + json_method+'.json'\n",
    "print(f'Read json: {json_read}')\n",
    "\n",
    "with open (json_read) as f:\n",
    "    info = json.load(f)"
   ]
  },
  {
   "cell_type": "code",
   "execution_count": 4,
   "metadata": {},
   "outputs": [
    {
     "name": "stdout",
     "output_type": "stream",
     "text": [
      "Product   : IMERG\n",
      "Region   : SA\n",
      "\n",
      "Season    : summer\n",
      "Pentad    : no\n",
      "Ocean     : noc\n",
      "\n",
      "Method    : sync\n",
      "\n",
      "Tau       : 3\n",
      "\n",
      "Percentile Limit: 90\n",
      "Centered        : no\n",
      "Normalized      : no\n",
      "\n",
      "Remove Serie with min mean : 1\n",
      "Remove Serie with rain < 1 : yes\n",
      "Minimun link value (MLV)   : 98%\n"
     ]
    }
   ],
   "source": [
    "product = info['product']\n",
    "season = info['season']\n",
    "region = info['region']\n",
    "pentad = info['pentad']\n",
    "ocean = info['ocean']\n",
    "method = info['method']\n",
    "centrado = info['centrado']\n",
    "normalized = info['normalized']\n",
    "\n",
    "percentile_limit = info['percentile_limit']\n",
    "tau = info['tau']\n",
    "\n",
    "min_mean = info['remove_serie_min_mean']\n",
    "MLV = info['Percent_links_ignore']\n",
    "rain_LT1 = info['remove_rain_LT_1']\n",
    "\n",
    "# font = os.environ['COMPUTERNAME']\n",
    "\n",
    "# print(f'Font      : {font}')\n",
    "print(f'Product   : {product}')\n",
    "print(f'Region   : {region}')\n",
    "print()\n",
    "print(f'Season    : {season}')\n",
    "print(f'Pentad    : {pentad}')\n",
    "print(f'Ocean     : {ocean}')\n",
    "print()\n",
    "print(f'Method    : {method}')\n",
    "print()\n",
    "print(f'Tau       : {tau}')\n",
    "print()\n",
    "print(f'Percentile Limit: {percentile_limit}')\n",
    "print(f'Centered        : {centrado}')\n",
    "print(f'Normalized      : {normalized}')\n",
    "print()\n",
    "print(f'Remove Serie with min mean : {min_mean}')\n",
    "print(f'Remove Serie with rain < 1 : {rain_LT1}')\n",
    "print(f'Minimun link value (MLV)   : {MLV}%')\n",
    "\n",
    "if rain_LT1 == 'yes':\n",
    "    LT_1 = 'LT1Y'\n",
    "else:\n",
    "    LT_1 = 'LT1N'\n",
    "\n",
    "if percentile_limit == 90 or percentile_limit == 95 or percentile_limit == 99:\n",
    "    PL_limit = percentile_limit\n",
    "else:\n",
    "    PL_limit = 'N'\n",
    "\n",
    "if ocean == 'woc':\n",
    "    OC = 'WOC'\n",
    "else:\n",
    "    OC = 'NOC'\n",
    "\n",
    "if tau == 'no':\n",
    "    TA = 'TAUN'\n",
    "else:\n",
    "    TA = 'TAU'+str(tau)"
   ]
  },
  {
   "cell_type": "code",
   "execution_count": 5,
   "metadata": {},
   "outputs": [
    {
     "name": "stdout",
     "output_type": "stream",
     "text": [
      "idell\n",
      "Export dir: /mnt/Data/Data/PF/ENSEMBLE/ENSEMBLE_SA/sync/\n"
     ]
    }
   ],
   "source": [
    "if os.environ['COMPUTERNAME'] == 'DELL_LAPTOP':\n",
    "    export_dir = 'D:/Data/PF/ENSEMBLE/ENSEMBLE_SA/' + method + '/'\n",
    "    PF_ensemble_files = 'D:\\Data\\PF\\ENSEMBLE\\list\\TRMM_GPM_summer_200012_2021_02.csv'\n",
    "else:\n",
    "    export_dir = dirs['dir_ENSEMBLE'] + method + '/'\n",
    "    PF_ensemble_files = dirs['dir_ENSEMBLE_list']\n",
    "\n",
    "print(os.environ['COMPUTERNAME'])\n",
    "print(f'Export dir: {export_dir}')"
   ]
  },
  {
   "cell_type": "code",
   "execution_count": 6,
   "metadata": {},
   "outputs": [
    {
     "name": "stdout",
     "output_type": "stream",
     "text": [
      "Comms file: SA_IMERG_05x05_sync_summer_LT1Y_PL90_PEN_MM1_MLV2_TAU3\n"
     ]
    }
   ],
   "source": [
    "comms_file = region+'_'+product+'_05x05_'+method+'_'+season+'_'+LT_1+'_PL'+str(PL_limit)+'_PEN_MM'+str(min_mean)+'_MLV'+str(100-MLV)+'_'+TA\n",
    "print(f'Comms file: {comms_file}')"
   ]
  },
  {
   "cell_type": "code",
   "execution_count": 7,
   "metadata": {},
   "outputs": [
    {
     "name": "stdout",
     "output_type": "stream",
     "text": [
      "Files Number: 63\n",
      "/mnt/Data/Data/PF/TRMM/rpf_SA/rpf_200012_level2.csv\n",
      "/mnt/Data/Data/PF/GPM/rgpf_SA/rgpf_202102_level2.csv\n"
     ]
    }
   ],
   "source": [
    "file_list = pd.read_csv(PF_ensemble_files + 'TRMM_GPM_summer_200012_2021_02.csv')\n",
    "len_files = len(file_list)\n",
    "print(f'Files Number: {len_files}')\n",
    "print(file_list['file_name'].iloc[0])\n",
    "print(file_list['file_name'].iloc[-1])"
   ]
  },
  {
   "cell_type": "code",
   "execution_count": 8,
   "metadata": {},
   "outputs": [
    {
     "data": {
      "text/plain": [
       "array([1, 2])"
      ]
     },
     "execution_count": 8,
     "metadata": {},
     "output_type": "execute_result"
    }
   ],
   "source": [
    "communities_poligon = gpd.read_file(dirs['dir_comm'] + comms_file + '.geojson')\n",
    "communities_index = communities_poligon['id'].values.astype(int)\n",
    "communities_index"
   ]
  },
  {
   "cell_type": "code",
   "execution_count": 9,
   "metadata": {},
   "outputs": [
    {
     "name": "stdout",
     "output_type": "stream",
     "text": [
      "Number of Communities: 2\n"
     ]
    }
   ],
   "source": [
    "Comunidad_file = dirs['dir_comm'] + comms_file + '.shp'\n",
    "Comunidades = gpd.read_file(Comunidad_file)\n",
    "num_comm = len(Comunidades)\n",
    "print(f'Number of Communities: {num_comm}')"
   ]
  },
  {
   "cell_type": "code",
   "execution_count": 10,
   "metadata": {},
   "outputs": [
    {
     "data": {
      "text/plain": [
       "'/mnt/Data/Data/PF/ENSEMBLE/ENSEMBLE_SA/sync/SA_IMERG_05x05_sync_summer_LT1Y_PL90_PEN_MM1_MLV2_TAU3_C001.csv'"
      ]
     },
     "execution_count": 10,
     "metadata": {},
     "output_type": "execute_result"
    }
   ],
   "source": [
    "# test names\n",
    "comm_id = communities_index[0]\n",
    "comm_name = comms_file + '_C'+str(comm_id).zfill(3)\n",
    "salida = export_dir + comm_name + '.csv'\n",
    "salida"
   ]
  },
  {
   "cell_type": "code",
   "execution_count": 11,
   "metadata": {},
   "outputs": [
    {
     "name": "stdout",
     "output_type": "stream",
     "text": [
      "Community: 0\n",
      "Exporting data to /mnt/Data/Data/PF/ENSEMBLE/ENSEMBLE_SA/sync/SA_IMERG_05x05_sync_summer_LT1Y_PL90_PEN_MM1_MLV2_TAU3_C001.csv\n",
      "Community: 1\n",
      "Exporting data to /mnt/Data/Data/PF/ENSEMBLE/ENSEMBLE_SA/sync/SA_IMERG_05x05_sync_summer_LT1Y_PL90_PEN_MM1_MLV2_TAU3_C002.csv\n"
     ]
    }
   ],
   "source": [
    "for comm_id in range(num_comm):\n",
    "\n",
    "    comm_id_new = communities_index[comm_id]\n",
    "    print(f'Community: {comm_id}')\n",
    "\n",
    "    for nn in range(len_files):\n",
    "\n",
    "        if os.environ['COMPUTERNAME'] == 'DELL_LAPTOP':\n",
    "            data = pd.read_csv(file_list['file_name'][nn].replace('/mnt/Data/Data/PF/','D:/Data/PF/'))\n",
    "        else:\n",
    "            data = pd.read_csv(file_list['file_name'][nn], sep=',')\n",
    "\n",
    "        data[data==-88.88] = np.nan\n",
    "        data[data==-99.99] = np.nan\n",
    "\n",
    "        PF_GPD = gpd.GeoDataFrame(data[data.columns[2:]], geometry=gpd.points_from_xy(data['lon'],data['lat'], crs=\"EPSG:4326\"))\n",
    "        num_points = len(PF_GPD['geometry']) \n",
    "\n",
    "        points_interception = [] \n",
    "\n",
    "        for t in range(num_points):\n",
    "\n",
    "            if Comunidades['geometry'][comm_id].contains(PF_GPD['geometry'][t]) == True:\n",
    "                points_interception.append(t)\n",
    "\n",
    "        dic_tmp = data.loc[points_interception]\n",
    "        dic_tmp = dic_tmp.reset_index(drop=True)\n",
    "\n",
    "        if nn == 0:\n",
    "            dict_out = dic_tmp\n",
    "\n",
    "        else:\n",
    "            dict_out = pd.concat([dic_tmp, dict_out], axis=0)\n",
    "\n",
    "        # print(f'Points in the community: {len(dic_tmp)}')\n",
    "\n",
    "    comm_name = comms_file + '_C'+str(comm_id_new).zfill(3)\n",
    "    salida = export_dir + comm_name + '.csv'\n",
    "    print(f'Exporting data to {salida}')\n",
    "    dict_out.to_csv(salida,header=True,index=False)"
   ]
  },
  {
   "cell_type": "code",
   "execution_count": 12,
   "metadata": {},
   "outputs": [],
   "source": [
    "# Comunidad_file = 'Comm_IMERG_05x05_sync_summer_P90_tau3_SP95'\n",
    "# comm_id = 1\n",
    "# comm_name = 'C'+str(comm_id+1).zfill(2)\n",
    "# print(comm_name)\n",
    "\n",
    "# levels = np.arange(0.5,20.5,0.5)\n",
    "\n",
    "# for nn in range(63):\n",
    "\n",
    "#     data = pd.read_csv(file_list['file_name'][nn], sep=',')\n",
    "#     data[data==-88.88] = np.nan\n",
    "#     data[data==-99.99] = np.nan\n",
    "\n",
    "#     PF_GPD = gpd.GeoDataFrame(data[data.columns[2:]], geometry=gpd.points_from_xy(data['lon'],data['lat'], crs=\"EPSG:4326\"))\n",
    "\n",
    "#     comm_GPD = gpd.read_file(DIRS['dir_communities']'+Comunidad_file+'.shp')\n",
    "\n",
    "#     num_comm = len(comm_GPD['geometry'])\n",
    "#     num_points = len(PF_GPD['geometry']) \n",
    "\n",
    "#     points_interception = []  \n",
    "\n",
    "#     for t in range(num_points):\n",
    "\n",
    "#         if comm_GPD['geometry'][comm_id].contains(PF_GPD['geometry'][t]) == True:\n",
    "#             points_interception.append(t)\n",
    "\n",
    "#     dic_tmp = data.loc[points_interception]\n",
    "#     dic_tmp = dic_tmp.reset_index(drop=True)\n",
    "\n",
    "#     if nn == 0:\n",
    "#         dict_out = dic_tmp\n",
    "\n",
    "#     else:\n",
    "#         dict_out = pd.concat([dic_tmp, dict_out], axis=0)\n",
    "\n",
    "#     print(f'Points in the community: {len(dic_tmp)}')\n",
    "\n",
    "# # export dataframe to csv\n",
    "# salida = '/mnt/Data/Data/PF/ENSEMBLE/ENSEMBLE_SA/'+Comunidad_file+'_'+comm_name+'.csv'\n",
    "# print(f'Exporting data to {salida}')\n",
    "# dict_out.to_csv(salida,header=True,index=False)"
   ]
  },
  {
   "cell_type": "code",
   "execution_count": null,
   "metadata": {},
   "outputs": [],
   "source": []
  }
 ],
 "metadata": {
  "kernelspec": {
   "display_name": "Python 3.9.13 ('AXE')",
   "language": "python",
   "name": "python3"
  },
  "language_info": {
   "codemirror_mode": {
    "name": "ipython",
    "version": 3
   },
   "file_extension": ".py",
   "mimetype": "text/x-python",
   "name": "python",
   "nbconvert_exporter": "python",
   "pygments_lexer": "ipython3",
   "version": "3.9.13"
  },
  "orig_nbformat": 4,
  "vscode": {
   "interpreter": {
    "hash": "c6c4883052875ec3257edf99ee092a790b9a432228222ee7e742d4f8a559e5a8"
   }
  }
 },
 "nbformat": 4,
 "nbformat_minor": 2
}

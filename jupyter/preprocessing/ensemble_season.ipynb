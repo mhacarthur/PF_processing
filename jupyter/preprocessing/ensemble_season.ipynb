{
 "cells": [
  {
   "cell_type": "code",
   "execution_count": 43,
   "metadata": {},
   "outputs": [],
   "source": [
    "import os\n",
    "import glob\n",
    "import json\n",
    "import numpy as np\n",
    "import pandas as pd"
   ]
  },
  {
   "cell_type": "code",
   "execution_count": 2,
   "metadata": {},
   "outputs": [],
   "source": [
    "season = 'summer'"
   ]
  },
  {
   "cell_type": "code",
   "execution_count": 27,
   "metadata": {},
   "outputs": [
    {
     "name": "stdout",
     "output_type": "stream",
     "text": [
      "Season: summer\n",
      "Months: [12, 1, 2]\n"
     ]
    }
   ],
   "source": [
    "with open ('../../json/directories.json') as f:\n",
    "    DIRS = json.load(f)\n",
    "\n",
    "if season == 'summer':\n",
    "    months = [12, 1, 2]\n",
    "    \n",
    "elif season == 'autumn':\n",
    "    months = [3, 4, 5]\n",
    "\n",
    "elif season == 'winter':\n",
    "    months = [6, 7, 8]\n",
    "\n",
    "elif season == 'spring':\n",
    "    months = [9, 10, 11]\n",
    "    \n",
    "else:\n",
    "    raise ValueError('Season not recognized')\n",
    "\n",
    "print(f'Season: {season}')\n",
    "print(f'Months: {months}')"
   ]
  },
  {
   "cell_type": "code",
   "execution_count": 34,
   "metadata": {},
   "outputs": [
    {
     "name": "stdout",
     "output_type": "stream",
     "text": [
      "Number of TRMM files: 159\n",
      "Number of TRMM files in summer: 42\n"
     ]
    }
   ],
   "source": [
    "list_TRMM = glob.glob(DIRS['dir_TRMM_SA']+'*.csv')\n",
    "list_TRMM = sorted(list_TRMM)\n",
    "print(f'Number of TRMM files: {len(list_TRMM)}')\n",
    "\n",
    "season_TRMM = []\n",
    "\n",
    "for t in range(len(list_TRMM)):\n",
    "    \n",
    "    file_name = list_TRMM[t]\n",
    "\n",
    "    year = file_name.split('/')[-1].split('_')[1][0:4]\n",
    "    month = file_name.split('/')[-1].split('_')[1][4:6]\n",
    "\n",
    "    if int(month) in months:\n",
    "        # print(year, month)\n",
    "        season_TRMM.append(file_name)\n",
    "\n",
    "print(f'Number of TRMM files in {season}: {len(season_TRMM)}')"
   ]
  },
  {
   "cell_type": "code",
   "execution_count": 36,
   "metadata": {},
   "outputs": [
    {
     "name": "stdout",
     "output_type": "stream",
     "text": [
      "Number of TRMM files: 84\n",
      "Number of TRMM files in summer: 21\n"
     ]
    }
   ],
   "source": [
    "list_GPM = glob.glob(DIRS['dir_GPM_SA']+'*.csv')\n",
    "list_GPM = sorted(list_GPM)\n",
    "print(f'Number of TRMM files: {len(list_GPM)}')\n",
    "\n",
    "season_GPM = []\n",
    "\n",
    "for t in range(len(list_GPM)):\n",
    "    \n",
    "    file_name = list_GPM[t]\n",
    "\n",
    "    year = file_name.split('/')[-1].split('_')[1][0:4]\n",
    "    month = file_name.split('/')[-1].split('_')[1][4:6]\n",
    "\n",
    "    if int(month) in months:\n",
    "        # print(year, month)\n",
    "        season_GPM.append(file_name)\n",
    "\n",
    "print(f'Number of TRMM files in {season}: {len(season_GPM)}')"
   ]
  },
  {
   "cell_type": "code",
   "execution_count": 42,
   "metadata": {},
   "outputs": [],
   "source": [
    "season_list = season_TRMM + season_GPM"
   ]
  },
  {
   "cell_type": "code",
   "execution_count": 44,
   "metadata": {},
   "outputs": [],
   "source": [
    "df = pd.DataFrame(season_list, columns=['file_name'])"
   ]
  },
  {
   "cell_type": "code",
   "execution_count": 47,
   "metadata": {},
   "outputs": [],
   "source": [
    "df.to_csv('/mnt/Data/Data/PF/ENSEMBLE/list/TRMM_GPM_'+season+'_200012_2021_02.csv', index=False)"
   ]
  }
 ],
 "metadata": {
  "kernelspec": {
   "display_name": "Python 3.9.7 ('AXE')",
   "language": "python",
   "name": "python3"
  },
  "language_info": {
   "codemirror_mode": {
    "name": "ipython",
    "version": 3
   },
   "file_extension": ".py",
   "mimetype": "text/x-python",
   "name": "python",
   "nbconvert_exporter": "python",
   "pygments_lexer": "ipython3",
   "version": "3.9.7"
  },
  "orig_nbformat": 4,
  "vscode": {
   "interpreter": {
    "hash": "c6c4883052875ec3257edf99ee092a790b9a432228222ee7e742d4f8a559e5a8"
   }
  }
 },
 "nbformat": 4,
 "nbformat_minor": 2
}

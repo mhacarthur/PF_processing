{
 "cells": [
  {
   "cell_type": "code",
   "execution_count": 1,
   "metadata": {},
   "outputs": [],
   "source": [
    "import glob\n",
    "import numpy as np\n",
    "import pandas as pd\n",
    "\n",
    "import clima_anom as ca\n",
    "\n",
    "import matplotlib.cbook\n",
    "import matplotlib.pyplot as plt\n",
    "import matplotlib.gridspec as gridspec\n",
    "\n",
    "import cartopy\n",
    "import cartopy.crs as ccrs"
   ]
  },
  {
   "cell_type": "markdown",
   "metadata": {},
   "source": [
    "### Used Variables Description\n",
    "- NPIXELS_XXDBZ: Number of pixels with XX dbz - (20, 30, 40 and 50)\n",
    "- NPIXELS_XXMM : Number of tmi rain pixels - (20, 30, 40 and 50)\n",
    "- VOLRAIN_XXDBZ: Volumetric rainfall from area with 20 dBZ (km^2 mm/hr) - (20, 30, 40 and 50)\n",
    "- VOLRAIN_XXMM: volumetric rain from 2A.PR (km^2 mm/hr) - (20, 30, 40 and 50)\n",
    "- MINXXPCT: Minimum XX GHz polarization correction TB (K) - (85 and 37)\n",
    "- NLTXXX: Number of PR pixels with 85 GHz PCT < XXX K (#) - (250 and 225)\n",
    "- N37LTXXX: Number of pixels with 37 GHz PCT < XXXK (#) - (250 and 225)\n",
    "- MAXHTXX: Maximum height reached by the feature with XX dBZ (km) - (20, 30 and 40)\n",
    "- NSTRAT_2A25/NCONV_2A25: Number of pixels with stratiform/convective rainfall (#)\n",
    "- RAINSTRAT_2A25/RAINCONV_2A25: Stratiform/Convective volumetric rain (mm/hr*km^2)\n",
    "- MAXNSRAIN: Maximum 2A.PR nearsurface rainfall rate (mm/hr) - TRMM\n",
    "- MAXNSPRECIP:Maximum near surface precip rate (mm/hr) - GPM"
   ]
  },
  {
   "cell_type": "code",
   "execution_count": 2,
   "metadata": {},
   "outputs": [],
   "source": [
    "satellite = 'TRMM'\n",
    "# satellite = 'GPM'"
   ]
  },
  {
   "cell_type": "code",
   "execution_count": 3,
   "metadata": {},
   "outputs": [
    {
     "name": "stdout",
     "output_type": "stream",
     "text": [
      "Satellite: TRMM\n",
      "Product  : rpf\n",
      "Directory: /mnt/Data/Data/PF/TRMM/rpf/*.HDF\n"
     ]
    }
   ],
   "source": [
    "if satellite == 'TRMM':\n",
    "    product = 'rpf'\n",
    "    dir_input = '/mnt/Data/Data/PF/TRMM/rpf/*.HDF'\n",
    "    out_input = '/mnt/Data/Data/PF/TRMM/rpf_SA/'\n",
    "\n",
    "    list_var = ['YEAR','MONTH','DAY','HOUR','ORBIT',\n",
    "                'NPIXELS_20DBZ', 'NPIXELS_30DBZ','NPIXELS_40DBZ',\n",
    "                'NPIXELS_20MM', 'NPIXELS_30MM', 'NPIXELS_40MM',\n",
    "                'VOLRAIN_20DBZ', 'VOLRAIN_30DBZ', 'VOLRAIN_40DBZ',\n",
    "                'MAXNSRAIN',\n",
    "                'MIN85PCT', 'MIN37PCT',\n",
    "                'NLT250','NLT225',\n",
    "                'N37LT250','N37LT225',\n",
    "                'MAXHT20','MAXHT30','MAXHT40',\n",
    "                'NSTRAT_2A25', 'RAINSTRAT_2A25',\n",
    "                'NCONV_2A25', 'RAINCONV_2A25']\n",
    "\n",
    "elif satellite == 'GPM':\n",
    "    product = 'rgpf'\n",
    "    dir_input = '/mnt/Data/Data/PF/GPM/rgpf/*.HDF'\n",
    "    out_input = '/mnt/Data/Data/PF/GPM/rgpf_SA/'\n",
    "\n",
    "    list_var = ['YEAR','MONTH','DAY','HOUR','ORBIT',\n",
    "                'NPIXELS_20DBZ', 'NPIXELS_30DBZ','NPIXELS_40DBZ',\n",
    "                'NPIXELS_20MM', 'NPIXELS_30MM', 'NPIXELS_40MM',\n",
    "                'VOLRAIN_20DBZ', 'VOLRAIN_30DBZ', 'VOLRAIN_40DBZ',\n",
    "                'MAXNSPRECIP',\n",
    "                'MIN85PCT', 'MIN37PCT',\n",
    "                'NLT250','NLT225',\n",
    "                'N37LT250','N37LT225',\n",
    "                'MAXHT20','MAXHT30','MAXHT40',\n",
    "                'NSTRAT_KU','RAINSTRAT_KU',\n",
    "                'NCONV_KU','RAINCONV_KU']\n",
    "\n",
    "else:\n",
    "    raise ValueError('Invalid satellite')\n",
    "\n",
    "print(f'Satellite: {satellite}')\n",
    "print(f'Product  : {product}')\n",
    "print(f'Directory: {dir_input}')"
   ]
  },
  {
   "cell_type": "code",
   "execution_count": 6,
   "metadata": {},
   "outputs": [
    {
     "name": "stdout",
     "output_type": "stream",
     "text": [
      "159 files found\n"
     ]
    },
    {
     "data": {
      "text/plain": [
       "['/mnt/Data/Data/PF/TRMM/rpf/pf_200012_level2.HDF',\n",
       " '/mnt/Data/Data/PF/TRMM/rpf/pf_200101_level2.HDF']"
      ]
     },
     "execution_count": 6,
     "metadata": {},
     "output_type": "execute_result"
    }
   ],
   "source": [
    "list_files = glob.glob(dir_input)\n",
    "list_files = sorted(list_files)\n",
    "len_files = len(list_files)\n",
    "print(f'{len_files} files found')\n",
    "list_files[0:2]\n",
    "\n",
    "# data = ca.read_netcdf(list_files[0],2)"
   ]
  },
  {
   "cell_type": "code",
   "execution_count": null,
   "metadata": {},
   "outputs": [],
   "source": [
    "levels_reflec = np.arange(0.5, 20.5, 0.5)\n",
    "\n",
    "for nn in range(len_files):\n",
    "\n",
    "    file_input = list_files[nn]\n",
    "    print(file_input)\n",
    "\n",
    "    data = ca.read_netcdf(file_input,0)\n",
    "    lat = data['LAT'].data\n",
    "    lon = data['LON'].data\n",
    "\n",
    "    data_in = np.zeros([len(lat),len(list_var)])\n",
    "\n",
    "    for t in range(len(list_var)):\n",
    "        data_in[:,t] = np.round(data[list_var[t]].data,2)\n",
    "\n",
    "    pd_in = pd.DataFrame(data_in, columns=list_var)\n",
    "    pd_in.insert(0, \"lat\", lat, True)\n",
    "    pd_in.insert(1, \"lon\", lon, True)\n",
    "\n",
    "    data_RL = data['MAXDBZ'].data\n",
    "    if satellite == 'TRMM':\n",
    "        data_RL = data_RL*0.01\n",
    "    data_RL[data_RL < 0] = np.nan\n",
    "    RL_dict = pd.DataFrame(data_RL, columns=levels_reflec)\n",
    "\n",
    "    result = pd.concat([pd_in, RL_dict], axis=1)\n",
    "\n",
    "    # South America Region\n",
    "    out1 = result[(result['lon'] >= -85) & (result['lon'] <= -30 )]\n",
    "    out2 = out1[(out1['lat'] >= -45) & (out1['lat'] <= 15 )]\n",
    "\n",
    "    if satellite == 'TRMM':\n",
    "        out2=out2.rename(columns = {'NSTRAT_2A25':'NSTRAT'})\n",
    "        out2=out2.rename(columns = {'RAINSTRAT_2A25':'RAINSTRAT'})\n",
    "        out2=out2.rename(columns = {'NCONV_2A25':'NCONV'})\n",
    "        out2=out2.rename(columns = {'RAINCONV_2A25':'RAINCONV'})\n",
    "\n",
    "    elif satellite == 'GPM':\n",
    "        out2=out2.rename(columns = {'MAXNSPRECIP':'MAXNSRAIN'})\n",
    "        out2=out2.rename(columns = {'NSTRAT_KU':'NSTRAT'})\n",
    "        out2=out2.rename(columns = {'RAINSTRAT_KU':'RAINSTRAT'})\n",
    "        out2=out2.rename(columns = {'NCONV_KU':'NCONV'})\n",
    "        out2=out2.rename(columns = {'RAINCONV_KU':'RAINCONV'})\n",
    "\n",
    "    else:\n",
    "        raise ValueError('Invalid satellite')\n",
    "\n",
    "    out2 = out2.astype({'YEAR':int, 'MONTH':int, 'DAY':int, 'HOUR':int, 'ORBIT':int, \n",
    "                    'NPIXELS_20DBZ':int, 'NPIXELS_30DBZ':int, 'NPIXELS_40DBZ':int,\n",
    "                    'NPIXELS_20MM':int, 'NPIXELS_30MM':int, 'NPIXELS_40MM':int,\n",
    "                    'NSTRAT':int, 'NCONV':int})\n",
    "\n",
    "    # export dataframe to csv\n",
    "    salida = out_input + file_input.split('/')[-1].replace('.HDF','.csv').replace('pf',product)\n",
    "    print(f'Exporting data to {salida}')\n",
    "    out2.to_csv(salida,header=True,index=False)\n",
    "\n",
    "    print()"
   ]
  },
  {
   "cell_type": "code",
   "execution_count": null,
   "metadata": {},
   "outputs": [],
   "source": [
    "out2"
   ]
  },
  {
   "cell_type": "code",
   "execution_count": null,
   "metadata": {},
   "outputs": [],
   "source": [
    "alt_ref = 10\n",
    "\n",
    "proj = ccrs.PlateCarree()\n",
    "cmap = plt.cm.Spectral_r\n",
    "\n",
    "fig = plt.figure(figsize=(7,4),dpi=200)\n",
    "gs = gridspec.GridSpec(1,2)\n",
    "\n",
    "ax1 = plt.subplot(gs[0, 0], projection = proj)\n",
    "ax1.coastlines(linestyle='-',linewidth=0.2,color='black',zorder=4)\n",
    "ax1.set_extent([-90,-25,-50,20],crs=proj)\n",
    "a1 = ax1.scatter(out2['lon'],out2['lat'],c=out2['MAXHT40'],cmap=cmap,s=0.1,zorder=3)\n",
    "ax1.set_title('Maximum height with 40 dBZ echo (km)',fontsize=6,loc='left')\n",
    "plt.colorbar(a1,fraction=0.041)\n",
    "\n",
    "ax1 = plt.subplot(gs[0, 1], projection = proj)\n",
    "ax1.coastlines(linestyle='-',linewidth=0.2,color='black',zorder=4)\n",
    "ax1.set_extent([-90,-25,-50,20],crs=proj)\n",
    "a1 = ax1.scatter(out2['lon'][out2['MAXHT40']>alt_ref],out2['lat'][out2['MAXHT40']>alt_ref],c=out2['MAXHT40'][out2['MAXHT40']>alt_ref],cmap=cmap,s=0.1,zorder=3)\n",
    "ax1.set_title('Maximum height with 40 dBZ echo (km) > '+str(alt_ref)+'km',fontsize=6,loc='left')\n",
    "plt.colorbar(a1,fraction=0.041)"
   ]
  },
  {
   "cell_type": "code",
   "execution_count": null,
   "metadata": {},
   "outputs": [],
   "source": []
  }
 ],
 "metadata": {
  "kernelspec": {
   "display_name": "Python 3.9.13 ('AXE')",
   "language": "python",
   "name": "python3"
  },
  "language_info": {
   "codemirror_mode": {
    "name": "ipython",
    "version": 3
   },
   "file_extension": ".py",
   "mimetype": "text/x-python",
   "name": "python",
   "nbconvert_exporter": "python",
   "pygments_lexer": "ipython3",
   "version": "3.9.13"
  },
  "orig_nbformat": 4,
  "vscode": {
   "interpreter": {
    "hash": "c6c4883052875ec3257edf99ee092a790b9a432228222ee7e742d4f8a559e5a8"
   }
  }
 },
 "nbformat": 4,
 "nbformat_minor": 2
}

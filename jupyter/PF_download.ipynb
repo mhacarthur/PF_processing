{
 "cells": [
  {
   "cell_type": "code",
   "execution_count": null,
   "metadata": {},
   "outputs": [],
   "source": [
    "import requests\n",
    "from bs4 import BeautifulSoup\n",
    "import os\n",
    "from tqdm import tqdm\n",
    "import argparse\n",
    "import threading"
   ]
  },
  {
   "cell_type": "code",
   "execution_count": null,
   "metadata": {},
   "outputs": [],
   "source": [
    "def get_subdirectories(BASE_URL):\n",
    "    res = requests.get(BASE_URL)\n",
    "    soup = BeautifulSoup(res.text, 'html.parser')\n",
    "\n",
    "    rows = soup.findAll('tr')\n",
    "\n",
    "    years = []\n",
    "    for row in rows[3:-2]:\n",
    "        row = row.find('a')\n",
    "        years.append(row.attrs['href'])\n",
    "\n",
    "    return years"
   ]
  },
  {
   "cell_type": "code",
   "execution_count": null,
   "metadata": {},
   "outputs": [],
   "source": [
    "def get_url_files(url):\n",
    "    res = requests.get(url)\n",
    "    soup = BeautifulSoup(res.text, 'html.parser')\n",
    "    \n",
    "    rows = soup.findAll('tr')\n",
    "    \n",
    "    urls = list()\n",
    "\n",
    "    for row in rows[3:-1]:\n",
    "        row  = row.find('a')\n",
    "        try:\n",
    "            link = row.attrs['href']\n",
    "            urls.append(os.path.join(url, link))\n",
    "        except:\n",
    "            pass\n",
    "    return urls"
   ]
  },
  {
   "cell_type": "code",
   "execution_count": null,
   "metadata": {},
   "outputs": [],
   "source": [
    "def download_file(url_file,file_out):\n",
    "    res = requests.get(url_file, stream=True)\n",
    "    total_size = int(res.headers['content-length'])\n",
    "\n",
    "    with open(file_out, 'wb') as handle:\n",
    "        for data in tqdm(iterable=res.iter_content(chunk_size=1024), total=total_size/1024, unit='KB'):\n",
    "            handle.write(data)\n",
    "    # print(\"Done!\")"
   ]
  },
  {
   "cell_type": "code",
   "execution_count": null,
   "metadata": {},
   "outputs": [],
   "source": [
    "product = 'rgpf'"
   ]
  },
  {
   "cell_type": "code",
   "execution_count": null,
   "metadata": {},
   "outputs": [],
   "source": [
    "BASE_URL = 'http://atmos.tamucc.edu/trmm/data/gpm/level_2/'+product+'/'\n",
    "list_files = get_subdirectories(BASE_URL)\n",
    "print(list_files)"
   ]
  },
  {
   "cell_type": "code",
   "execution_count": null,
   "metadata": {},
   "outputs": [],
   "source": [
    "for f in list_files:\n",
    "    DIR_BASE = '/mnt/Data/Data/PF/'+product+'/'\n",
    "    File_out = DIR_BASE + f\n",
    "\n",
    "    if not os.path.exists(DIR_BASE):\n",
    "        os.makedirs(DIR_BASE)\n",
    "\n",
    "    url = BASE_URL + f\n",
    "\n",
    "    if not os.path.exists(File_out):\n",
    "        print(f\"   Downloading: {f}\")\n",
    "        download_file(url,File_out)\n",
    "    else:\n",
    "        print(\"   File Exists\")\n",
    "\n",
    "    print()\n"
   ]
  },
  {
   "cell_type": "code",
   "execution_count": null,
   "metadata": {},
   "outputs": [],
   "source": []
  }
 ],
 "metadata": {
  "interpreter": {
   "hash": "c6c4883052875ec3257edf99ee092a790b9a432228222ee7e742d4f8a559e5a8"
  },
  "kernelspec": {
   "display_name": "Python 3.9.7 ('AXE')",
   "language": "python",
   "name": "python3"
  },
  "language_info": {
   "codemirror_mode": {
    "name": "ipython",
    "version": 3
   },
   "file_extension": ".py",
   "mimetype": "text/x-python",
   "name": "python",
   "nbconvert_exporter": "python",
   "pygments_lexer": "ipython3",
   "version": "3.9.7"
  },
  "orig_nbformat": 4
 },
 "nbformat": 4,
 "nbformat_minor": 2
}

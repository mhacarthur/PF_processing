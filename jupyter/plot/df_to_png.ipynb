{
 "cells": [
  {
   "cell_type": "code",
   "execution_count": 8,
   "metadata": {},
   "outputs": [],
   "source": [
    "import pandas as pd\n",
    "\n",
    "import matplotlib.cbook\n",
    "import matplotlib.pyplot as plt\n",
    "import matplotlib.gridspec as gridspec"
   ]
  },
  {
   "cell_type": "code",
   "execution_count": 2,
   "metadata": {},
   "outputs": [],
   "source": [
    "var_name = ['Kurpf',\n",
    "            'Karpf',\n",
    "            'dprrpf',\n",
    "            'kurppf',\n",
    "            'gpf',\n",
    "            'kuclconvf',\n",
    "            'rgpf',\n",
    "            'ggpf',\n",
    "            'gpctf']"
   ]
  },
  {
   "cell_type": "code",
   "execution_count": 3,
   "metadata": {},
   "outputs": [],
   "source": [
    "description = [ 'area with Ku near surface precipitation rate > 0 (Normal Swath)',\n",
    "                'area with Ka near surface precipitation rate > 0 (High Resolution Swath)',\n",
    "                'area with DPR near surface precipitation rate >0 (Marched Swath)',\n",
    "                'area with Ku dBZ > 10 dBZ in the column (Ku normal swath)',\n",
    "                'area with GMI precipitation rate > 0.1 mm/hr (Ku normal swath)',\n",
    "                'area with Ku convective precipitation (Normal Swath)',\n",
    "                'area with either Ku precipitation rate > 0 or GMI precipitation rate > 0.1 mm/hr (Ku Normal Swath)',\n",
    "                'area with GMI precipitation rate > 0.1 mm/hr (GMI swath)',\n",
    "                'area with GMI 85 GHz polarization corrected temperature < 250 K (GMI swath)']"
   ]
  },
  {
   "cell_type": "code",
   "execution_count": 6,
   "metadata": {},
   "outputs": [
    {
     "data": {
      "text/html": [
       "<div>\n",
       "<style scoped>\n",
       "    .dataframe tbody tr th:only-of-type {\n",
       "        vertical-align: middle;\n",
       "    }\n",
       "\n",
       "    .dataframe tbody tr th {\n",
       "        vertical-align: top;\n",
       "    }\n",
       "\n",
       "    .dataframe thead th {\n",
       "        text-align: right;\n",
       "    }\n",
       "</style>\n",
       "<table border=\"1\" class=\"dataframe\">\n",
       "  <thead>\n",
       "    <tr style=\"text-align: right;\">\n",
       "      <th></th>\n",
       "      <th>var_name</th>\n",
       "      <th>description</th>\n",
       "    </tr>\n",
       "  </thead>\n",
       "  <tbody>\n",
       "    <tr>\n",
       "      <th>0</th>\n",
       "      <td>Kurpf</td>\n",
       "      <td>area with Ku near surface precipitation rate &gt;...</td>\n",
       "    </tr>\n",
       "    <tr>\n",
       "      <th>1</th>\n",
       "      <td>Karpf</td>\n",
       "      <td>area with Ka near surface precipitation rate &gt;...</td>\n",
       "    </tr>\n",
       "    <tr>\n",
       "      <th>2</th>\n",
       "      <td>dprrpf</td>\n",
       "      <td>area with DPR near surface precipitation rate ...</td>\n",
       "    </tr>\n",
       "    <tr>\n",
       "      <th>3</th>\n",
       "      <td>kurppf</td>\n",
       "      <td>area with Ku dBZ &gt; 10 dBZ in the column (Ku no...</td>\n",
       "    </tr>\n",
       "    <tr>\n",
       "      <th>4</th>\n",
       "      <td>gpf</td>\n",
       "      <td>area with GMI precipitation rate &gt; 0.1 mm/hr (...</td>\n",
       "    </tr>\n",
       "    <tr>\n",
       "      <th>5</th>\n",
       "      <td>kuclconvf</td>\n",
       "      <td>area with Ku convective precipitation (Normal ...</td>\n",
       "    </tr>\n",
       "    <tr>\n",
       "      <th>6</th>\n",
       "      <td>rgpf</td>\n",
       "      <td>area with either Ku precipitation rate &gt; 0 or ...</td>\n",
       "    </tr>\n",
       "    <tr>\n",
       "      <th>7</th>\n",
       "      <td>ggpf</td>\n",
       "      <td>area with GMI precipitation rate &gt; 0.1 mm/hr (...</td>\n",
       "    </tr>\n",
       "    <tr>\n",
       "      <th>8</th>\n",
       "      <td>gpctf</td>\n",
       "      <td>area with GMI 85 GHz polarization corrected te...</td>\n",
       "    </tr>\n",
       "  </tbody>\n",
       "</table>\n",
       "</div>"
      ],
      "text/plain": [
       "    var_name                                        description\n",
       "0      Kurpf  area with Ku near surface precipitation rate >...\n",
       "1      Karpf  area with Ka near surface precipitation rate >...\n",
       "2     dprrpf  area with DPR near surface precipitation rate ...\n",
       "3     kurppf  area with Ku dBZ > 10 dBZ in the column (Ku no...\n",
       "4        gpf  area with GMI precipitation rate > 0.1 mm/hr (...\n",
       "5  kuclconvf  area with Ku convective precipitation (Normal ...\n",
       "6       rgpf  area with either Ku precipitation rate > 0 or ...\n",
       "7       ggpf  area with GMI precipitation rate > 0.1 mm/hr (...\n",
       "8      gpctf  area with GMI 85 GHz polarization corrected te..."
      ]
     },
     "execution_count": 6,
     "metadata": {},
     "output_type": "execute_result"
    }
   ],
   "source": [
    "GPM_porducts = pd.DataFrame({'var_name': var_name, 'description': description})\n",
    "GPM_porducts"
   ]
  },
  {
   "cell_type": "code",
   "execution_count": null,
   "metadata": {},
   "outputs": [],
   "source": []
  }
 ],
 "metadata": {
  "kernelspec": {
   "display_name": "Python 3.9.7 ('AXE')",
   "language": "python",
   "name": "python3"
  },
  "language_info": {
   "codemirror_mode": {
    "name": "ipython",
    "version": 3
   },
   "file_extension": ".py",
   "mimetype": "text/x-python",
   "name": "python",
   "nbconvert_exporter": "python",
   "pygments_lexer": "ipython3",
   "version": "3.9.7"
  },
  "orig_nbformat": 4,
  "vscode": {
   "interpreter": {
    "hash": "c6c4883052875ec3257edf99ee092a790b9a432228222ee7e742d4f8a559e5a8"
   }
  }
 },
 "nbformat": 4,
 "nbformat_minor": 2
}

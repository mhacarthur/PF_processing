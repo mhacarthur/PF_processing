{
 "cells": [
  {
   "cell_type": "code",
   "execution_count": 4,
   "metadata": {},
   "outputs": [],
   "source": [
    "import os\n",
    "import argparse\n",
    "import threading\n",
    "\n",
    "import sys\n",
    "sys.path.append('../../function/')\n",
    "from Funciones import get_subdirectories, get_url_files, download_file"
   ]
  },
  {
   "cell_type": "code",
   "execution_count": 5,
   "metadata": {},
   "outputs": [],
   "source": [
    "# product = 'rgpf'\n",
    "product = 'kurpf'"
   ]
  },
  {
   "cell_type": "code",
   "execution_count": 6,
   "metadata": {},
   "outputs": [
    {
     "name": "stdout",
     "output_type": "stream",
     "text": [
      "['pf_201403_level2.HDF', 'pf_201404_level2.HDF', 'pf_201405_level2.HDF', 'pf_201406_level2.HDF', 'pf_201407_level2.HDF', 'pf_201408_level2.HDF', 'pf_201409_level2.HDF', 'pf_201410_level2.HDF', 'pf_201411_level2.HDF', 'pf_201412_level2.HDF', 'pf_201501_level2.HDF', 'pf_201502_level2.HDF', 'pf_201503_level2.HDF', 'pf_201504_level2.HDF', 'pf_201505_level2.HDF', 'pf_201506_level2.HDF', 'pf_201507_level2.HDF', 'pf_201508_level2.HDF', 'pf_201509_level2.HDF', 'pf_201510_level2.HDF', 'pf_201511_level2.HDF', 'pf_201512_level2.HDF', 'pf_201601_level2.HDF', 'pf_201602_level2.HDF', 'pf_201603_level2.HDF', 'pf_201604_level2.HDF', 'pf_201605_level2.HDF', 'pf_201606_level2.HDF', 'pf_201607_level2.HDF', 'pf_201608_level2.HDF', 'pf_201609_level2.HDF', 'pf_201610_level2.HDF', 'pf_201611_level2.HDF', 'pf_201612_level2.HDF', 'pf_201701_level2.HDF', 'pf_201702_level2.HDF', 'pf_201703_level2.HDF', 'pf_201704_level2.HDF', 'pf_201705_level2.HDF', 'pf_201706_level2.HDF', 'pf_201707_level2.HDF', 'pf_201708_level2.HDF', 'pf_201709_level2.HDF', 'pf_201710_level2.HDF', 'pf_201711_level2.HDF', 'pf_201712_level2.HDF', 'pf_201801_level2.HDF', 'pf_201802_level2.HDF', 'pf_201803_level2.HDF', 'pf_201804_level2.HDF', 'pf_201805_level2.HDF', 'pf_201806_level2.HDF', 'pf_201807_level2.HDF', 'pf_201808_level2.HDF', 'pf_201809_level2.HDF', 'pf_201810_level2.HDF', 'pf_201811_level2.HDF', 'pf_201812_level2.HDF', 'pf_201901_level2.HDF', 'pf_201902_level2.HDF', 'pf_201903_level2.HDF', 'pf_201904_level2.HDF', 'pf_201905_level2.HDF', 'pf_201906_level2.HDF', 'pf_201907_level2.HDF', 'pf_201908_level2.HDF', 'pf_201909_level2.HDF', 'pf_201910_level2.HDF', 'pf_201911_level2.HDF', 'pf_201912_level2.HDF', 'pf_202001_level2.HDF', 'pf_202002_level2.HDF', 'pf_202003_level2.HDF', 'pf_202004_level2.HDF', 'pf_202005_level2.HDF', 'pf_202006_level2.HDF', 'pf_202007_level2.HDF', 'pf_202008_level2.HDF', 'pf_202009_level2.HDF', 'pf_202010_level2.HDF', 'pf_202011_level2.HDF', 'pf_202012_level2.HDF', 'pf_202101_level2.HDF', 'pf_202102_level2.HDF', 'pf_202103_level2.HDF']\n"
     ]
    }
   ],
   "source": [
    "BASE_URL = 'http://atmos.tamucc.edu/trmm/data/gpm/level_2/'+product+'/'\n",
    "list_files = get_subdirectories(BASE_URL)\n",
    "print(list_files)"
   ]
  },
  {
   "cell_type": "code",
   "execution_count": 9,
   "metadata": {},
   "outputs": [
    {
     "name": "stdout",
     "output_type": "stream",
     "text": [
      "   Downloading: pf_201403_level2.HDF\n"
     ]
    },
    {
     "name": "stderr",
     "output_type": "stream",
     "text": [
      "100%|█████████▉| 176353/176687.8408203125 [01:16<00:00, 3195.49KB/s] /home/arturo/anaconda3/envs/AXE/lib/python3.9/site-packages/tqdm/std.py:533: TqdmWarning: clamping frac to range [0, 1]\n",
      "  full_bar = Bar(frac,\n",
      "100%|██████████| 176688/176687.8408203125 [01:16<00:00, 2314.51KB/s]\n"
     ]
    },
    {
     "name": "stdout",
     "output_type": "stream",
     "text": [
      "\n",
      "   Downloading: pf_201404_level2.HDF\n"
     ]
    },
    {
     "name": "stderr",
     "output_type": "stream",
     "text": [
      "369881KB [03:03, 2014.71KB/s]                                        \n"
     ]
    },
    {
     "name": "stdout",
     "output_type": "stream",
     "text": [
      "\n",
      "   Downloading: pf_201405_level2.HDF\n"
     ]
    },
    {
     "name": "stderr",
     "output_type": "stream",
     "text": [
      "365066KB [03:11, 1904.83KB/s]                                        \n"
     ]
    },
    {
     "name": "stdout",
     "output_type": "stream",
     "text": [
      "\n",
      "   Downloading: pf_201406_level2.HDF\n"
     ]
    },
    {
     "name": "stderr",
     "output_type": "stream",
     "text": [
      "395550KB [03:39, 1805.53KB/s]                                       \n"
     ]
    },
    {
     "name": "stdout",
     "output_type": "stream",
     "text": [
      "\n",
      "   Downloading: pf_201407_level2.HDF\n"
     ]
    },
    {
     "name": "stderr",
     "output_type": "stream",
     "text": [
      "376560KB [02:50, 2210.96KB/s]                                      \n"
     ]
    },
    {
     "name": "stdout",
     "output_type": "stream",
     "text": [
      "\n",
      "   Downloading: pf_201408_level2.HDF\n"
     ]
    },
    {
     "name": "stderr",
     "output_type": "stream",
     "text": [
      "385616KB [02:07, 3022.61KB/s]                                        \n"
     ]
    },
    {
     "name": "stdout",
     "output_type": "stream",
     "text": [
      "\n",
      "   Downloading: pf_201409_level2.HDF\n"
     ]
    },
    {
     "name": "stderr",
     "output_type": "stream",
     "text": [
      "360248KB [02:13, 2701.01KB/s]                                        \n"
     ]
    },
    {
     "name": "stdout",
     "output_type": "stream",
     "text": [
      "\n",
      "   Downloading: pf_201410_level2.HDF\n"
     ]
    },
    {
     "name": "stderr",
     "output_type": "stream",
     "text": [
      "100%|██████████| 324615/324614.869140625 [02:20<00:00, 2318.05KB/s] \n"
     ]
    },
    {
     "name": "stdout",
     "output_type": "stream",
     "text": [
      "\n",
      "   Downloading: pf_201411_level2.HDF\n"
     ]
    },
    {
     "name": "stderr",
     "output_type": "stream",
     "text": [
      "100%|██████████| 331227/331226.83203125 [02:20<00:00, 2351.09KB/s] \n"
     ]
    },
    {
     "name": "stdout",
     "output_type": "stream",
     "text": [
      "\n",
      "   Downloading: pf_201412_level2.HDF\n"
     ]
    },
    {
     "name": "stderr",
     "output_type": "stream",
     "text": [
      "100%|██████████| 352178/352177.9501953125 [02:28<00:00, 2364.42KB/s] \n"
     ]
    },
    {
     "name": "stdout",
     "output_type": "stream",
     "text": [
      "\n",
      "   Downloading: pf_201501_level2.HDF\n"
     ]
    },
    {
     "name": "stderr",
     "output_type": "stream",
     "text": [
      "100%|██████████| 332896/332895.6083984375 [02:51<00:00, 1935.53KB/s]\n"
     ]
    },
    {
     "name": "stdout",
     "output_type": "stream",
     "text": [
      "\n",
      "   Downloading: pf_201502_level2.HDF\n"
     ]
    },
    {
     "name": "stderr",
     "output_type": "stream",
     "text": [
      "100%|██████████| 327864/327863.58203125 [02:41<00:00, 2032.31KB/s] \n"
     ]
    },
    {
     "name": "stdout",
     "output_type": "stream",
     "text": [
      "\n",
      "   Downloading: pf_201503_level2.HDF\n"
     ]
    },
    {
     "name": "stderr",
     "output_type": "stream",
     "text": [
      "100%|██████████| 375941/375940.677734375 [03:29<00:00, 1794.59KB/s] \n"
     ]
    },
    {
     "name": "stdout",
     "output_type": "stream",
     "text": [
      "\n",
      "   Downloading: pf_201504_level2.HDF\n"
     ]
    },
    {
     "name": "stderr",
     "output_type": "stream",
     "text": [
      "100%|██████████| 384478/384477.640625 [02:43<00:00, 2344.42KB/s] \n"
     ]
    },
    {
     "name": "stdout",
     "output_type": "stream",
     "text": [
      "\n",
      "   Downloading: pf_201505_level2.HDF\n"
     ]
    },
    {
     "name": "stderr",
     "output_type": "stream",
     "text": [
      "100%|██████████| 394924/394923.6669921875 [02:15<00:00, 2915.58KB/s] \n"
     ]
    },
    {
     "name": "stdout",
     "output_type": "stream",
     "text": [
      "\n",
      "   Downloading: pf_201506_level2.HDF\n"
     ]
    },
    {
     "name": "stderr",
     "output_type": "stream",
     "text": [
      "100%|██████████| 374920/374919.50390625 [02:21<00:00, 2652.84KB/s] \n"
     ]
    },
    {
     "name": "stdout",
     "output_type": "stream",
     "text": [
      "\n",
      "   Downloading: pf_201507_level2.HDF\n"
     ]
    },
    {
     "name": "stderr",
     "output_type": "stream",
     "text": [
      "100%|██████████| 410862/410861.68359375 [01:47<00:00, 3837.49KB/s] \n"
     ]
    },
    {
     "name": "stdout",
     "output_type": "stream",
     "text": [
      "\n",
      "   Downloading: pf_201508_level2.HDF\n"
     ]
    },
    {
     "name": "stderr",
     "output_type": "stream",
     "text": [
      "409025KB [02:46, 2459.91KB/s]                                        \n"
     ]
    },
    {
     "name": "stdout",
     "output_type": "stream",
     "text": [
      "\n",
      "   Downloading: pf_201509_level2.HDF\n"
     ]
    },
    {
     "name": "stderr",
     "output_type": "stream",
     "text": [
      "100%|██████████| 351384/351383.703125 [02:52<00:00, 2035.89KB/s] \n"
     ]
    },
    {
     "name": "stdout",
     "output_type": "stream",
     "text": [
      "\n",
      "   Downloading: pf_201510_level2.HDF\n"
     ]
    },
    {
     "name": "stderr",
     "output_type": "stream",
     "text": [
      "367904KB [03:18, 1856.73KB/s]                                        \n"
     ]
    },
    {
     "name": "stdout",
     "output_type": "stream",
     "text": [
      "\n",
      "   Downloading: pf_201511_level2.HDF\n"
     ]
    },
    {
     "name": "stderr",
     "output_type": "stream",
     "text": [
      "378656KB [02:31, 2497.87KB/s]                                     \n"
     ]
    },
    {
     "name": "stdout",
     "output_type": "stream",
     "text": [
      "\n",
      "   Downloading: pf_201512_level2.HDF\n"
     ]
    },
    {
     "name": "stderr",
     "output_type": "stream",
     "text": [
      "367210KB [02:23, 2566.32KB/s]                                       \n"
     ]
    },
    {
     "name": "stdout",
     "output_type": "stream",
     "text": [
      "\n",
      "   Downloading: pf_201601_level2.HDF\n"
     ]
    },
    {
     "name": "stderr",
     "output_type": "stream",
     "text": [
      "349507KB [01:19, 4379.27KB/s]                                        \n"
     ]
    },
    {
     "name": "stdout",
     "output_type": "stream",
     "text": [
      "\n",
      "   Downloading: pf_201602_level2.HDF\n"
     ]
    },
    {
     "name": "stderr",
     "output_type": "stream",
     "text": [
      "100%|██████████| 336449/336448.7392578125 [01:46<00:00, 3156.41KB/s] \n"
     ]
    },
    {
     "name": "stdout",
     "output_type": "stream",
     "text": [
      "\n",
      "   Downloading: pf_201603_level2.HDF\n"
     ]
    },
    {
     "name": "stderr",
     "output_type": "stream",
     "text": [
      "100%|██████████| 389289/389288.97265625 [02:21<00:00, 2741.88KB/s] \n"
     ]
    },
    {
     "name": "stdout",
     "output_type": "stream",
     "text": [
      "\n",
      "   Downloading: pf_201604_level2.HDF\n"
     ]
    },
    {
     "name": "stderr",
     "output_type": "stream",
     "text": [
      "371013KB [02:03, 3004.05KB/s]                                        \n"
     ]
    },
    {
     "name": "stdout",
     "output_type": "stream",
     "text": [
      "\n",
      "   Downloading: pf_201605_level2.HDF\n"
     ]
    },
    {
     "name": "stderr",
     "output_type": "stream",
     "text": [
      "100%|██████████| 374527/374526.7802734375 [01:54<00:00, 3271.34KB/s] \n"
     ]
    },
    {
     "name": "stdout",
     "output_type": "stream",
     "text": [
      "\n",
      "   Downloading: pf_201606_level2.HDF\n"
     ]
    },
    {
     "name": "stderr",
     "output_type": "stream",
     "text": [
      "100%|██████████| 413946/413945.634765625 [02:30<00:00, 2752.44KB/s] \n"
     ]
    },
    {
     "name": "stdout",
     "output_type": "stream",
     "text": [
      "\n",
      "   Downloading: pf_201607_level2.HDF\n"
     ]
    },
    {
     "name": "stderr",
     "output_type": "stream",
     "text": [
      "423243KB [03:21, 2097.02KB/s]                                        \n"
     ]
    },
    {
     "name": "stdout",
     "output_type": "stream",
     "text": [
      "\n",
      "   Downloading: pf_201608_level2.HDF\n"
     ]
    },
    {
     "name": "stderr",
     "output_type": "stream",
     "text": [
      "100%|██████████| 393981/393980.6708984375 [03:02<00:00, 2153.77KB/s] \n"
     ]
    },
    {
     "name": "stdout",
     "output_type": "stream",
     "text": [
      "\n",
      "   Downloading: pf_201609_level2.HDF\n"
     ]
    },
    {
     "name": "stderr",
     "output_type": "stream",
     "text": [
      "100%|██████████| 386716/386715.767578125 [03:44<00:00, 1722.51KB/s] \n"
     ]
    },
    {
     "name": "stdout",
     "output_type": "stream",
     "text": [
      "\n",
      "   Downloading: pf_201610_level2.HDF\n"
     ]
    },
    {
     "name": "stderr",
     "output_type": "stream",
     "text": [
      "100%|██████████| 364053/364052.9697265625 [02:38<00:00, 2295.89KB/s] \n"
     ]
    },
    {
     "name": "stdout",
     "output_type": "stream",
     "text": [
      "\n",
      "   Downloading: pf_201611_level2.HDF\n"
     ]
    },
    {
     "name": "stderr",
     "output_type": "stream",
     "text": [
      "100%|██████████| 359619/359618.630859375 [02:46<00:00, 2162.79KB/s] \n"
     ]
    },
    {
     "name": "stdout",
     "output_type": "stream",
     "text": [
      "\n",
      "   Downloading: pf_201612_level2.HDF\n"
     ]
    },
    {
     "name": "stderr",
     "output_type": "stream",
     "text": [
      "100%|██████████| 369821/369820.6787109375 [01:55<00:00, 3191.33KB/s] \n"
     ]
    },
    {
     "name": "stdout",
     "output_type": "stream",
     "text": [
      "\n",
      "   Downloading: pf_201701_level2.HDF\n"
     ]
    },
    {
     "name": "stderr",
     "output_type": "stream",
     "text": [
      "100%|██████████| 354087/354086.798828125 [02:36<00:00, 2265.87KB/s] \n"
     ]
    },
    {
     "name": "stdout",
     "output_type": "stream",
     "text": [
      "\n",
      "   Downloading: pf_201702_level2.HDF\n"
     ]
    },
    {
     "name": "stderr",
     "output_type": "stream",
     "text": [
      "100%|██████████| 351987/351986.583984375 [02:31<00:00, 2317.79KB/s] \n"
     ]
    },
    {
     "name": "stdout",
     "output_type": "stream",
     "text": [
      "\n",
      "   Downloading: pf_201703_level2.HDF\n"
     ]
    },
    {
     "name": "stderr",
     "output_type": "stream",
     "text": [
      "416497KB [02:05, 3313.88KB/s]                                        \n"
     ]
    },
    {
     "name": "stdout",
     "output_type": "stream",
     "text": [
      "\n",
      "   Downloading: pf_201704_level2.HDF\n"
     ]
    },
    {
     "name": "stderr",
     "output_type": "stream",
     "text": [
      "100%|██████████| 386610/386609.8271484375 [02:43<00:00, 2363.53KB/s] \n"
     ]
    },
    {
     "name": "stdout",
     "output_type": "stream",
     "text": [
      "\n",
      "   Downloading: pf_201705_level2.HDF\n"
     ]
    },
    {
     "name": "stderr",
     "output_type": "stream",
     "text": [
      "425245KB [02:50, 2490.58KB/s]                                    \n"
     ]
    },
    {
     "name": "stdout",
     "output_type": "stream",
     "text": [
      "\n",
      "   Downloading: pf_201706_level2.HDF\n"
     ]
    },
    {
     "name": "stderr",
     "output_type": "stream",
     "text": [
      "100%|██████████| 400945/400944.8515625 [03:32<00:00, 1882.60KB/s]\n"
     ]
    },
    {
     "name": "stdout",
     "output_type": "stream",
     "text": [
      "\n",
      "   Downloading: pf_201707_level2.HDF\n"
     ]
    },
    {
     "name": "stderr",
     "output_type": "stream",
     "text": [
      "100%|██████████| 435796/435795.857421875 [04:56<00:00, 1469.23KB/s] \n"
     ]
    },
    {
     "name": "stdout",
     "output_type": "stream",
     "text": [
      "\n",
      "   Downloading: pf_201708_level2.HDF\n"
     ]
    },
    {
     "name": "stderr",
     "output_type": "stream",
     "text": [
      "405423KB [04:38, 1458.03KB/s]                                        \n"
     ]
    },
    {
     "name": "stdout",
     "output_type": "stream",
     "text": [
      "\n",
      "   Downloading: pf_201709_level2.HDF\n"
     ]
    },
    {
     "name": "stderr",
     "output_type": "stream",
     "text": [
      "100%|██████████| 334830/334829.7822265625 [04:19<00:00, 1291.05KB/s]\n"
     ]
    },
    {
     "name": "stdout",
     "output_type": "stream",
     "text": [
      "\n",
      "   Downloading: pf_201710_level2.HDF\n"
     ]
    },
    {
     "name": "stderr",
     "output_type": "stream",
     "text": [
      "100%|██████████| 388706/388705.7236328125 [04:08<00:00, 1564.29KB/s] \n"
     ]
    },
    {
     "name": "stdout",
     "output_type": "stream",
     "text": [
      "\n",
      "   Downloading: pf_201711_level2.HDF\n"
     ]
    },
    {
     "name": "stderr",
     "output_type": "stream",
     "text": [
      "375057KB [03:23, 1841.61KB/s]                                        \n"
     ]
    },
    {
     "name": "stdout",
     "output_type": "stream",
     "text": [
      "\n",
      "   Downloading: pf_201712_level2.HDF\n"
     ]
    },
    {
     "name": "stderr",
     "output_type": "stream",
     "text": [
      "100%|██████████| 364349/364348.8759765625 [02:59<00:00, 2027.81KB/s] \n"
     ]
    },
    {
     "name": "stdout",
     "output_type": "stream",
     "text": [
      "\n",
      "   Downloading: pf_201801_level2.HDF\n"
     ]
    },
    {
     "name": "stderr",
     "output_type": "stream",
     "text": [
      "385137KB [03:17, 1952.73KB/s]                                       \n"
     ]
    },
    {
     "name": "stdout",
     "output_type": "stream",
     "text": [
      "\n",
      "   Downloading: pf_201802_level2.HDF\n"
     ]
    },
    {
     "name": "stderr",
     "output_type": "stream",
     "text": [
      "342034KB [03:45, 1517.32KB/s]                                       \n"
     ]
    },
    {
     "name": "stdout",
     "output_type": "stream",
     "text": [
      "\n",
      "   Downloading: pf_201803_level2.HDF\n"
     ]
    },
    {
     "name": "stderr",
     "output_type": "stream",
     "text": [
      "100%|██████████| 402859/402858.6259765625 [03:18<00:00, 2025.04KB/s] \n"
     ]
    },
    {
     "name": "stdout",
     "output_type": "stream",
     "text": [
      "\n",
      "   Downloading: pf_201804_level2.HDF\n"
     ]
    },
    {
     "name": "stderr",
     "output_type": "stream",
     "text": [
      "100%|██████████| 408583/408582.8916015625 [03:53<00:00, 1751.18KB/s] \n"
     ]
    },
    {
     "name": "stdout",
     "output_type": "stream",
     "text": [
      "\n",
      "   Downloading: pf_201805_level2.HDF\n"
     ]
    },
    {
     "name": "stderr",
     "output_type": "stream",
     "text": [
      "420341KB [04:13, 1658.71KB/s]                                        \n"
     ]
    },
    {
     "name": "stdout",
     "output_type": "stream",
     "text": [
      "\n",
      "   Downloading: pf_201806_level2.HDF\n"
     ]
    },
    {
     "name": "stderr",
     "output_type": "stream",
     "text": [
      "100%|██████████| 422888/422887.591796875 [04:51<00:00, 1452.93KB/s] \n"
     ]
    },
    {
     "name": "stdout",
     "output_type": "stream",
     "text": [
      "\n",
      "   Downloading: pf_201807_level2.HDF\n"
     ]
    },
    {
     "name": "stderr",
     "output_type": "stream",
     "text": [
      "100%|██████████| 431870/431869.927734375 [05:11<00:00, 1387.63KB/s]\n"
     ]
    },
    {
     "name": "stdout",
     "output_type": "stream",
     "text": [
      "\n",
      "   Downloading: pf_201808_level2.HDF\n"
     ]
    },
    {
     "name": "stderr",
     "output_type": "stream",
     "text": [
      "100%|██████████| 412637/412636.638671875 [06:37<00:00, 1039.13KB/s]\n"
     ]
    },
    {
     "name": "stdout",
     "output_type": "stream",
     "text": [
      "\n",
      "   Downloading: pf_201809_level2.HDF\n"
     ]
    },
    {
     "name": "stderr",
     "output_type": "stream",
     "text": [
      "410786KB [07:38, 896.75KB/s]                                       \n"
     ]
    },
    {
     "name": "stdout",
     "output_type": "stream",
     "text": [
      "\n",
      "   Downloading: pf_201810_level2.HDF\n"
     ]
    },
    {
     "name": "stderr",
     "output_type": "stream",
     "text": [
      "100%|██████████| 418138/418137.8076171875 [03:58<00:00, 1756.27KB/s]\n"
     ]
    },
    {
     "name": "stdout",
     "output_type": "stream",
     "text": [
      "\n",
      "   Downloading: pf_201811_level2.HDF\n"
     ]
    },
    {
     "name": "stderr",
     "output_type": "stream",
     "text": [
      "371601KB [03:20, 1857.98KB/s]                                        \n"
     ]
    },
    {
     "name": "stdout",
     "output_type": "stream",
     "text": [
      "\n",
      "   Downloading: pf_201812_level2.HDF\n"
     ]
    },
    {
     "name": "stderr",
     "output_type": "stream",
     "text": [
      "389411KB [02:57, 2194.66KB/s]                                        \n"
     ]
    },
    {
     "name": "stdout",
     "output_type": "stream",
     "text": [
      "\n",
      "   Downloading: pf_201901_level2.HDF\n"
     ]
    },
    {
     "name": "stderr",
     "output_type": "stream",
     "text": [
      "376615KB [03:10, 1974.88KB/s]                                   \n"
     ]
    },
    {
     "name": "stdout",
     "output_type": "stream",
     "text": [
      "\n",
      "   Downloading: pf_201902_level2.HDF\n"
     ]
    },
    {
     "name": "stderr",
     "output_type": "stream",
     "text": [
      "346466KB [04:02, 1428.09KB/s]                                     \n"
     ]
    },
    {
     "name": "stdout",
     "output_type": "stream",
     "text": [
      "\n",
      "   Downloading: pf_201903_level2.HDF\n"
     ]
    },
    {
     "name": "stderr",
     "output_type": "stream",
     "text": [
      "100%|██████████| 411191/411190.94921875 [03:42<00:00, 1849.61KB/s] \n"
     ]
    },
    {
     "name": "stdout",
     "output_type": "stream",
     "text": [
      "\n",
      "   Downloading: pf_201904_level2.HDF\n"
     ]
    },
    {
     "name": "stderr",
     "output_type": "stream",
     "text": [
      "396183KB [03:50, 1719.70KB/s]                                       \n"
     ]
    },
    {
     "name": "stdout",
     "output_type": "stream",
     "text": [
      "\n",
      "   Downloading: pf_201905_level2.HDF\n"
     ]
    },
    {
     "name": "stderr",
     "output_type": "stream",
     "text": [
      "100%|██████████| 440936/440935.7314453125 [03:52<00:00, 1893.07KB/s] \n"
     ]
    },
    {
     "name": "stdout",
     "output_type": "stream",
     "text": [
      "\n",
      "   Downloading: pf_201906_level2.HDF\n"
     ]
    },
    {
     "name": "stderr",
     "output_type": "stream",
     "text": [
      "428594KB [03:10, 2243.97KB/s]                                        \n"
     ]
    },
    {
     "name": "stdout",
     "output_type": "stream",
     "text": [
      "\n",
      "   Downloading: pf_201907_level2.HDF\n"
     ]
    },
    {
     "name": "stderr",
     "output_type": "stream",
     "text": [
      "429507KB [04:17, 1667.71KB/s]                                       \n"
     ]
    },
    {
     "name": "stdout",
     "output_type": "stream",
     "text": [
      "\n",
      "   Downloading: pf_201908_level2.HDF\n"
     ]
    },
    {
     "name": "stderr",
     "output_type": "stream",
     "text": [
      "434687KB [03:45, 1928.12KB/s]                                        \n"
     ]
    },
    {
     "name": "stdout",
     "output_type": "stream",
     "text": [
      "\n",
      "   Downloading: pf_201909_level2.HDF\n"
     ]
    },
    {
     "name": "stderr",
     "output_type": "stream",
     "text": [
      "392622KB [03:32, 1845.95KB/s]                                       \n"
     ]
    },
    {
     "name": "stdout",
     "output_type": "stream",
     "text": [
      "\n",
      "   Downloading: pf_201910_level2.HDF\n"
     ]
    },
    {
     "name": "stderr",
     "output_type": "stream",
     "text": [
      "428340KB [04:22, 1633.69KB/s]                                        \n"
     ]
    },
    {
     "name": "stdout",
     "output_type": "stream",
     "text": [
      "\n",
      "   Downloading: pf_201911_level2.HDF\n"
     ]
    },
    {
     "name": "stderr",
     "output_type": "stream",
     "text": [
      "383598KB [04:00, 1594.93KB/s]                                       \n"
     ]
    },
    {
     "name": "stdout",
     "output_type": "stream",
     "text": [
      "\n",
      "   Downloading: pf_201912_level2.HDF\n"
     ]
    },
    {
     "name": "stderr",
     "output_type": "stream",
     "text": [
      "394396KB [05:05, 1292.34KB/s]                                      \n"
     ]
    },
    {
     "name": "stdout",
     "output_type": "stream",
     "text": [
      "\n",
      "   Downloading: pf_202001_level2.HDF\n"
     ]
    },
    {
     "name": "stderr",
     "output_type": "stream",
     "text": [
      "100%|██████████| 387045/387044.634765625 [05:09<00:00, 1251.87KB/s]\n"
     ]
    },
    {
     "name": "stdout",
     "output_type": "stream",
     "text": [
      "\n",
      "   Downloading: pf_202002_level2.HDF\n"
     ]
    },
    {
     "name": "stderr",
     "output_type": "stream",
     "text": [
      "373825KB [04:19, 1443.26KB/s]                                        \n"
     ]
    },
    {
     "name": "stdout",
     "output_type": "stream",
     "text": [
      "\n",
      "   Downloading: pf_202003_level2.HDF\n"
     ]
    },
    {
     "name": "stderr",
     "output_type": "stream",
     "text": [
      "409214KB [04:04, 1671.40KB/s]                                      \n"
     ]
    },
    {
     "name": "stdout",
     "output_type": "stream",
     "text": [
      "\n",
      "   Downloading: pf_202004_level2.HDF\n"
     ]
    },
    {
     "name": "stderr",
     "output_type": "stream",
     "text": [
      "100%|██████████| 326437/326436.640625 [03:04<00:00, 1773.80KB/s] \n"
     ]
    },
    {
     "name": "stdout",
     "output_type": "stream",
     "text": [
      "\n",
      "   Downloading: pf_202005_level2.HDF\n"
     ]
    },
    {
     "name": "stderr",
     "output_type": "stream",
     "text": [
      "423250KB [03:39, 1925.00KB/s]                                     \n"
     ]
    },
    {
     "name": "stdout",
     "output_type": "stream",
     "text": [
      "\n",
      "   Downloading: pf_202006_level2.HDF\n"
     ]
    },
    {
     "name": "stderr",
     "output_type": "stream",
     "text": [
      "428868KB [03:58, 1797.94KB/s]                                        \n"
     ]
    },
    {
     "name": "stdout",
     "output_type": "stream",
     "text": [
      "\n",
      "   Downloading: pf_202007_level2.HDF\n"
     ]
    },
    {
     "name": "stderr",
     "output_type": "stream",
     "text": [
      "  1%|          | 4109/463218.5185546875 [05:50<10:52:00, 11.74KB/s]\n"
     ]
    },
    {
     "name": "stdout",
     "output_type": "stream",
     "text": [
      "\n",
      "   Downloading: pf_202008_level2.HDF\n"
     ]
    },
    {
     "name": "stderr",
     "output_type": "stream",
     "text": [
      "325168KB [03:56, 1372.71KB/s]                                        \n"
     ]
    },
    {
     "name": "stdout",
     "output_type": "stream",
     "text": [
      "\n",
      "   Downloading: pf_202009_level2.HDF\n"
     ]
    },
    {
     "name": "stderr",
     "output_type": "stream",
     "text": [
      "422016KB [04:56, 1421.80KB/s]                                      \n"
     ]
    },
    {
     "name": "stdout",
     "output_type": "stream",
     "text": [
      "\n",
      "   Downloading: pf_202010_level2.HDF\n"
     ]
    },
    {
     "name": "stderr",
     "output_type": "stream",
     "text": [
      "409686KB [05:46, 1182.08KB/s]                                     \n"
     ]
    },
    {
     "name": "stdout",
     "output_type": "stream",
     "text": [
      "\n",
      "   Downloading: pf_202011_level2.HDF\n"
     ]
    },
    {
     "name": "stderr",
     "output_type": "stream",
     "text": [
      "390399KB [05:00, 1300.17KB/s]                                     \n"
     ]
    },
    {
     "name": "stdout",
     "output_type": "stream",
     "text": [
      "\n",
      "   Downloading: pf_202012_level2.HDF\n"
     ]
    },
    {
     "name": "stderr",
     "output_type": "stream",
     "text": [
      "100%|██████████| 399277/399276.5205078125 [04:35<00:00, 1447.85KB/s] \n"
     ]
    },
    {
     "name": "stdout",
     "output_type": "stream",
     "text": [
      "\n",
      "   Downloading: pf_202101_level2.HDF\n"
     ]
    },
    {
     "name": "stderr",
     "output_type": "stream",
     "text": [
      "100%|██████████| 405074/405073.8564453125 [03:28<00:00, 1946.63KB/s] \n"
     ]
    },
    {
     "name": "stdout",
     "output_type": "stream",
     "text": [
      "\n",
      "   Downloading: pf_202102_level2.HDF\n"
     ]
    },
    {
     "name": "stderr",
     "output_type": "stream",
     "text": [
      "361565KB [03:51, 1560.42KB/s]                                        \n"
     ]
    },
    {
     "name": "stdout",
     "output_type": "stream",
     "text": [
      "\n",
      "   Downloading: pf_202103_level2.HDF\n"
     ]
    },
    {
     "name": "stderr",
     "output_type": "stream",
     "text": [
      "430958KB [03:08, 2285.89KB/s]                                       "
     ]
    },
    {
     "name": "stdout",
     "output_type": "stream",
     "text": [
      "\n"
     ]
    },
    {
     "name": "stderr",
     "output_type": "stream",
     "text": [
      "\n"
     ]
    }
   ],
   "source": [
    "DIR_BASE = '/mnt/Data/Data/PF/GPM/'+product+'/'\n",
    "\n",
    "for f in list_files:\n",
    "    File_out = DIR_BASE + f\n",
    "\n",
    "    if not os.path.exists(DIR_BASE):\n",
    "        os.makedirs(DIR_BASE)\n",
    "\n",
    "    url = BASE_URL + f\n",
    "\n",
    "    if not os.path.exists(File_out):\n",
    "        print(f\"   Downloading: {f}\")\n",
    "        download_file(url,File_out)\n",
    "    else:\n",
    "        print(\"   File Exists\")\n",
    "\n",
    "    print()\n"
   ]
  },
  {
   "cell_type": "code",
   "execution_count": null,
   "metadata": {},
   "outputs": [],
   "source": []
  }
 ],
 "metadata": {
  "interpreter": {
   "hash": "c6c4883052875ec3257edf99ee092a790b9a432228222ee7e742d4f8a559e5a8"
  },
  "kernelspec": {
   "display_name": "Python 3.9.7 ('AXE')",
   "language": "python",
   "name": "python3"
  },
  "language_info": {
   "codemirror_mode": {
    "name": "ipython",
    "version": 3
   },
   "file_extension": ".py",
   "mimetype": "text/x-python",
   "name": "python",
   "nbconvert_exporter": "python",
   "pygments_lexer": "ipython3",
   "version": "3.9.7"
  },
  "orig_nbformat": 4
 },
 "nbformat": 4,
 "nbformat_minor": 2
}

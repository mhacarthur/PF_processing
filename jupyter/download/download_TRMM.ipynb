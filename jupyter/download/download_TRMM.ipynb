{
 "cells": [
  {
   "cell_type": "code",
   "execution_count": 3,
   "metadata": {},
   "outputs": [],
   "source": [
    "import os\n",
    "import argparse\n",
    "import threading\n",
    "\n",
    "import sys\n",
    "sys.path.append('../../function/')\n",
    "from Funciones import get_subdirectories, get_url_files, download_file"
   ]
  },
  {
   "cell_type": "code",
   "execution_count": 4,
   "metadata": {},
   "outputs": [],
   "source": [
    "product = 'rpf'"
   ]
  },
  {
   "cell_type": "code",
   "execution_count": 5,
   "metadata": {},
   "outputs": [
    {
     "name": "stdout",
     "output_type": "stream",
     "text": [
      "['pf_199712_level2.HDF', 'pf_199801_level2.HDF', 'pf_199802_level2.HDF', 'pf_199803_level2.HDF', 'pf_199804_level2.HDF', 'pf_199805_level2.HDF', 'pf_199806_level2.HDF', 'pf_199807_level2.HDF', 'pf_199808_level2.HDF', 'pf_199809_level2.HDF', 'pf_199810_level2.HDF', 'pf_199811_level2.HDF', 'pf_199812_level2.HDF', 'pf_199901_level2.HDF', 'pf_199902_level2.HDF', 'pf_199903_level2.HDF', 'pf_199904_level2.HDF', 'pf_199905_level2.HDF', 'pf_199906_level2.HDF', 'pf_199907_level2.HDF', 'pf_199908_level2.HDF', 'pf_199909_level2.HDF', 'pf_199910_level2.HDF', 'pf_199911_level2.HDF', 'pf_199912_level2.HDF', 'pf_200001_level2.HDF', 'pf_200002_level2.HDF', 'pf_200003_level2.HDF', 'pf_200004_level2.HDF', 'pf_200005_level2.HDF', 'pf_200006_level2.HDF', 'pf_200007_level2.HDF', 'pf_200008_level2.HDF', 'pf_200009_level2.HDF', 'pf_200010_level2.HDF', 'pf_200011_level2.HDF', 'pf_200012_level2.HDF', 'pf_200101_level2.HDF', 'pf_200102_level2.HDF', 'pf_200103_level2.HDF', 'pf_200104_level2.HDF', 'pf_200105_level2.HDF', 'pf_200106_level2.HDF', 'pf_200107_level2.HDF', 'pf_200108_level2.HDF', 'pf_200109_level2.HDF', 'pf_200110_level2.HDF', 'pf_200111_level2.HDF', 'pf_200112_level2.HDF', 'pf_200201_level2.HDF', 'pf_200202_level2.HDF', 'pf_200203_level2.HDF', 'pf_200204_level2.HDF', 'pf_200205_level2.HDF', 'pf_200206_level2.HDF', 'pf_200207_level2.HDF', 'pf_200208_level2.HDF', 'pf_200209_level2.HDF', 'pf_200210_level2.HDF', 'pf_200211_level2.HDF', 'pf_200212_level2.HDF', 'pf_200301_level2.HDF', 'pf_200302_level2.HDF', 'pf_200303_level2.HDF', 'pf_200304_level2.HDF', 'pf_200305_level2.HDF', 'pf_200306_level2.HDF', 'pf_200307_level2.HDF', 'pf_200308_level2.HDF', 'pf_200309_level2.HDF', 'pf_200310_level2.HDF', 'pf_200311_level2.HDF', 'pf_200312_level2.HDF', 'pf_200401_level2.HDF', 'pf_200402_level2.HDF', 'pf_200403_level2.HDF', 'pf_200404_level2.HDF', 'pf_200405_level2.HDF', 'pf_200406_level2.HDF', 'pf_200407_level2.HDF', 'pf_200408_level2.HDF', 'pf_200409_level2.HDF', 'pf_200410_level2.HDF', 'pf_200411_level2.HDF', 'pf_200412_level2.HDF', 'pf_200501_level2.HDF', 'pf_200502_level2.HDF', 'pf_200503_level2.HDF', 'pf_200504_level2.HDF', 'pf_200505_level2.HDF', 'pf_200506_level2.HDF', 'pf_200507_level2.HDF', 'pf_200508_level2.HDF', 'pf_200509_level2.HDF', 'pf_200510_level2.HDF', 'pf_200511_level2.HDF', 'pf_200512_level2.HDF', 'pf_200601_level2.HDF', 'pf_200602_level2.HDF', 'pf_200603_level2.HDF', 'pf_200604_level2.HDF', 'pf_200605_level2.HDF', 'pf_200606_level2.HDF', 'pf_200607_level2.HDF', 'pf_200608_level2.HDF', 'pf_200609_level2.HDF', 'pf_200610_level2.HDF', 'pf_200611_level2.HDF', 'pf_200612_level2.HDF', 'pf_200701_level2.HDF', 'pf_200702_level2.HDF', 'pf_200703_level2.HDF', 'pf_200704_level2.HDF', 'pf_200705_level2.HDF', 'pf_200706_level2.HDF', 'pf_200707_level2.HDF', 'pf_200708_level2.HDF', 'pf_200709_level2.HDF', 'pf_200710_level2.HDF', 'pf_200711_level2.HDF', 'pf_200712_level2.HDF', 'pf_200801_level2.HDF', 'pf_200802_level2.HDF', 'pf_200803_level2.HDF', 'pf_200804_level2.HDF', 'pf_200805_level2.HDF', 'pf_200806_level2.HDF', 'pf_200807_level2.HDF', 'pf_200808_level2.HDF', 'pf_200809_level2.HDF', 'pf_200810_level2.HDF', 'pf_200811_level2.HDF', 'pf_200812_level2.HDF', 'pf_200901_level2.HDF', 'pf_200902_level2.HDF', 'pf_200903_level2.HDF', 'pf_200904_level2.HDF', 'pf_200905_level2.HDF', 'pf_200906_level2.HDF', 'pf_200907_level2.HDF', 'pf_200908_level2.HDF', 'pf_200909_level2.HDF', 'pf_200910_level2.HDF', 'pf_200911_level2.HDF', 'pf_200912_level2.HDF', 'pf_201001_level2.HDF', 'pf_201002_level2.HDF', 'pf_201003_level2.HDF', 'pf_201004_level2.HDF', 'pf_201005_level2.HDF', 'pf_201006_level2.HDF', 'pf_201007_level2.HDF', 'pf_201008_level2.HDF', 'pf_201009_level2.HDF', 'pf_201010_level2.HDF', 'pf_201011_level2.HDF', 'pf_201012_level2.HDF', 'pf_201101_level2.HDF', 'pf_201102_level2.HDF', 'pf_201103_level2.HDF', 'pf_201104_level2.HDF', 'pf_201105_level2.HDF', 'pf_201106_level2.HDF', 'pf_201107_level2.HDF', 'pf_201108_level2.HDF', 'pf_201109_level2.HDF', 'pf_201110_level2.HDF', 'pf_201111_level2.HDF', 'pf_201112_level2.HDF', 'pf_201201_level2.HDF', 'pf_201202_level2.HDF', 'pf_201203_level2.HDF', 'pf_201204_level2.HDF', 'pf_201205_level2.HDF', 'pf_201206_level2.HDF', 'pf_201207_level2.HDF', 'pf_201208_level2.HDF', 'pf_201209_level2.HDF', 'pf_201210_level2.HDF', 'pf_201211_level2.HDF', 'pf_201212_level2.HDF', 'pf_201301_level2.HDF', 'pf_201302_level2.HDF', 'pf_201303_level2.HDF', 'pf_201304_level2.HDF', 'pf_201305_level2.HDF', 'pf_201306_level2.HDF', 'pf_201307_level2.HDF', 'pf_201308_level2.HDF', 'pf_201309_level2.HDF', 'pf_201310_level2.HDF', 'pf_201311_level2.HDF', 'pf_201312_level2.HDF', 'pf_201401_level2.HDF', 'pf_201402_level2.HDF', 'pf_201403_level2.HDF', 'pf_201404_level2.HDF', 'pf_201405_level2.HDF', 'pf_201406_level2.HDF', 'pf_201407_level2.HDF', 'pf_201408_level2.HDF']\n"
     ]
    }
   ],
   "source": [
    "BASE_URL = 'http://atmos.tamucc.edu/trmm/data/trmm/v7/level_2/'+product+'/'\n",
    "list_files = get_subdirectories(BASE_URL)\n",
    "print(list_files)"
   ]
  },
  {
   "cell_type": "code",
   "execution_count": 14,
   "metadata": {},
   "outputs": [],
   "source": [
    "# 2000-12 to 2014-02\n",
    "list_new = list_files[36:-6]"
   ]
  },
  {
   "cell_type": "code",
   "execution_count": 15,
   "metadata": {},
   "outputs": [
    {
     "name": "stdout",
     "output_type": "stream",
     "text": [
      "   Downloading: pf_200012_level2.HDF\n"
     ]
    },
    {
     "name": "stderr",
     "output_type": "stream",
     "text": [
      "100%|█████████▉| 95369/95597.5615234375 [01:25<00:00, 1519.32KB/s]/home/arturo/anaconda3/envs/AXE/lib/python3.9/site-packages/tqdm/std.py:533: TqdmWarning: clamping frac to range [0, 1]\n",
      "  full_bar = Bar(frac,\n",
      "100%|██████████| 95598/95597.5615234375 [01:25<00:00, 1115.18KB/s]\n"
     ]
    },
    {
     "name": "stdout",
     "output_type": "stream",
     "text": [
      "\n",
      "   Downloading: pf_200101_level2.HDF\n"
     ]
    },
    {
     "name": "stderr",
     "output_type": "stream",
     "text": [
      "100%|██████████| 100944/100943.5009765625 [01:12<00:00, 1400.71KB/s]\n"
     ]
    },
    {
     "name": "stdout",
     "output_type": "stream",
     "text": [
      "\n",
      "   Downloading: pf_200102_level2.HDF\n"
     ]
    },
    {
     "name": "stderr",
     "output_type": "stream",
     "text": [
      "94904KB [01:00, 1555.90KB/s]                                    \n"
     ]
    },
    {
     "name": "stdout",
     "output_type": "stream",
     "text": [
      "\n",
      "   Downloading: pf_200103_level2.HDF\n"
     ]
    },
    {
     "name": "stderr",
     "output_type": "stream",
     "text": [
      "100%|██████████| 108811/108810.8330078125 [01:30<00:00, 1200.04KB/s]\n"
     ]
    },
    {
     "name": "stdout",
     "output_type": "stream",
     "text": [
      "\n",
      "   Downloading: pf_200104_level2.HDF\n"
     ]
    },
    {
     "name": "stderr",
     "output_type": "stream",
     "text": [
      "100%|██████████| 104278/104277.8046875 [02:30<00:00, 694.56KB/s] \n"
     ]
    },
    {
     "name": "stdout",
     "output_type": "stream",
     "text": [
      "\n",
      "   Downloading: pf_200105_level2.HDF\n"
     ]
    },
    {
     "name": "stderr",
     "output_type": "stream",
     "text": [
      "108333KB [02:17, 790.29KB/s]                                        \n"
     ]
    },
    {
     "name": "stdout",
     "output_type": "stream",
     "text": [
      "\n",
      "   Downloading: pf_200106_level2.HDF\n"
     ]
    },
    {
     "name": "stderr",
     "output_type": "stream",
     "text": [
      "107202KB [01:27, 1225.69KB/s]                                     \n"
     ]
    },
    {
     "name": "stdout",
     "output_type": "stream",
     "text": [
      "\n",
      "   Downloading: pf_200107_level2.HDF\n"
     ]
    },
    {
     "name": "stderr",
     "output_type": "stream",
     "text": [
      "121039KB [02:03, 976.89KB/s]                                  \n"
     ]
    },
    {
     "name": "stdout",
     "output_type": "stream",
     "text": [
      "\n",
      "   Downloading: pf_200108_level2.HDF\n"
     ]
    },
    {
     "name": "stderr",
     "output_type": "stream",
     "text": [
      "100%|██████████| 53151/53150.966796875 [00:43<00:00, 1209.05KB/s]\n"
     ]
    },
    {
     "name": "stdout",
     "output_type": "stream",
     "text": [
      "\n",
      "   Downloading: pf_200109_level2.HDF\n"
     ]
    },
    {
     "name": "stderr",
     "output_type": "stream",
     "text": [
      "100%|██████████| 102547/102546.6640625 [01:12<00:00, 1419.49KB/s]\n"
     ]
    },
    {
     "name": "stdout",
     "output_type": "stream",
     "text": [
      "\n",
      "   Downloading: pf_200110_level2.HDF\n"
     ]
    },
    {
     "name": "stderr",
     "output_type": "stream",
     "text": [
      "100%|██████████| 101541/101540.56640625 [01:01<00:00, 1638.62KB/s]\n"
     ]
    },
    {
     "name": "stdout",
     "output_type": "stream",
     "text": [
      "\n",
      "   Downloading: pf_200111_level2.HDF\n"
     ]
    },
    {
     "name": "stderr",
     "output_type": "stream",
     "text": [
      "90821KB [01:13, 1231.31KB/s]                                     \n"
     ]
    },
    {
     "name": "stdout",
     "output_type": "stream",
     "text": [
      "\n",
      "   Downloading: pf_200112_level2.HDF\n"
     ]
    },
    {
     "name": "stderr",
     "output_type": "stream",
     "text": [
      "100%|██████████| 97764/97763.5927734375 [01:25<00:00, 1149.66KB/s]\n"
     ]
    },
    {
     "name": "stdout",
     "output_type": "stream",
     "text": [
      "\n",
      "   Downloading: pf_200201_level2.HDF\n"
     ]
    },
    {
     "name": "stderr",
     "output_type": "stream",
     "text": [
      "100%|██████████| 100064/100063.56640625 [01:25<00:00, 1168.95KB/s]\n"
     ]
    },
    {
     "name": "stdout",
     "output_type": "stream",
     "text": [
      "\n",
      "   Downloading: pf_200202_level2.HDF\n"
     ]
    },
    {
     "name": "stderr",
     "output_type": "stream",
     "text": [
      "100%|██████████| 88032/88031.765625 [01:17<00:00, 1130.39KB/s]\n"
     ]
    },
    {
     "name": "stdout",
     "output_type": "stream",
     "text": [
      "\n",
      "   Downloading: pf_200203_level2.HDF\n"
     ]
    },
    {
     "name": "stderr",
     "output_type": "stream",
     "text": [
      "101623KB [02:00, 844.40KB/s]                                        \n"
     ]
    },
    {
     "name": "stdout",
     "output_type": "stream",
     "text": [
      "\n",
      "   Downloading: pf_200204_level2.HDF\n"
     ]
    },
    {
     "name": "stderr",
     "output_type": "stream",
     "text": [
      "100%|██████████| 104349/104348.853515625 [01:41<00:00, 1027.14KB/s]\n"
     ]
    },
    {
     "name": "stdout",
     "output_type": "stream",
     "text": [
      "\n",
      "   Downloading: pf_200205_level2.HDF\n"
     ]
    },
    {
     "name": "stderr",
     "output_type": "stream",
     "text": [
      "100%|██████████| 100861/100860.7890625 [01:57<00:00, 858.56KB/s] \n"
     ]
    },
    {
     "name": "stdout",
     "output_type": "stream",
     "text": [
      "\n",
      "   Downloading: pf_200206_level2.HDF\n"
     ]
    },
    {
     "name": "stderr",
     "output_type": "stream",
     "text": [
      "100034KB [01:42, 973.32KB/s]                                      \n"
     ]
    },
    {
     "name": "stdout",
     "output_type": "stream",
     "text": [
      "\n",
      "   Downloading: pf_200207_level2.HDF\n"
     ]
    },
    {
     "name": "stderr",
     "output_type": "stream",
     "text": [
      "105350KB [01:33, 1122.28KB/s]                                       \n"
     ]
    },
    {
     "name": "stdout",
     "output_type": "stream",
     "text": [
      "\n",
      "   Downloading: pf_200208_level2.HDF\n"
     ]
    },
    {
     "name": "stderr",
     "output_type": "stream",
     "text": [
      "100%|██████████| 110368/110367.505859375 [01:22<00:00, 1331.73KB/s]\n"
     ]
    },
    {
     "name": "stdout",
     "output_type": "stream",
     "text": [
      "\n",
      "   Downloading: pf_200209_level2.HDF\n"
     ]
    },
    {
     "name": "stderr",
     "output_type": "stream",
     "text": [
      "65008KB [00:46, 1412.15KB/s]                                     \n"
     ]
    },
    {
     "name": "stdout",
     "output_type": "stream",
     "text": [
      "\n",
      "   Downloading: pf_200210_level2.HDF\n"
     ]
    },
    {
     "name": "stderr",
     "output_type": "stream",
     "text": [
      "100%|██████████| 75917/75916.7568359375 [00:59<00:00, 1276.20KB/s]\n"
     ]
    },
    {
     "name": "stdout",
     "output_type": "stream",
     "text": [
      "\n",
      "   Downloading: pf_200211_level2.HDF\n"
     ]
    },
    {
     "name": "stderr",
     "output_type": "stream",
     "text": [
      "100%|██████████| 91044/91043.845703125 [01:19<00:00, 1150.09KB/s]\n"
     ]
    },
    {
     "name": "stdout",
     "output_type": "stream",
     "text": [
      "\n",
      "   Downloading: pf_200212_level2.HDF\n"
     ]
    },
    {
     "name": "stderr",
     "output_type": "stream",
     "text": [
      "93342KB [00:48, 1944.32KB/s]                                     \n"
     ]
    },
    {
     "name": "stdout",
     "output_type": "stream",
     "text": [
      "\n",
      "   Downloading: pf_200301_level2.HDF\n"
     ]
    },
    {
     "name": "stderr",
     "output_type": "stream",
     "text": [
      "93436KB [01:13, 1262.71KB/s]                                      \n"
     ]
    },
    {
     "name": "stdout",
     "output_type": "stream",
     "text": [
      "\n",
      "   Downloading: pf_200302_level2.HDF\n"
     ]
    },
    {
     "name": "stderr",
     "output_type": "stream",
     "text": [
      "100%|██████████| 89313/89312.990234375 [01:00<00:00, 1469.33KB/s]\n"
     ]
    },
    {
     "name": "stdout",
     "output_type": "stream",
     "text": [
      "\n",
      "   Downloading: pf_200303_level2.HDF\n"
     ]
    },
    {
     "name": "stderr",
     "output_type": "stream",
     "text": [
      "100642KB [00:52, 1910.03KB/s]                                       \n"
     ]
    },
    {
     "name": "stdout",
     "output_type": "stream",
     "text": [
      "\n",
      "   Downloading: pf_200304_level2.HDF\n"
     ]
    },
    {
     "name": "stderr",
     "output_type": "stream",
     "text": [
      "99570KB [01:28, 1124.92KB/s]                                      \n"
     ]
    },
    {
     "name": "stdout",
     "output_type": "stream",
     "text": [
      "\n",
      "   Downloading: pf_200305_level2.HDF\n"
     ]
    },
    {
     "name": "stderr",
     "output_type": "stream",
     "text": [
      "100%|██████████| 95442/95441.78125 [01:01<00:00, 1550.48KB/s] \n"
     ]
    },
    {
     "name": "stdout",
     "output_type": "stream",
     "text": [
      "\n",
      "   Downloading: pf_200306_level2.HDF\n"
     ]
    },
    {
     "name": "stderr",
     "output_type": "stream",
     "text": [
      "104226KB [01:28, 1180.58KB/s]                                       \n"
     ]
    },
    {
     "name": "stdout",
     "output_type": "stream",
     "text": [
      "\n",
      "   Downloading: pf_200307_level2.HDF\n"
     ]
    },
    {
     "name": "stderr",
     "output_type": "stream",
     "text": [
      "100%|██████████| 111579/111578.7529296875 [01:26<00:00, 1288.05KB/s]\n"
     ]
    },
    {
     "name": "stdout",
     "output_type": "stream",
     "text": [
      "\n",
      "   Downloading: pf_200308_level2.HDF\n"
     ]
    },
    {
     "name": "stderr",
     "output_type": "stream",
     "text": [
      "100%|██████████| 112822/112821.740234375 [01:27<00:00, 1286.84KB/s]\n"
     ]
    },
    {
     "name": "stdout",
     "output_type": "stream",
     "text": [
      "\n",
      "   Downloading: pf_200309_level2.HDF\n"
     ]
    },
    {
     "name": "stderr",
     "output_type": "stream",
     "text": [
      "100%|██████████| 104876/104875.927734375 [01:50<00:00, 952.39KB/s] \n"
     ]
    },
    {
     "name": "stdout",
     "output_type": "stream",
     "text": [
      "\n",
      "   Downloading: pf_200310_level2.HDF\n"
     ]
    },
    {
     "name": "stderr",
     "output_type": "stream",
     "text": [
      "98345KB [01:28, 1114.63KB/s]                                 \n"
     ]
    },
    {
     "name": "stdout",
     "output_type": "stream",
     "text": [
      "\n",
      "   Downloading: pf_200311_level2.HDF\n"
     ]
    },
    {
     "name": "stderr",
     "output_type": "stream",
     "text": [
      "100%|██████████| 95179/95178.8505859375 [01:21<00:00, 1168.16KB/s]\n"
     ]
    },
    {
     "name": "stdout",
     "output_type": "stream",
     "text": [
      "\n",
      "   Downloading: pf_200312_level2.HDF\n"
     ]
    },
    {
     "name": "stderr",
     "output_type": "stream",
     "text": [
      "100%|██████████| 95532/95531.75390625 [02:12<00:00, 723.29KB/s] \n"
     ]
    },
    {
     "name": "stdout",
     "output_type": "stream",
     "text": [
      "\n",
      "   Downloading: pf_200401_level2.HDF\n"
     ]
    },
    {
     "name": "stderr",
     "output_type": "stream",
     "text": [
      "100%|██████████| 100740/100739.70703125 [02:15<00:00, 741.54KB/s] \n"
     ]
    },
    {
     "name": "stdout",
     "output_type": "stream",
     "text": [
      "\n",
      "   Downloading: pf_200402_level2.HDF\n"
     ]
    },
    {
     "name": "stderr",
     "output_type": "stream",
     "text": [
      "94953KB [02:19, 679.41KB/s]                                      \n"
     ]
    },
    {
     "name": "stdout",
     "output_type": "stream",
     "text": [
      "\n",
      "   Downloading: pf_200403_level2.HDF\n"
     ]
    },
    {
     "name": "stderr",
     "output_type": "stream",
     "text": [
      "93873KB [02:18, 678.78KB/s]                                     \n"
     ]
    },
    {
     "name": "stdout",
     "output_type": "stream",
     "text": [
      "\n",
      "   Downloading: pf_200404_level2.HDF\n"
     ]
    },
    {
     "name": "stderr",
     "output_type": "stream",
     "text": [
      "100%|██████████| 98150/98149.9375 [02:04<00:00, 790.42KB/s] \n"
     ]
    },
    {
     "name": "stdout",
     "output_type": "stream",
     "text": [
      "\n",
      "   Downloading: pf_200405_level2.HDF\n"
     ]
    },
    {
     "name": "stderr",
     "output_type": "stream",
     "text": [
      "100%|██████████| 103305/103304.8671875 [02:59<00:00, 575.72KB/s] \n"
     ]
    },
    {
     "name": "stdout",
     "output_type": "stream",
     "text": [
      "\n",
      "   Downloading: pf_200406_level2.HDF\n"
     ]
    },
    {
     "name": "stderr",
     "output_type": "stream",
     "text": [
      "100%|██████████| 97832/97831.9619140625 [02:43<00:00, 598.02KB/s] \n"
     ]
    },
    {
     "name": "stdout",
     "output_type": "stream",
     "text": [
      "\n",
      "   Downloading: pf_200407_level2.HDF\n"
     ]
    },
    {
     "name": "stderr",
     "output_type": "stream",
     "text": [
      "114519KB [02:22, 806.45KB/s]                                       \n"
     ]
    },
    {
     "name": "stdout",
     "output_type": "stream",
     "text": [
      "\n",
      "   Downloading: pf_200408_level2.HDF\n"
     ]
    },
    {
     "name": "stderr",
     "output_type": "stream",
     "text": [
      "110908KB [01:58, 938.13KB/s]                                        \n"
     ]
    },
    {
     "name": "stdout",
     "output_type": "stream",
     "text": [
      "\n",
      "   Downloading: pf_200409_level2.HDF\n"
     ]
    },
    {
     "name": "stderr",
     "output_type": "stream",
     "text": [
      "100%|██████████| 106217/106216.775390625 [01:38<00:00, 1077.17KB/s]\n"
     ]
    },
    {
     "name": "stdout",
     "output_type": "stream",
     "text": [
      "\n",
      "   Downloading: pf_200410_level2.HDF\n"
     ]
    },
    {
     "name": "stderr",
     "output_type": "stream",
     "text": [
      "100%|██████████| 99348/99347.7119140625 [01:10<00:00, 1408.42KB/s]\n"
     ]
    },
    {
     "name": "stdout",
     "output_type": "stream",
     "text": [
      "\n",
      "   Downloading: pf_200411_level2.HDF\n"
     ]
    },
    {
     "name": "stderr",
     "output_type": "stream",
     "text": [
      "100%|██████████| 96903/96902.681640625 [01:27<00:00, 1105.98KB/s]\n"
     ]
    },
    {
     "name": "stdout",
     "output_type": "stream",
     "text": [
      "\n",
      "   Downloading: pf_200412_level2.HDF\n"
     ]
    },
    {
     "name": "stderr",
     "output_type": "stream",
     "text": [
      "97633KB [02:16, 714.69KB/s]                                      \n"
     ]
    },
    {
     "name": "stdout",
     "output_type": "stream",
     "text": [
      "\n",
      "   Downloading: pf_200501_level2.HDF\n"
     ]
    },
    {
     "name": "stderr",
     "output_type": "stream",
     "text": [
      "100445KB [02:02, 822.94KB/s]                                        \n"
     ]
    },
    {
     "name": "stdout",
     "output_type": "stream",
     "text": [
      "\n",
      "   Downloading: pf_200502_level2.HDF\n"
     ]
    },
    {
     "name": "stderr",
     "output_type": "stream",
     "text": [
      "87657KB [02:17, 637.40KB/s]                                     \n"
     ]
    },
    {
     "name": "stdout",
     "output_type": "stream",
     "text": [
      "\n",
      "   Downloading: pf_200503_level2.HDF\n"
     ]
    },
    {
     "name": "stderr",
     "output_type": "stream",
     "text": [
      "98731KB [01:47, 914.24KB/s]                                     \n"
     ]
    },
    {
     "name": "stdout",
     "output_type": "stream",
     "text": [
      "\n",
      "   Downloading: pf_200504_level2.HDF\n"
     ]
    },
    {
     "name": "stderr",
     "output_type": "stream",
     "text": [
      "100%|██████████| 97723/97722.5595703125 [01:24<00:00, 1158.20KB/s]\n"
     ]
    },
    {
     "name": "stdout",
     "output_type": "stream",
     "text": [
      "\n",
      "   Downloading: pf_200505_level2.HDF\n"
     ]
    },
    {
     "name": "stderr",
     "output_type": "stream",
     "text": [
      "100%|██████████| 101762/101761.876953125 [01:24<00:00, 1205.37KB/s]\n"
     ]
    },
    {
     "name": "stdout",
     "output_type": "stream",
     "text": [
      "\n",
      "   Downloading: pf_200506_level2.HDF\n"
     ]
    },
    {
     "name": "stderr",
     "output_type": "stream",
     "text": [
      "100%|██████████| 101910/101909.916015625 [01:29<00:00, 1138.36KB/s]\n"
     ]
    },
    {
     "name": "stdout",
     "output_type": "stream",
     "text": [
      "\n",
      "   Downloading: pf_200507_level2.HDF\n"
     ]
    },
    {
     "name": "stderr",
     "output_type": "stream",
     "text": [
      "100%|██████████| 115464/115463.9345703125 [01:30<00:00, 1274.30KB/s]\n"
     ]
    },
    {
     "name": "stdout",
     "output_type": "stream",
     "text": [
      "\n",
      "   Downloading: pf_200508_level2.HDF\n"
     ]
    },
    {
     "name": "stderr",
     "output_type": "stream",
     "text": [
      "100%|██████████| 111720/111719.71484375 [01:03<00:00, 1755.29KB/s]\n"
     ]
    },
    {
     "name": "stdout",
     "output_type": "stream",
     "text": [
      "\n",
      "   Downloading: pf_200509_level2.HDF\n"
     ]
    },
    {
     "name": "stderr",
     "output_type": "stream",
     "text": [
      "99177KB [01:27, 1139.21KB/s]                                  \n"
     ]
    },
    {
     "name": "stdout",
     "output_type": "stream",
     "text": [
      "\n",
      "   Downloading: pf_200510_level2.HDF\n"
     ]
    },
    {
     "name": "stderr",
     "output_type": "stream",
     "text": [
      "100%|██████████| 103542/103541.693359375 [01:07<00:00, 1541.20KB/s]\n"
     ]
    },
    {
     "name": "stdout",
     "output_type": "stream",
     "text": [
      "\n",
      "   Downloading: pf_200511_level2.HDF\n"
     ]
    },
    {
     "name": "stderr",
     "output_type": "stream",
     "text": [
      "95733KB [01:16, 1258.75KB/s]                                     \n"
     ]
    },
    {
     "name": "stdout",
     "output_type": "stream",
     "text": [
      "\n",
      "   Downloading: pf_200512_level2.HDF\n"
     ]
    },
    {
     "name": "stderr",
     "output_type": "stream",
     "text": [
      "100%|██████████| 97693/97692.7138671875 [01:04<00:00, 1503.88KB/s]\n"
     ]
    },
    {
     "name": "stdout",
     "output_type": "stream",
     "text": [
      "\n",
      "   Downloading: pf_200601_level2.HDF\n"
     ]
    },
    {
     "name": "stderr",
     "output_type": "stream",
     "text": [
      "100%|██████████| 101933/101932.6865234375 [01:55<00:00, 879.23KB/s] \n"
     ]
    },
    {
     "name": "stdout",
     "output_type": "stream",
     "text": [
      "\n",
      "   Downloading: pf_200602_level2.HDF\n"
     ]
    },
    {
     "name": "stderr",
     "output_type": "stream",
     "text": [
      "100%|██████████| 94596/94595.7802734375 [01:34<00:00, 1005.73KB/s]\n"
     ]
    },
    {
     "name": "stdout",
     "output_type": "stream",
     "text": [
      "\n",
      "   Downloading: pf_200603_level2.HDF\n"
     ]
    },
    {
     "name": "stderr",
     "output_type": "stream",
     "text": [
      "100%|██████████| 105735/105734.5751953125 [01:59<00:00, 887.91KB/s] \n"
     ]
    },
    {
     "name": "stdout",
     "output_type": "stream",
     "text": [
      "\n",
      "   Downloading: pf_200604_level2.HDF\n"
     ]
    },
    {
     "name": "stderr",
     "output_type": "stream",
     "text": [
      "100%|██████████| 105241/105240.716796875 [01:36<00:00, 1095.85KB/s]\n"
     ]
    },
    {
     "name": "stdout",
     "output_type": "stream",
     "text": [
      "\n",
      "   Downloading: pf_200605_level2.HDF\n"
     ]
    },
    {
     "name": "stderr",
     "output_type": "stream",
     "text": [
      "107636KB [02:22, 757.31KB/s]                                        \n"
     ]
    },
    {
     "name": "stdout",
     "output_type": "stream",
     "text": [
      "\n",
      "   Downloading: pf_200606_level2.HDF\n"
     ]
    },
    {
     "name": "stderr",
     "output_type": "stream",
     "text": [
      "109562KB [01:55, 945.77KB/s]                                       \n"
     ]
    },
    {
     "name": "stdout",
     "output_type": "stream",
     "text": [
      "\n",
      "   Downloading: pf_200607_level2.HDF\n"
     ]
    },
    {
     "name": "stderr",
     "output_type": "stream",
     "text": [
      "100%|██████████| 109821/109820.6875 [02:42<00:00, 677.37KB/s] \n"
     ]
    },
    {
     "name": "stdout",
     "output_type": "stream",
     "text": [
      "\n",
      "   Downloading: pf_200608_level2.HDF\n"
     ]
    },
    {
     "name": "stderr",
     "output_type": "stream",
     "text": [
      "100%|██████████| 109000/108999.7490234375 [02:18<00:00, 786.88KB/s] \n"
     ]
    },
    {
     "name": "stdout",
     "output_type": "stream",
     "text": [
      "\n",
      "   Downloading: pf_200609_level2.HDF\n"
     ]
    },
    {
     "name": "stderr",
     "output_type": "stream",
     "text": [
      "100%|██████████| 104278/104277.9072265625 [02:34<00:00, 673.60KB/s] \n"
     ]
    },
    {
     "name": "stdout",
     "output_type": "stream",
     "text": [
      "\n",
      "   Downloading: pf_200610_level2.HDF\n"
     ]
    },
    {
     "name": "stderr",
     "output_type": "stream",
     "text": [
      "99095KB [03:02, 542.73KB/s]                                       \n"
     ]
    },
    {
     "name": "stdout",
     "output_type": "stream",
     "text": [
      "\n",
      "   Downloading: pf_200611_level2.HDF\n"
     ]
    },
    {
     "name": "stderr",
     "output_type": "stream",
     "text": [
      "96014KB [03:37, 442.07KB/s]                                       \n"
     ]
    },
    {
     "name": "stdout",
     "output_type": "stream",
     "text": [
      "\n",
      "   Downloading: pf_200612_level2.HDF\n"
     ]
    },
    {
     "name": "stderr",
     "output_type": "stream",
     "text": [
      "100%|██████████| 97260/97259.9423828125 [02:20<00:00, 690.34KB/s] \n"
     ]
    },
    {
     "name": "stdout",
     "output_type": "stream",
     "text": [
      "\n",
      "   Downloading: pf_200701_level2.HDF\n"
     ]
    },
    {
     "name": "stderr",
     "output_type": "stream",
     "text": [
      "96171KB [02:00, 795.72KB/s]                                       \n"
     ]
    },
    {
     "name": "stdout",
     "output_type": "stream",
     "text": [
      "\n",
      "   Downloading: pf_200702_level2.HDF\n"
     ]
    },
    {
     "name": "stderr",
     "output_type": "stream",
     "text": [
      "100%|██████████| 90150/90149.7060546875 [02:26<00:00, 614.94KB/s] \n"
     ]
    },
    {
     "name": "stdout",
     "output_type": "stream",
     "text": [
      "\n",
      "   Downloading: pf_200703_level2.HDF\n"
     ]
    },
    {
     "name": "stderr",
     "output_type": "stream",
     "text": [
      "96223KB [02:18, 696.14KB/s]                                     \n"
     ]
    },
    {
     "name": "stdout",
     "output_type": "stream",
     "text": [
      "\n",
      "   Downloading: pf_200704_level2.HDF\n"
     ]
    },
    {
     "name": "stderr",
     "output_type": "stream",
     "text": [
      "100213KB [02:13, 752.36KB/s]                                      \n"
     ]
    },
    {
     "name": "stdout",
     "output_type": "stream",
     "text": [
      "\n",
      "   Downloading: pf_200705_level2.HDF\n"
     ]
    },
    {
     "name": "stderr",
     "output_type": "stream",
     "text": [
      "104653KB [02:29, 698.68KB/s]                                        \n"
     ]
    },
    {
     "name": "stdout",
     "output_type": "stream",
     "text": [
      "\n",
      "   Downloading: pf_200706_level2.HDF\n"
     ]
    },
    {
     "name": "stderr",
     "output_type": "stream",
     "text": [
      "106420KB [02:37, 675.49KB/s]                                       \n"
     ]
    },
    {
     "name": "stdout",
     "output_type": "stream",
     "text": [
      "\n",
      "   Downloading: pf_200707_level2.HDF\n"
     ]
    },
    {
     "name": "stderr",
     "output_type": "stream",
     "text": [
      "100%|██████████| 104315/104314.974609375 [02:42<00:00, 643.15KB/s] \n"
     ]
    },
    {
     "name": "stdout",
     "output_type": "stream",
     "text": [
      "\n",
      "   Downloading: pf_200708_level2.HDF\n"
     ]
    },
    {
     "name": "stderr",
     "output_type": "stream",
     "text": [
      "114015KB [03:08, 603.55KB/s]                                       \n"
     ]
    },
    {
     "name": "stdout",
     "output_type": "stream",
     "text": [
      "\n",
      "   Downloading: pf_200709_level2.HDF\n"
     ]
    },
    {
     "name": "stderr",
     "output_type": "stream",
     "text": [
      "103523KB [02:36, 660.89KB/s]                                        \n"
     ]
    },
    {
     "name": "stdout",
     "output_type": "stream",
     "text": [
      "\n",
      "   Downloading: pf_200710_level2.HDF\n"
     ]
    },
    {
     "name": "stderr",
     "output_type": "stream",
     "text": [
      "100%|██████████| 100240/100239.640625 [01:18<00:00, 1281.26KB/s]\n"
     ]
    },
    {
     "name": "stdout",
     "output_type": "stream",
     "text": [
      "\n",
      "   Downloading: pf_200711_level2.HDF\n"
     ]
    },
    {
     "name": "stderr",
     "output_type": "stream",
     "text": [
      "93083KB [01:27, 1065.36KB/s]                                      \n"
     ]
    },
    {
     "name": "stdout",
     "output_type": "stream",
     "text": [
      "\n",
      "   Downloading: pf_200712_level2.HDF\n"
     ]
    },
    {
     "name": "stderr",
     "output_type": "stream",
     "text": [
      "97291KB [02:03, 789.49KB/s]                                       \n"
     ]
    },
    {
     "name": "stdout",
     "output_type": "stream",
     "text": [
      "\n",
      "   Downloading: pf_200801_level2.HDF\n"
     ]
    },
    {
     "name": "stderr",
     "output_type": "stream",
     "text": [
      "101666KB [01:46, 951.72KB/s]                                        \n"
     ]
    },
    {
     "name": "stdout",
     "output_type": "stream",
     "text": [
      "\n",
      "   Downloading: pf_200802_level2.HDF\n"
     ]
    },
    {
     "name": "stderr",
     "output_type": "stream",
     "text": [
      "96371KB [01:40, 960.02KB/s]                                   \n"
     ]
    },
    {
     "name": "stdout",
     "output_type": "stream",
     "text": [
      "\n",
      "   Downloading: pf_200803_level2.HDF\n"
     ]
    },
    {
     "name": "stderr",
     "output_type": "stream",
     "text": [
      "100%|██████████| 107162/107161.8564453125 [02:03<00:00, 870.25KB/s] \n"
     ]
    },
    {
     "name": "stdout",
     "output_type": "stream",
     "text": [
      "\n",
      "   Downloading: pf_200804_level2.HDF\n"
     ]
    },
    {
     "name": "stderr",
     "output_type": "stream",
     "text": [
      "103538KB [01:29, 1162.07KB/s]                                       \n"
     ]
    },
    {
     "name": "stdout",
     "output_type": "stream",
     "text": [
      "\n",
      "   Downloading: pf_200805_level2.HDF\n"
     ]
    },
    {
     "name": "stderr",
     "output_type": "stream",
     "text": [
      "111352KB [02:44, 675.05KB/s]                                      \n"
     ]
    },
    {
     "name": "stdout",
     "output_type": "stream",
     "text": [
      "\n",
      "   Downloading: pf_200806_level2.HDF\n"
     ]
    },
    {
     "name": "stderr",
     "output_type": "stream",
     "text": [
      "100%|██████████| 106233/106232.8349609375 [01:28<00:00, 1198.83KB/s]\n"
     ]
    },
    {
     "name": "stdout",
     "output_type": "stream",
     "text": [
      "\n",
      "   Downloading: pf_200807_level2.HDF\n"
     ]
    },
    {
     "name": "stderr",
     "output_type": "stream",
     "text": [
      "100%|██████████| 117994/117993.763671875 [01:46<00:00, 1110.39KB/s]\n"
     ]
    },
    {
     "name": "stdout",
     "output_type": "stream",
     "text": [
      "\n",
      "   Downloading: pf_200808_level2.HDF\n"
     ]
    },
    {
     "name": "stderr",
     "output_type": "stream",
     "text": [
      "117449KB [01:54, 1024.18KB/s]                                     \n"
     ]
    },
    {
     "name": "stdout",
     "output_type": "stream",
     "text": [
      "\n",
      "   Downloading: pf_200809_level2.HDF\n"
     ]
    },
    {
     "name": "stderr",
     "output_type": "stream",
     "text": [
      "100%|██████████| 106007/106006.9697265625 [01:22<00:00, 1279.06KB/s]\n"
     ]
    },
    {
     "name": "stdout",
     "output_type": "stream",
     "text": [
      "\n",
      "   Downloading: pf_200810_level2.HDF\n"
     ]
    },
    {
     "name": "stderr",
     "output_type": "stream",
     "text": [
      "105673KB [01:39, 1066.14KB/s]                                       \n"
     ]
    },
    {
     "name": "stdout",
     "output_type": "stream",
     "text": [
      "\n",
      "   Downloading: pf_200811_level2.HDF\n"
     ]
    },
    {
     "name": "stderr",
     "output_type": "stream",
     "text": [
      "98271KB [01:19, 1229.82KB/s]                                       \n"
     ]
    },
    {
     "name": "stdout",
     "output_type": "stream",
     "text": [
      "\n",
      "   Downloading: pf_200812_level2.HDF\n"
     ]
    },
    {
     "name": "stderr",
     "output_type": "stream",
     "text": [
      "100%|██████████| 99949/99948.638671875 [01:13<00:00, 1354.81KB/s]\n"
     ]
    },
    {
     "name": "stdout",
     "output_type": "stream",
     "text": [
      "\n",
      "   Downloading: pf_200901_level2.HDF\n"
     ]
    },
    {
     "name": "stderr",
     "output_type": "stream",
     "text": [
      "100%|██████████| 100800/100799.7109375 [01:34<00:00, 1066.96KB/s]\n"
     ]
    },
    {
     "name": "stdout",
     "output_type": "stream",
     "text": [
      "\n",
      "   Downloading: pf_200902_level2.HDF\n"
     ]
    },
    {
     "name": "stderr",
     "output_type": "stream",
     "text": [
      "97667KB [01:13, 1327.55KB/s]                                  \n"
     ]
    },
    {
     "name": "stdout",
     "output_type": "stream",
     "text": [
      "\n",
      "   Downloading: pf_200903_level2.HDF\n"
     ]
    },
    {
     "name": "stderr",
     "output_type": "stream",
     "text": [
      "105508KB [01:30, 1171.76KB/s]                                       \n"
     ]
    },
    {
     "name": "stdout",
     "output_type": "stream",
     "text": [
      "\n",
      "   Downloading: pf_200904_level2.HDF\n"
     ]
    },
    {
     "name": "stderr",
     "output_type": "stream",
     "text": [
      "100%|██████████| 100113/100112.6015625 [01:23<00:00, 1200.66KB/s]\n"
     ]
    },
    {
     "name": "stdout",
     "output_type": "stream",
     "text": [
      "\n",
      "   Downloading: pf_200905_level2.HDF\n"
     ]
    },
    {
     "name": "stderr",
     "output_type": "stream",
     "text": [
      "100%|██████████| 97631/97630.736328125 [01:47<00:00, 912.39KB/s] \n"
     ]
    },
    {
     "name": "stdout",
     "output_type": "stream",
     "text": [
      "\n",
      "   Downloading: pf_200906_level2.HDF\n"
     ]
    },
    {
     "name": "stderr",
     "output_type": "stream",
     "text": [
      "43905KB [00:40, 1092.85KB/s]                                      \n"
     ]
    },
    {
     "name": "stdout",
     "output_type": "stream",
     "text": [
      "\n",
      "   Downloading: pf_200907_level2.HDF\n"
     ]
    },
    {
     "name": "stderr",
     "output_type": "stream",
     "text": [
      "100%|██████████| 110258/110257.765625 [00:48<00:00, 2274.12KB/s]\n"
     ]
    },
    {
     "name": "stdout",
     "output_type": "stream",
     "text": [
      "\n",
      "   Downloading: pf_200908_level2.HDF\n"
     ]
    },
    {
     "name": "stderr",
     "output_type": "stream",
     "text": [
      "100%|██████████| 106661/106660.7822265625 [01:26<00:00, 1239.30KB/s]\n"
     ]
    },
    {
     "name": "stdout",
     "output_type": "stream",
     "text": [
      "\n",
      "   Downloading: pf_200909_level2.HDF\n"
     ]
    },
    {
     "name": "stderr",
     "output_type": "stream",
     "text": [
      "100%|██████████| 103276/103275.748046875 [01:23<00:00, 1241.40KB/s]\n"
     ]
    },
    {
     "name": "stdout",
     "output_type": "stream",
     "text": [
      "\n",
      "   Downloading: pf_200910_level2.HDF\n"
     ]
    },
    {
     "name": "stderr",
     "output_type": "stream",
     "text": [
      "94910KB [01:05, 1447.68KB/s]                                       \n"
     ]
    },
    {
     "name": "stdout",
     "output_type": "stream",
     "text": [
      "\n",
      "   Downloading: pf_200911_level2.HDF\n"
     ]
    },
    {
     "name": "stderr",
     "output_type": "stream",
     "text": [
      "100%|██████████| 94180/94179.736328125 [00:43<00:00, 2190.12KB/s] \n"
     ]
    },
    {
     "name": "stdout",
     "output_type": "stream",
     "text": [
      "\n",
      "   Downloading: pf_200912_level2.HDF\n"
     ]
    },
    {
     "name": "stderr",
     "output_type": "stream",
     "text": [
      "94040KB [01:08, 1379.73KB/s]                                     \n"
     ]
    },
    {
     "name": "stdout",
     "output_type": "stream",
     "text": [
      "\n",
      "   Downloading: pf_201001_level2.HDF\n"
     ]
    },
    {
     "name": "stderr",
     "output_type": "stream",
     "text": [
      "95666KB [01:30, 1056.14KB/s]                                      \n"
     ]
    },
    {
     "name": "stdout",
     "output_type": "stream",
     "text": [
      "\n",
      "   Downloading: pf_201002_level2.HDF\n"
     ]
    },
    {
     "name": "stderr",
     "output_type": "stream",
     "text": [
      "100%|██████████| 87037/87036.58203125 [01:36<00:00, 902.25KB/s] \n"
     ]
    },
    {
     "name": "stdout",
     "output_type": "stream",
     "text": [
      "\n",
      "   Downloading: pf_201003_level2.HDF\n"
     ]
    },
    {
     "name": "stderr",
     "output_type": "stream",
     "text": [
      "100%|██████████| 95694/95693.8193359375 [01:27<00:00, 1095.48KB/s]\n"
     ]
    },
    {
     "name": "stdout",
     "output_type": "stream",
     "text": [
      "\n",
      "   Downloading: pf_201004_level2.HDF\n"
     ]
    },
    {
     "name": "stderr",
     "output_type": "stream",
     "text": [
      "100%|██████████| 99230/99229.6171875 [01:31<00:00, 1084.06KB/s]\n"
     ]
    },
    {
     "name": "stdout",
     "output_type": "stream",
     "text": [
      "\n",
      "   Downloading: pf_201005_level2.HDF\n"
     ]
    },
    {
     "name": "stderr",
     "output_type": "stream",
     "text": [
      "100%|██████████| 99759/99758.7138671875 [01:34<00:00, 1056.97KB/s]\n"
     ]
    },
    {
     "name": "stdout",
     "output_type": "stream",
     "text": [
      "\n",
      "   Downloading: pf_201006_level2.HDF\n"
     ]
    },
    {
     "name": "stderr",
     "output_type": "stream",
     "text": [
      "100%|██████████| 104543/104542.69921875 [01:39<00:00, 1055.93KB/s]\n"
     ]
    },
    {
     "name": "stdout",
     "output_type": "stream",
     "text": [
      "\n",
      "   Downloading: pf_201007_level2.HDF\n"
     ]
    },
    {
     "name": "stderr",
     "output_type": "stream",
     "text": [
      "111764KB [01:20, 1386.67KB/s]                                       \n"
     ]
    },
    {
     "name": "stdout",
     "output_type": "stream",
     "text": [
      "\n",
      "   Downloading: pf_201008_level2.HDF\n"
     ]
    },
    {
     "name": "stderr",
     "output_type": "stream",
     "text": [
      "111963KB [01:56, 961.08KB/s]                                       \n"
     ]
    },
    {
     "name": "stdout",
     "output_type": "stream",
     "text": [
      "\n",
      "   Downloading: pf_201009_level2.HDF\n"
     ]
    },
    {
     "name": "stderr",
     "output_type": "stream",
     "text": [
      "104824KB [01:13, 1427.40KB/s]                                       \n"
     ]
    },
    {
     "name": "stdout",
     "output_type": "stream",
     "text": [
      "\n",
      "   Downloading: pf_201010_level2.HDF\n"
     ]
    },
    {
     "name": "stderr",
     "output_type": "stream",
     "text": [
      "100292KB [01:31, 1091.42KB/s]                                      \n"
     ]
    },
    {
     "name": "stdout",
     "output_type": "stream",
     "text": [
      "\n",
      "   Downloading: pf_201011_level2.HDF\n"
     ]
    },
    {
     "name": "stderr",
     "output_type": "stream",
     "text": [
      "97447KB [00:54, 1774.11KB/s]                                      \n"
     ]
    },
    {
     "name": "stdout",
     "output_type": "stream",
     "text": [
      "\n",
      "   Downloading: pf_201012_level2.HDF\n"
     ]
    },
    {
     "name": "stderr",
     "output_type": "stream",
     "text": [
      "102751KB [01:45, 976.94KB/s]                                   \n"
     ]
    },
    {
     "name": "stdout",
     "output_type": "stream",
     "text": [
      "\n",
      "   Downloading: pf_201101_level2.HDF\n"
     ]
    },
    {
     "name": "stderr",
     "output_type": "stream",
     "text": [
      "104280KB [01:49, 949.16KB/s]                                        \n"
     ]
    },
    {
     "name": "stdout",
     "output_type": "stream",
     "text": [
      "\n",
      "   Downloading: pf_201102_level2.HDF\n"
     ]
    },
    {
     "name": "stderr",
     "output_type": "stream",
     "text": [
      "100%|██████████| 95827/95826.69921875 [01:03<00:00, 1504.67KB/s]\n"
     ]
    },
    {
     "name": "stdout",
     "output_type": "stream",
     "text": [
      "\n",
      "   Downloading: pf_201103_level2.HDF\n"
     ]
    },
    {
     "name": "stderr",
     "output_type": "stream",
     "text": [
      "100%|██████████| 108267/108266.79296875 [01:36<00:00, 1117.22KB/s]\n"
     ]
    },
    {
     "name": "stdout",
     "output_type": "stream",
     "text": [
      "\n",
      "   Downloading: pf_201104_level2.HDF\n"
     ]
    },
    {
     "name": "stderr",
     "output_type": "stream",
     "text": [
      "103889KB [01:27, 1189.24KB/s]                                      \n"
     ]
    },
    {
     "name": "stdout",
     "output_type": "stream",
     "text": [
      "\n",
      "   Downloading: pf_201105_level2.HDF\n"
     ]
    },
    {
     "name": "stderr",
     "output_type": "stream",
     "text": [
      "112904KB [01:56, 972.44KB/s]                                       \n"
     ]
    },
    {
     "name": "stdout",
     "output_type": "stream",
     "text": [
      "\n",
      "   Downloading: pf_201106_level2.HDF\n"
     ]
    },
    {
     "name": "stderr",
     "output_type": "stream",
     "text": [
      "104196KB [01:51, 930.91KB/s]                                       \n"
     ]
    },
    {
     "name": "stdout",
     "output_type": "stream",
     "text": [
      "\n",
      "   Downloading: pf_201107_level2.HDF\n"
     ]
    },
    {
     "name": "stderr",
     "output_type": "stream",
     "text": [
      "115801KB [01:46, 1088.92KB/s]                                       \n"
     ]
    },
    {
     "name": "stdout",
     "output_type": "stream",
     "text": [
      "\n",
      "   Downloading: pf_201108_level2.HDF\n"
     ]
    },
    {
     "name": "stderr",
     "output_type": "stream",
     "text": [
      "112293KB [02:03, 907.70KB/s]                                        \n"
     ]
    },
    {
     "name": "stdout",
     "output_type": "stream",
     "text": [
      "\n",
      "   Downloading: pf_201109_level2.HDF\n"
     ]
    },
    {
     "name": "stderr",
     "output_type": "stream",
     "text": [
      "100411KB [01:22, 1220.72KB/s]                                       \n"
     ]
    },
    {
     "name": "stdout",
     "output_type": "stream",
     "text": [
      "\n",
      "   Downloading: pf_201110_level2.HDF\n"
     ]
    },
    {
     "name": "stderr",
     "output_type": "stream",
     "text": [
      "104358KB [01:23, 1255.10KB/s]                                       \n"
     ]
    },
    {
     "name": "stdout",
     "output_type": "stream",
     "text": [
      "\n",
      "   Downloading: pf_201111_level2.HDF\n"
     ]
    },
    {
     "name": "stderr",
     "output_type": "stream",
     "text": [
      "96429KB [01:43, 932.86KB/s]                                     \n"
     ]
    },
    {
     "name": "stdout",
     "output_type": "stream",
     "text": [
      "\n",
      "   Downloading: pf_201112_level2.HDF\n"
     ]
    },
    {
     "name": "stderr",
     "output_type": "stream",
     "text": [
      "97391KB [01:15, 1289.91KB/s]                                     \n"
     ]
    },
    {
     "name": "stdout",
     "output_type": "stream",
     "text": [
      "\n",
      "   Downloading: pf_201201_level2.HDF\n"
     ]
    },
    {
     "name": "stderr",
     "output_type": "stream",
     "text": [
      "98275KB [01:23, 1180.11KB/s]                                     \n"
     ]
    },
    {
     "name": "stdout",
     "output_type": "stream",
     "text": [
      "\n",
      "   Downloading: pf_201202_level2.HDF\n"
     ]
    },
    {
     "name": "stderr",
     "output_type": "stream",
     "text": [
      "100%|██████████| 96914/96913.806640625 [02:10<00:00, 744.16KB/s] \n"
     ]
    },
    {
     "name": "stdout",
     "output_type": "stream",
     "text": [
      "\n",
      "   Downloading: pf_201203_level2.HDF\n"
     ]
    },
    {
     "name": "stderr",
     "output_type": "stream",
     "text": [
      "100476KB [01:46, 940.69KB/s]                                        \n"
     ]
    },
    {
     "name": "stdout",
     "output_type": "stream",
     "text": [
      "\n",
      "   Downloading: pf_201204_level2.HDF\n"
     ]
    },
    {
     "name": "stderr",
     "output_type": "stream",
     "text": [
      "109386KB [01:24, 1292.15KB/s]                                       \n"
     ]
    },
    {
     "name": "stdout",
     "output_type": "stream",
     "text": [
      "\n",
      "   Downloading: pf_201205_level2.HDF\n"
     ]
    },
    {
     "name": "stderr",
     "output_type": "stream",
     "text": [
      "100%|██████████| 102039/102038.615234375 [01:51<00:00, 915.83KB/s] \n"
     ]
    },
    {
     "name": "stdout",
     "output_type": "stream",
     "text": [
      "\n",
      "   Downloading: pf_201206_level2.HDF\n"
     ]
    },
    {
     "name": "stderr",
     "output_type": "stream",
     "text": [
      "98827KB [01:20, 1227.05KB/s]                                     \n"
     ]
    },
    {
     "name": "stdout",
     "output_type": "stream",
     "text": [
      "\n",
      "   Downloading: pf_201207_level2.HDF\n"
     ]
    },
    {
     "name": "stderr",
     "output_type": "stream",
     "text": [
      "115679KB [01:35, 1217.04KB/s]                                     \n"
     ]
    },
    {
     "name": "stdout",
     "output_type": "stream",
     "text": [
      "\n",
      "   Downloading: pf_201208_level2.HDF\n"
     ]
    },
    {
     "name": "stderr",
     "output_type": "stream",
     "text": [
      "112753KB [01:26, 1297.26KB/s]                                      \n"
     ]
    },
    {
     "name": "stdout",
     "output_type": "stream",
     "text": [
      "\n",
      "   Downloading: pf_201209_level2.HDF\n"
     ]
    },
    {
     "name": "stderr",
     "output_type": "stream",
     "text": [
      "100%|██████████| 101558/101557.7470703125 [01:05<00:00, 1557.41KB/s]\n"
     ]
    },
    {
     "name": "stdout",
     "output_type": "stream",
     "text": [
      "\n",
      "   Downloading: pf_201210_level2.HDF\n"
     ]
    },
    {
     "name": "stderr",
     "output_type": "stream",
     "text": [
      "100%|██████████| 97566/97565.5126953125 [01:52<00:00, 867.86KB/s] \n"
     ]
    },
    {
     "name": "stdout",
     "output_type": "stream",
     "text": [
      "\n",
      "   Downloading: pf_201211_level2.HDF\n"
     ]
    },
    {
     "name": "stderr",
     "output_type": "stream",
     "text": [
      "97628KB [00:56, 1719.61KB/s]                                     \n"
     ]
    },
    {
     "name": "stdout",
     "output_type": "stream",
     "text": [
      "\n",
      "   Downloading: pf_201212_level2.HDF\n"
     ]
    },
    {
     "name": "stderr",
     "output_type": "stream",
     "text": [
      "94385KB [01:05, 1437.11KB/s]                             \n"
     ]
    },
    {
     "name": "stdout",
     "output_type": "stream",
     "text": [
      "\n",
      "   Downloading: pf_201301_level2.HDF\n"
     ]
    },
    {
     "name": "stderr",
     "output_type": "stream",
     "text": [
      "90395KB [01:11, 1262.39KB/s]                                      \n"
     ]
    },
    {
     "name": "stdout",
     "output_type": "stream",
     "text": [
      "\n",
      "   Downloading: pf_201302_level2.HDF\n"
     ]
    },
    {
     "name": "stderr",
     "output_type": "stream",
     "text": [
      "100%|██████████| 89528/89527.6884765625 [01:18<00:00, 1144.27KB/s]\n"
     ]
    },
    {
     "name": "stdout",
     "output_type": "stream",
     "text": [
      "\n",
      "   Downloading: pf_201303_level2.HDF\n"
     ]
    },
    {
     "name": "stderr",
     "output_type": "stream",
     "text": [
      "100485KB [01:41, 990.94KB/s]                                       \n"
     ]
    },
    {
     "name": "stdout",
     "output_type": "stream",
     "text": [
      "\n",
      "   Downloading: pf_201304_level2.HDF\n"
     ]
    },
    {
     "name": "stderr",
     "output_type": "stream",
     "text": [
      "98575KB [01:58, 829.36KB/s]                                      \n"
     ]
    },
    {
     "name": "stdout",
     "output_type": "stream",
     "text": [
      "\n",
      "   Downloading: pf_201305_level2.HDF\n"
     ]
    },
    {
     "name": "stderr",
     "output_type": "stream",
     "text": [
      "100%|██████████| 104252/104251.5498046875 [01:39<00:00, 1045.48KB/s]\n"
     ]
    },
    {
     "name": "stdout",
     "output_type": "stream",
     "text": [
      "\n",
      "   Downloading: pf_201306_level2.HDF\n"
     ]
    },
    {
     "name": "stderr",
     "output_type": "stream",
     "text": [
      "102518KB [01:33, 1097.38KB/s]                                      \n"
     ]
    },
    {
     "name": "stdout",
     "output_type": "stream",
     "text": [
      "\n",
      "   Downloading: pf_201307_level2.HDF\n"
     ]
    },
    {
     "name": "stderr",
     "output_type": "stream",
     "text": [
      "114734KB [01:26, 1320.23KB/s]                                       \n"
     ]
    },
    {
     "name": "stdout",
     "output_type": "stream",
     "text": [
      "\n",
      "   Downloading: pf_201308_level2.HDF\n"
     ]
    },
    {
     "name": "stderr",
     "output_type": "stream",
     "text": [
      "100%|██████████| 109471/109470.88671875 [01:20<00:00, 1365.23KB/s]\n"
     ]
    },
    {
     "name": "stdout",
     "output_type": "stream",
     "text": [
      "\n",
      "   Downloading: pf_201309_level2.HDF\n"
     ]
    },
    {
     "name": "stderr",
     "output_type": "stream",
     "text": [
      "107639KB [01:46, 1011.94KB/s]                                      \n"
     ]
    },
    {
     "name": "stdout",
     "output_type": "stream",
     "text": [
      "\n",
      "   Downloading: pf_201310_level2.HDF\n"
     ]
    },
    {
     "name": "stderr",
     "output_type": "stream",
     "text": [
      "99173KB [01:24, 1180.57KB/s]                                      \n"
     ]
    },
    {
     "name": "stdout",
     "output_type": "stream",
     "text": [
      "\n",
      "   Downloading: pf_201311_level2.HDF\n"
     ]
    },
    {
     "name": "stderr",
     "output_type": "stream",
     "text": [
      "89203KB [01:14, 1191.08KB/s]                                     \n"
     ]
    },
    {
     "name": "stdout",
     "output_type": "stream",
     "text": [
      "\n",
      "   Downloading: pf_201312_level2.HDF\n"
     ]
    },
    {
     "name": "stderr",
     "output_type": "stream",
     "text": [
      "93766KB [01:25, 1099.44KB/s]                                      \n"
     ]
    },
    {
     "name": "stdout",
     "output_type": "stream",
     "text": [
      "\n",
      "   Downloading: pf_201401_level2.HDF\n"
     ]
    },
    {
     "name": "stderr",
     "output_type": "stream",
     "text": [
      "98736KB [00:49, 2006.28KB/s]                                     \n"
     ]
    },
    {
     "name": "stdout",
     "output_type": "stream",
     "text": [
      "\n",
      "   Downloading: pf_201402_level2.HDF\n"
     ]
    },
    {
     "name": "stderr",
     "output_type": "stream",
     "text": [
      "100%|██████████| 86100/86099.9453125 [00:44<00:00, 1927.48KB/s] "
     ]
    },
    {
     "name": "stdout",
     "output_type": "stream",
     "text": [
      "\n"
     ]
    },
    {
     "name": "stderr",
     "output_type": "stream",
     "text": [
      "\n"
     ]
    }
   ],
   "source": [
    "for f in list_new:\n",
    "    DIR_BASE = '/mnt/Data/Data/PF/TRMM/'+product+'/'\n",
    "    File_out = DIR_BASE + f\n",
    "\n",
    "    if not os.path.exists(DIR_BASE):\n",
    "        os.makedirs(DIR_BASE)\n",
    "\n",
    "    url = BASE_URL + f\n",
    "\n",
    "    if not os.path.exists(File_out):\n",
    "        print(f\"   Downloading: {f}\")\n",
    "        download_file(url,File_out)\n",
    "    else:\n",
    "        print(\"   File Exists\")\n",
    "\n",
    "    print()\n"
   ]
  },
  {
   "cell_type": "code",
   "execution_count": null,
   "metadata": {},
   "outputs": [],
   "source": []
  }
 ],
 "metadata": {
  "kernelspec": {
   "display_name": "Python 3.9.7 ('AXE')",
   "language": "python",
   "name": "python3"
  },
  "language_info": {
   "codemirror_mode": {
    "name": "ipython",
    "version": 3
   },
   "file_extension": ".py",
   "mimetype": "text/x-python",
   "name": "python",
   "nbconvert_exporter": "python",
   "pygments_lexer": "ipython3",
   "version": "3.9.7"
  },
  "orig_nbformat": 4,
  "vscode": {
   "interpreter": {
    "hash": "c6c4883052875ec3257edf99ee092a790b9a432228222ee7e742d4f8a559e5a8"
   }
  }
 },
 "nbformat": 4,
 "nbformat_minor": 2
}

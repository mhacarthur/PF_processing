{
 "cells": [
  {
   "cell_type": "code",
   "execution_count": 2,
   "metadata": {},
   "outputs": [],
   "source": [
    "import os\n",
    "import argparse\n",
    "import threading\n",
    "\n",
    "import sys\n",
    "sys.path.append('../function/')\n",
    "from Funciones import get_subdirectories, get_url_files, download_file"
   ]
  },
  {
   "cell_type": "code",
   "execution_count": 3,
   "metadata": {},
   "outputs": [],
   "source": [
    "# product = 'rgpf'\n",
    "product = 'kurpf'"
   ]
  },
  {
   "cell_type": "code",
   "execution_count": 4,
   "metadata": {},
   "outputs": [
    {
     "name": "stdout",
     "output_type": "stream",
     "text": [
      "['pf_201403_level2.HDF', 'pf_201404_level2.HDF', 'pf_201405_level2.HDF', 'pf_201406_level2.HDF', 'pf_201407_level2.HDF', 'pf_201408_level2.HDF', 'pf_201409_level2.HDF', 'pf_201410_level2.HDF', 'pf_201411_level2.HDF', 'pf_201412_level2.HDF', 'pf_201501_level2.HDF', 'pf_201502_level2.HDF', 'pf_201503_level2.HDF', 'pf_201504_level2.HDF', 'pf_201505_level2.HDF', 'pf_201506_level2.HDF', 'pf_201507_level2.HDF', 'pf_201508_level2.HDF', 'pf_201509_level2.HDF', 'pf_201510_level2.HDF', 'pf_201511_level2.HDF', 'pf_201512_level2.HDF', 'pf_201601_level2.HDF', 'pf_201602_level2.HDF', 'pf_201603_level2.HDF', 'pf_201604_level2.HDF', 'pf_201605_level2.HDF', 'pf_201606_level2.HDF', 'pf_201607_level2.HDF', 'pf_201608_level2.HDF', 'pf_201609_level2.HDF', 'pf_201610_level2.HDF', 'pf_201611_level2.HDF', 'pf_201612_level2.HDF', 'pf_201701_level2.HDF', 'pf_201702_level2.HDF', 'pf_201703_level2.HDF', 'pf_201704_level2.HDF', 'pf_201705_level2.HDF', 'pf_201706_level2.HDF', 'pf_201707_level2.HDF', 'pf_201708_level2.HDF', 'pf_201709_level2.HDF', 'pf_201710_level2.HDF', 'pf_201711_level2.HDF', 'pf_201712_level2.HDF', 'pf_201801_level2.HDF', 'pf_201802_level2.HDF', 'pf_201803_level2.HDF', 'pf_201804_level2.HDF', 'pf_201805_level2.HDF', 'pf_201806_level2.HDF', 'pf_201807_level2.HDF', 'pf_201808_level2.HDF', 'pf_201809_level2.HDF', 'pf_201810_level2.HDF', 'pf_201811_level2.HDF', 'pf_201812_level2.HDF', 'pf_201901_level2.HDF', 'pf_201902_level2.HDF', 'pf_201903_level2.HDF', 'pf_201904_level2.HDF', 'pf_201905_level2.HDF', 'pf_201906_level2.HDF', 'pf_201907_level2.HDF', 'pf_201908_level2.HDF', 'pf_201909_level2.HDF', 'pf_201910_level2.HDF', 'pf_201911_level2.HDF', 'pf_201912_level2.HDF', 'pf_202001_level2.HDF', 'pf_202002_level2.HDF', 'pf_202003_level2.HDF', 'pf_202004_level2.HDF', 'pf_202005_level2.HDF', 'pf_202006_level2.HDF', 'pf_202007_level2.HDF', 'pf_202008_level2.HDF', 'pf_202009_level2.HDF', 'pf_202010_level2.HDF', 'pf_202011_level2.HDF', 'pf_202012_level2.HDF', 'pf_202101_level2.HDF', 'pf_202102_level2.HDF', 'pf_202103_level2.HDF']\n"
     ]
    }
   ],
   "source": [
    "BASE_URL = 'http://atmos.tamucc.edu/trmm/data/gpm/level_2/'+product+'/'\n",
    "list_files = get_subdirectories(BASE_URL)\n",
    "print(list_files)"
   ]
  },
  {
   "cell_type": "code",
   "execution_count": 5,
   "metadata": {},
   "outputs": [
    {
     "name": "stdout",
     "output_type": "stream",
     "text": [
      "   Downloading: pf_201403_level2.HDF\n"
     ]
    },
    {
     "name": "stderr",
     "output_type": "stream",
     "text": [
      "100%|█████████▉| 176434/176687.8408203125 [00:36<00:00, 7071.31KB/s] /home/arturo/anaconda3/envs/AXE/lib/python3.9/site-packages/tqdm/std.py:533: TqdmWarning: clamping frac to range [0, 1]\n",
      "  full_bar = Bar(frac,\n",
      "100%|██████████| 176688/176687.8408203125 [00:37<00:00, 4769.17KB/s]\n"
     ]
    },
    {
     "name": "stdout",
     "output_type": "stream",
     "text": [
      "\n",
      "   Downloading: pf_201404_level2.HDF\n"
     ]
    },
    {
     "name": "stderr",
     "output_type": "stream",
     "text": [
      "369881KB [01:17, 4781.65KB/s]                                        \n"
     ]
    },
    {
     "name": "stdout",
     "output_type": "stream",
     "text": [
      "\n",
      "   Downloading: pf_201405_level2.HDF\n"
     ]
    },
    {
     "name": "stderr",
     "output_type": "stream",
     "text": [
      "365066KB [00:54, 6712.48KB/s]                                        \n"
     ]
    },
    {
     "name": "stdout",
     "output_type": "stream",
     "text": [
      "\n",
      "   Downloading: pf_201406_level2.HDF\n"
     ]
    },
    {
     "name": "stderr",
     "output_type": "stream",
     "text": [
      "395550KB [01:05, 6034.29KB/s]                                       \n"
     ]
    },
    {
     "name": "stdout",
     "output_type": "stream",
     "text": [
      "\n",
      "   Downloading: pf_201407_level2.HDF\n"
     ]
    },
    {
     "name": "stderr",
     "output_type": "stream",
     "text": [
      "376560KB [01:17, 4882.27KB/s]                                      \n"
     ]
    },
    {
     "name": "stdout",
     "output_type": "stream",
     "text": [
      "\n",
      "   Downloading: pf_201408_level2.HDF\n"
     ]
    },
    {
     "name": "stderr",
     "output_type": "stream",
     "text": [
      "385616KB [01:14, 5144.10KB/s]                                       \n"
     ]
    },
    {
     "name": "stdout",
     "output_type": "stream",
     "text": [
      "\n",
      "   Downloading: pf_201409_level2.HDF\n"
     ]
    },
    {
     "name": "stderr",
     "output_type": "stream",
     "text": [
      "360248KB [01:21, 4418.46KB/s]                                        \n"
     ]
    },
    {
     "name": "stdout",
     "output_type": "stream",
     "text": [
      "\n",
      "   Downloading: pf_201410_level2.HDF\n"
     ]
    },
    {
     "name": "stderr",
     "output_type": "stream",
     "text": [
      "100%|██████████| 324615/324614.869140625 [00:48<00:00, 6662.09KB/s] \n"
     ]
    },
    {
     "name": "stdout",
     "output_type": "stream",
     "text": [
      "\n",
      "   Downloading: pf_201411_level2.HDF\n"
     ]
    },
    {
     "name": "stderr",
     "output_type": "stream",
     "text": [
      "100%|██████████| 331227/331226.83203125 [01:14<00:00, 4427.17KB/s] \n"
     ]
    },
    {
     "name": "stdout",
     "output_type": "stream",
     "text": [
      "\n",
      "   Downloading: pf_201412_level2.HDF\n"
     ]
    },
    {
     "name": "stderr",
     "output_type": "stream",
     "text": [
      "100%|██████████| 352178/352177.9501953125 [00:53<00:00, 6562.53KB/s] \n"
     ]
    },
    {
     "name": "stdout",
     "output_type": "stream",
     "text": [
      "\n",
      "   Downloading: pf_201501_level2.HDF\n"
     ]
    },
    {
     "name": "stderr",
     "output_type": "stream",
     "text": [
      "100%|██████████| 332896/332895.6083984375 [01:26<00:00, 3846.94KB/s] \n"
     ]
    },
    {
     "name": "stdout",
     "output_type": "stream",
     "text": [
      "\n",
      "   Downloading: pf_201502_level2.HDF\n"
     ]
    },
    {
     "name": "stderr",
     "output_type": "stream",
     "text": [
      "100%|██████████| 327864/327863.58203125 [00:51<00:00, 6313.50KB/s] \n"
     ]
    },
    {
     "name": "stdout",
     "output_type": "stream",
     "text": [
      "\n",
      "   Downloading: pf_201503_level2.HDF\n"
     ]
    },
    {
     "name": "stderr",
     "output_type": "stream",
     "text": [
      "100%|██████████| 375941/375940.677734375 [01:19<00:00, 4747.31KB/s] \n"
     ]
    },
    {
     "name": "stdout",
     "output_type": "stream",
     "text": [
      "\n",
      "   Downloading: pf_201504_level2.HDF\n"
     ]
    },
    {
     "name": "stderr",
     "output_type": "stream",
     "text": [
      "100%|██████████| 384478/384477.640625 [01:15<00:00, 5064.98KB/s] \n"
     ]
    },
    {
     "name": "stdout",
     "output_type": "stream",
     "text": [
      "\n",
      "   Downloading: pf_201505_level2.HDF\n"
     ]
    },
    {
     "name": "stderr",
     "output_type": "stream",
     "text": [
      "100%|██████████| 394924/394923.6669921875 [01:26<00:00, 4575.76KB/s] \n"
     ]
    },
    {
     "name": "stdout",
     "output_type": "stream",
     "text": [
      "\n",
      "   Downloading: pf_201506_level2.HDF\n"
     ]
    },
    {
     "name": "stderr",
     "output_type": "stream",
     "text": [
      "100%|██████████| 374920/374919.50390625 [01:13<00:00, 5109.06KB/s] \n"
     ]
    },
    {
     "name": "stdout",
     "output_type": "stream",
     "text": [
      "\n",
      "   Downloading: pf_201507_level2.HDF\n"
     ]
    },
    {
     "name": "stderr",
     "output_type": "stream",
     "text": [
      "100%|██████████| 410862/410861.68359375 [01:14<00:00, 5483.13KB/s] \n"
     ]
    },
    {
     "name": "stdout",
     "output_type": "stream",
     "text": [
      "\n",
      "   Downloading: pf_201508_level2.HDF\n"
     ]
    },
    {
     "name": "stderr",
     "output_type": "stream",
     "text": [
      "409025KB [01:28, 4633.43KB/s]                                        \n"
     ]
    },
    {
     "name": "stdout",
     "output_type": "stream",
     "text": [
      "\n",
      "   Downloading: pf_201509_level2.HDF\n"
     ]
    },
    {
     "name": "stderr",
     "output_type": "stream",
     "text": [
      "100%|██████████| 351384/351383.703125 [01:20<00:00, 4349.89KB/s] \n"
     ]
    },
    {
     "name": "stdout",
     "output_type": "stream",
     "text": [
      "\n",
      "   Downloading: pf_201510_level2.HDF\n"
     ]
    },
    {
     "name": "stderr",
     "output_type": "stream",
     "text": [
      "367904KB [00:57, 6415.30KB/s]                                       \n"
     ]
    },
    {
     "name": "stdout",
     "output_type": "stream",
     "text": [
      "\n",
      "   Downloading: pf_201511_level2.HDF\n"
     ]
    },
    {
     "name": "stderr",
     "output_type": "stream",
     "text": [
      "378656KB [01:41, 3713.61KB/s]                                     \n"
     ]
    },
    {
     "name": "stdout",
     "output_type": "stream",
     "text": [
      "\n",
      "   Downloading: pf_201512_level2.HDF\n"
     ]
    },
    {
     "name": "stderr",
     "output_type": "stream",
     "text": [
      "367210KB [01:11, 5105.31KB/s]                                       \n"
     ]
    },
    {
     "name": "stdout",
     "output_type": "stream",
     "text": [
      "\n",
      "   Downloading: pf_201601_level2.HDF\n"
     ]
    },
    {
     "name": "stderr",
     "output_type": "stream",
     "text": [
      "349507KB [01:54, 3052.75KB/s]                                        \n"
     ]
    },
    {
     "name": "stdout",
     "output_type": "stream",
     "text": [
      "\n",
      "   Downloading: pf_201602_level2.HDF\n"
     ]
    },
    {
     "name": "stderr",
     "output_type": "stream",
     "text": [
      "100%|██████████| 336449/336448.7392578125 [01:04<00:00, 5235.86KB/s] \n"
     ]
    },
    {
     "name": "stdout",
     "output_type": "stream",
     "text": [
      "\n",
      "   Downloading: pf_201603_level2.HDF\n"
     ]
    },
    {
     "name": "stderr",
     "output_type": "stream",
     "text": [
      "100%|██████████| 389289/389288.97265625 [01:25<00:00, 4532.87KB/s] \n"
     ]
    },
    {
     "name": "stdout",
     "output_type": "stream",
     "text": [
      "\n",
      "   Downloading: pf_201604_level2.HDF\n"
     ]
    },
    {
     "name": "stderr",
     "output_type": "stream",
     "text": [
      "371013KB [01:29, 4131.97KB/s]                                        \n"
     ]
    },
    {
     "name": "stdout",
     "output_type": "stream",
     "text": [
      "\n",
      "   Downloading: pf_201605_level2.HDF\n"
     ]
    },
    {
     "name": "stderr",
     "output_type": "stream",
     "text": [
      "100%|██████████| 374527/374526.7802734375 [00:56<00:00, 6574.89KB/s] \n"
     ]
    },
    {
     "name": "stdout",
     "output_type": "stream",
     "text": [
      "\n",
      "   Downloading: pf_201606_level2.HDF\n"
     ]
    },
    {
     "name": "stderr",
     "output_type": "stream",
     "text": [
      "100%|██████████| 413946/413945.634765625 [01:31<00:00, 4538.03KB/s] \n"
     ]
    },
    {
     "name": "stdout",
     "output_type": "stream",
     "text": [
      "\n",
      "   Downloading: pf_201607_level2.HDF\n"
     ]
    },
    {
     "name": "stderr",
     "output_type": "stream",
     "text": [
      "423243KB [01:46, 3981.87KB/s]                                        \n"
     ]
    },
    {
     "name": "stdout",
     "output_type": "stream",
     "text": [
      "\n",
      "   Downloading: pf_201608_level2.HDF\n"
     ]
    },
    {
     "name": "stderr",
     "output_type": "stream",
     "text": [
      "100%|██████████| 393981/393980.6708984375 [01:29<00:00, 4391.52KB/s] \n"
     ]
    },
    {
     "name": "stdout",
     "output_type": "stream",
     "text": [
      "\n",
      "   Downloading: pf_201609_level2.HDF\n"
     ]
    },
    {
     "name": "stderr",
     "output_type": "stream",
     "text": [
      "100%|██████████| 386716/386715.767578125 [01:31<00:00, 4208.38KB/s] \n"
     ]
    },
    {
     "name": "stdout",
     "output_type": "stream",
     "text": [
      "\n",
      "   Downloading: pf_201610_level2.HDF\n"
     ]
    },
    {
     "name": "stderr",
     "output_type": "stream",
     "text": [
      "100%|██████████| 364053/364052.9697265625 [01:07<00:00, 5404.50KB/s] \n"
     ]
    },
    {
     "name": "stdout",
     "output_type": "stream",
     "text": [
      "\n",
      "   Downloading: pf_201611_level2.HDF\n"
     ]
    },
    {
     "name": "stderr",
     "output_type": "stream",
     "text": [
      "100%|██████████| 359619/359618.630859375 [01:27<00:00, 4099.66KB/s] \n"
     ]
    },
    {
     "name": "stdout",
     "output_type": "stream",
     "text": [
      "\n",
      "   Downloading: pf_201612_level2.HDF\n"
     ]
    },
    {
     "name": "stderr",
     "output_type": "stream",
     "text": [
      "100%|██████████| 369821/369820.6787109375 [01:18<00:00, 4708.54KB/s] \n"
     ]
    },
    {
     "name": "stdout",
     "output_type": "stream",
     "text": [
      "\n",
      "   Downloading: pf_201701_level2.HDF\n"
     ]
    },
    {
     "name": "stderr",
     "output_type": "stream",
     "text": [
      "100%|██████████| 354087/354086.798828125 [01:27<00:00, 4042.47KB/s] \n"
     ]
    },
    {
     "name": "stdout",
     "output_type": "stream",
     "text": [
      "\n",
      "   Downloading: pf_201702_level2.HDF\n"
     ]
    },
    {
     "name": "stderr",
     "output_type": "stream",
     "text": [
      "100%|██████████| 351987/351986.583984375 [01:05<00:00, 5335.66KB/s] \n"
     ]
    },
    {
     "name": "stdout",
     "output_type": "stream",
     "text": [
      "\n",
      "   Downloading: pf_201703_level2.HDF\n"
     ]
    },
    {
     "name": "stderr",
     "output_type": "stream",
     "text": [
      "416497KB [01:52, 3688.02KB/s]                                        \n"
     ]
    },
    {
     "name": "stdout",
     "output_type": "stream",
     "text": [
      "\n",
      "   Downloading: pf_201704_level2.HDF\n"
     ]
    },
    {
     "name": "stderr",
     "output_type": "stream",
     "text": [
      "100%|██████████| 386610/386609.8271484375 [01:21<00:00, 4717.63KB/s] \n"
     ]
    },
    {
     "name": "stdout",
     "output_type": "stream",
     "text": [
      "\n",
      "   Downloading: pf_201705_level2.HDF\n"
     ]
    },
    {
     "name": "stderr",
     "output_type": "stream",
     "text": [
      "425245KB [01:13, 5813.65KB/s]                                    \n"
     ]
    },
    {
     "name": "stdout",
     "output_type": "stream",
     "text": [
      "\n",
      "   Downloading: pf_201706_level2.HDF\n"
     ]
    },
    {
     "name": "stderr",
     "output_type": "stream",
     "text": [
      "100%|██████████| 400945/400944.8515625 [01:33<00:00, 4296.53KB/s] \n"
     ]
    },
    {
     "name": "stdout",
     "output_type": "stream",
     "text": [
      "\n",
      "   Downloading: pf_201707_level2.HDF\n"
     ]
    },
    {
     "name": "stderr",
     "output_type": "stream",
     "text": [
      "100%|██████████| 435796/435795.857421875 [01:21<00:00, 5319.02KB/s] \n"
     ]
    },
    {
     "name": "stdout",
     "output_type": "stream",
     "text": [
      "\n",
      "   Downloading: pf_201708_level2.HDF\n"
     ]
    },
    {
     "name": "stderr",
     "output_type": "stream",
     "text": [
      "405423KB [01:07, 6050.21KB/s]                                        \n"
     ]
    },
    {
     "name": "stdout",
     "output_type": "stream",
     "text": [
      "\n",
      "   Downloading: pf_201709_level2.HDF\n"
     ]
    },
    {
     "name": "stderr",
     "output_type": "stream",
     "text": [
      "100%|██████████| 334830/334829.7822265625 [00:57<00:00, 5820.87KB/s] \n"
     ]
    },
    {
     "name": "stdout",
     "output_type": "stream",
     "text": [
      "\n",
      "   Downloading: pf_201710_level2.HDF\n"
     ]
    },
    {
     "name": "stderr",
     "output_type": "stream",
     "text": [
      "100%|██████████| 388706/388705.7236328125 [01:44<00:00, 3723.27KB/s] \n"
     ]
    },
    {
     "name": "stdout",
     "output_type": "stream",
     "text": [
      "\n",
      "   Downloading: pf_201711_level2.HDF\n"
     ]
    },
    {
     "name": "stderr",
     "output_type": "stream",
     "text": [
      "375057KB [01:30, 4129.26KB/s]                                        \n"
     ]
    },
    {
     "name": "stdout",
     "output_type": "stream",
     "text": [
      "\n",
      "   Downloading: pf_201712_level2.HDF\n"
     ]
    },
    {
     "name": "stderr",
     "output_type": "stream",
     "text": [
      "100%|██████████| 364349/364348.8759765625 [00:56<00:00, 6411.17KB/s] \n"
     ]
    },
    {
     "name": "stdout",
     "output_type": "stream",
     "text": [
      "\n",
      "   Downloading: pf_201801_level2.HDF\n"
     ]
    },
    {
     "name": "stderr",
     "output_type": "stream",
     "text": [
      "385137KB [01:22, 4683.82KB/s]                                        \n"
     ]
    },
    {
     "name": "stdout",
     "output_type": "stream",
     "text": [
      "\n",
      "   Downloading: pf_201802_level2.HDF\n"
     ]
    },
    {
     "name": "stderr",
     "output_type": "stream",
     "text": [
      "342034KB [01:11, 4797.08KB/s]                                       \n"
     ]
    },
    {
     "name": "stdout",
     "output_type": "stream",
     "text": [
      "\n",
      "   Downloading: pf_201803_level2.HDF\n"
     ]
    },
    {
     "name": "stderr",
     "output_type": "stream",
     "text": [
      "100%|██████████| 402859/402858.6259765625 [01:19<00:00, 5049.24KB/s] \n"
     ]
    },
    {
     "name": "stdout",
     "output_type": "stream",
     "text": [
      "\n",
      "   Downloading: pf_201804_level2.HDF\n"
     ]
    },
    {
     "name": "stderr",
     "output_type": "stream",
     "text": [
      "100%|██████████| 408583/408582.8916015625 [01:40<00:00, 4082.41KB/s] \n"
     ]
    },
    {
     "name": "stdout",
     "output_type": "stream",
     "text": [
      "\n",
      "   Downloading: pf_201805_level2.HDF\n"
     ]
    },
    {
     "name": "stderr",
     "output_type": "stream",
     "text": [
      "420341KB [01:55, 3635.32KB/s]                                       \n"
     ]
    },
    {
     "name": "stdout",
     "output_type": "stream",
     "text": [
      "\n",
      "   Downloading: pf_201806_level2.HDF\n"
     ]
    },
    {
     "name": "stderr",
     "output_type": "stream",
     "text": [
      "100%|██████████| 422888/422887.591796875 [01:21<00:00, 5177.56KB/s] \n"
     ]
    },
    {
     "name": "stdout",
     "output_type": "stream",
     "text": [
      "\n",
      "   Downloading: pf_201807_level2.HDF\n"
     ]
    },
    {
     "name": "stderr",
     "output_type": "stream",
     "text": [
      "100%|██████████| 431870/431869.927734375 [01:22<00:00, 5222.50KB/s] \n"
     ]
    },
    {
     "name": "stdout",
     "output_type": "stream",
     "text": [
      "\n",
      "   Downloading: pf_201808_level2.HDF\n"
     ]
    },
    {
     "name": "stderr",
     "output_type": "stream",
     "text": [
      "100%|██████████| 412637/412636.638671875 [01:58<00:00, 3494.93KB/s] \n"
     ]
    },
    {
     "name": "stdout",
     "output_type": "stream",
     "text": [
      "\n",
      "   Downloading: pf_201809_level2.HDF\n"
     ]
    },
    {
     "name": "stderr",
     "output_type": "stream",
     "text": [
      "410786KB [00:56, 7286.32KB/s]                                       \n"
     ]
    },
    {
     "name": "stdout",
     "output_type": "stream",
     "text": [
      "\n",
      "   Downloading: pf_201810_level2.HDF\n"
     ]
    },
    {
     "name": "stderr",
     "output_type": "stream",
     "text": [
      "100%|██████████| 418138/418137.8076171875 [01:45<00:00, 3973.32KB/s] \n"
     ]
    },
    {
     "name": "stdout",
     "output_type": "stream",
     "text": [
      "\n",
      "   Downloading: pf_201811_level2.HDF\n"
     ]
    },
    {
     "name": "stderr",
     "output_type": "stream",
     "text": [
      "371601KB [01:01, 6065.25KB/s]                                        \n"
     ]
    },
    {
     "name": "stdout",
     "output_type": "stream",
     "text": [
      "\n",
      "   Downloading: pf_201812_level2.HDF\n"
     ]
    },
    {
     "name": "stderr",
     "output_type": "stream",
     "text": [
      "389411KB [01:55, 3383.92KB/s]                                        \n"
     ]
    },
    {
     "name": "stdout",
     "output_type": "stream",
     "text": [
      "\n",
      "   Downloading: pf_201901_level2.HDF\n"
     ]
    },
    {
     "name": "stderr",
     "output_type": "stream",
     "text": [
      "376615KB [01:33, 4047.45KB/s]                                   \n"
     ]
    },
    {
     "name": "stdout",
     "output_type": "stream",
     "text": [
      "\n",
      "   Downloading: pf_201902_level2.HDF\n"
     ]
    },
    {
     "name": "stderr",
     "output_type": "stream",
     "text": [
      "346466KB [01:04, 5356.34KB/s]                                      \n"
     ]
    },
    {
     "name": "stdout",
     "output_type": "stream",
     "text": [
      "\n",
      "   Downloading: pf_201903_level2.HDF\n"
     ]
    },
    {
     "name": "stderr",
     "output_type": "stream",
     "text": [
      "100%|██████████| 411191/411190.94921875 [01:01<00:00, 6739.45KB/s] \n"
     ]
    },
    {
     "name": "stdout",
     "output_type": "stream",
     "text": [
      "\n",
      "   Downloading: pf_201904_level2.HDF\n"
     ]
    },
    {
     "name": "stderr",
     "output_type": "stream",
     "text": [
      "396183KB [01:16, 5181.29KB/s]                                       \n"
     ]
    },
    {
     "name": "stdout",
     "output_type": "stream",
     "text": [
      "\n",
      "   Downloading: pf_201905_level2.HDF\n"
     ]
    },
    {
     "name": "stderr",
     "output_type": "stream",
     "text": [
      "100%|██████████| 440936/440935.7314453125 [01:35<00:00, 4604.88KB/s] \n"
     ]
    },
    {
     "name": "stdout",
     "output_type": "stream",
     "text": [
      "\n",
      "   Downloading: pf_201906_level2.HDF\n"
     ]
    },
    {
     "name": "stderr",
     "output_type": "stream",
     "text": [
      "428594KB [01:18, 5470.72KB/s]                                        \n"
     ]
    },
    {
     "name": "stdout",
     "output_type": "stream",
     "text": [
      "\n",
      "   Downloading: pf_201907_level2.HDF\n"
     ]
    },
    {
     "name": "stderr",
     "output_type": "stream",
     "text": [
      "429507KB [01:37, 4409.99KB/s]                                       \n"
     ]
    },
    {
     "name": "stdout",
     "output_type": "stream",
     "text": [
      "\n",
      "   Downloading: pf_201908_level2.HDF\n"
     ]
    },
    {
     "name": "stderr",
     "output_type": "stream",
     "text": [
      "434687KB [01:27, 4964.71KB/s]                                        \n"
     ]
    },
    {
     "name": "stdout",
     "output_type": "stream",
     "text": [
      "\n",
      "   Downloading: pf_201909_level2.HDF\n"
     ]
    },
    {
     "name": "stderr",
     "output_type": "stream",
     "text": [
      "392622KB [01:54, 3441.88KB/s]                                        \n"
     ]
    },
    {
     "name": "stdout",
     "output_type": "stream",
     "text": [
      "\n",
      "   Downloading: pf_201910_level2.HDF\n"
     ]
    },
    {
     "name": "stderr",
     "output_type": "stream",
     "text": [
      "428340KB [01:12, 5939.85KB/s]                                        \n"
     ]
    },
    {
     "name": "stdout",
     "output_type": "stream",
     "text": [
      "\n",
      "   Downloading: pf_201911_level2.HDF\n"
     ]
    },
    {
     "name": "stderr",
     "output_type": "stream",
     "text": [
      "383598KB [01:44, 3666.20KB/s]                                       \n"
     ]
    },
    {
     "name": "stdout",
     "output_type": "stream",
     "text": [
      "\n",
      "   Downloading: pf_201912_level2.HDF\n"
     ]
    },
    {
     "name": "stderr",
     "output_type": "stream",
     "text": [
      "394396KB [01:27, 4517.40KB/s]                                       \n"
     ]
    },
    {
     "name": "stdout",
     "output_type": "stream",
     "text": [
      "\n",
      "   Downloading: pf_202001_level2.HDF\n"
     ]
    },
    {
     "name": "stderr",
     "output_type": "stream",
     "text": [
      "100%|██████████| 387045/387044.634765625 [01:35<00:00, 4062.18KB/s] \n"
     ]
    },
    {
     "name": "stdout",
     "output_type": "stream",
     "text": [
      "\n",
      "   Downloading: pf_202002_level2.HDF\n"
     ]
    },
    {
     "name": "stderr",
     "output_type": "stream",
     "text": [
      "373825KB [01:17, 4823.24KB/s]                                        \n"
     ]
    },
    {
     "name": "stdout",
     "output_type": "stream",
     "text": [
      "\n",
      "   Downloading: pf_202003_level2.HDF\n"
     ]
    },
    {
     "name": "stderr",
     "output_type": "stream",
     "text": [
      "409214KB [01:21, 5016.78KB/s]                                      \n"
     ]
    },
    {
     "name": "stdout",
     "output_type": "stream",
     "text": [
      "\n",
      "   Downloading: pf_202004_level2.HDF\n"
     ]
    },
    {
     "name": "stderr",
     "output_type": "stream",
     "text": [
      "100%|██████████| 326437/326436.640625 [01:10<00:00, 4624.19KB/s] \n"
     ]
    },
    {
     "name": "stdout",
     "output_type": "stream",
     "text": [
      "\n",
      "   Downloading: pf_202005_level2.HDF\n"
     ]
    },
    {
     "name": "stderr",
     "output_type": "stream",
     "text": [
      "423250KB [01:35, 4425.64KB/s]                                     \n"
     ]
    },
    {
     "name": "stdout",
     "output_type": "stream",
     "text": [
      "\n",
      "   Downloading: pf_202006_level2.HDF\n"
     ]
    },
    {
     "name": "stderr",
     "output_type": "stream",
     "text": [
      "428868KB [02:08, 3347.65KB/s]                                        \n"
     ]
    },
    {
     "name": "stdout",
     "output_type": "stream",
     "text": [
      "\n",
      "   Downloading: pf_202007_level2.HDF\n"
     ]
    },
    {
     "name": "stderr",
     "output_type": "stream",
     "text": [
      "100%|██████████| 463219/463218.5185546875 [01:51<00:00, 4138.33KB/s] \n"
     ]
    },
    {
     "name": "stdout",
     "output_type": "stream",
     "text": [
      "\n",
      "   Downloading: pf_202008_level2.HDF\n"
     ]
    },
    {
     "name": "stderr",
     "output_type": "stream",
     "text": [
      "325168KB [01:20, 4018.60KB/s]                                        \n"
     ]
    },
    {
     "name": "stdout",
     "output_type": "stream",
     "text": [
      "\n",
      "   Downloading: pf_202009_level2.HDF\n"
     ]
    },
    {
     "name": "stderr",
     "output_type": "stream",
     "text": [
      "422016KB [01:49, 3864.37KB/s]                                       \n"
     ]
    },
    {
     "name": "stdout",
     "output_type": "stream",
     "text": [
      "\n",
      "   Downloading: pf_202010_level2.HDF\n"
     ]
    },
    {
     "name": "stderr",
     "output_type": "stream",
     "text": [
      "409686KB [01:40, 4065.26KB/s]                                      \n"
     ]
    },
    {
     "name": "stdout",
     "output_type": "stream",
     "text": [
      "\n",
      "   Downloading: pf_202011_level2.HDF\n"
     ]
    },
    {
     "name": "stderr",
     "output_type": "stream",
     "text": [
      "390399KB [01:35, 4094.87KB/s]                                     \n"
     ]
    },
    {
     "name": "stdout",
     "output_type": "stream",
     "text": [
      "\n",
      "   Downloading: pf_202012_level2.HDF\n"
     ]
    },
    {
     "name": "stderr",
     "output_type": "stream",
     "text": [
      "100%|██████████| 399277/399276.5205078125 [01:57<00:00, 3407.87KB/s] \n"
     ]
    },
    {
     "name": "stdout",
     "output_type": "stream",
     "text": [
      "\n",
      "   Downloading: pf_202101_level2.HDF\n"
     ]
    },
    {
     "name": "stderr",
     "output_type": "stream",
     "text": [
      "100%|██████████| 405074/405073.8564453125 [01:58<00:00, 3406.07KB/s] \n"
     ]
    },
    {
     "name": "stdout",
     "output_type": "stream",
     "text": [
      "\n",
      "   Downloading: pf_202102_level2.HDF\n"
     ]
    },
    {
     "name": "stderr",
     "output_type": "stream",
     "text": [
      "361565KB [01:11, 5041.44KB/s]                                        \n"
     ]
    },
    {
     "name": "stdout",
     "output_type": "stream",
     "text": [
      "\n",
      "   Downloading: pf_202103_level2.HDF\n"
     ]
    },
    {
     "name": "stderr",
     "output_type": "stream",
     "text": [
      "430958KB [01:31, 4722.32KB/s]                                       "
     ]
    },
    {
     "name": "stdout",
     "output_type": "stream",
     "text": [
      "\n"
     ]
    },
    {
     "name": "stderr",
     "output_type": "stream",
     "text": [
      "\n"
     ]
    }
   ],
   "source": [
    "for f in list_files:\n",
    "    DIR_BASE = '/mnt/Data/Data/PF/GPM/'+product+'/'\n",
    "    File_out = DIR_BASE + f\n",
    "\n",
    "    if not os.path.exists(DIR_BASE):\n",
    "        os.makedirs(DIR_BASE)\n",
    "\n",
    "    url = BASE_URL + f\n",
    "\n",
    "    if not os.path.exists(File_out):\n",
    "        print(f\"   Downloading: {f}\")\n",
    "        download_file(url,File_out)\n",
    "    else:\n",
    "        print(\"   File Exists\")\n",
    "\n",
    "    print()\n"
   ]
  },
  {
   "cell_type": "code",
   "execution_count": null,
   "metadata": {},
   "outputs": [],
   "source": []
  }
 ],
 "metadata": {
  "interpreter": {
   "hash": "c6c4883052875ec3257edf99ee092a790b9a432228222ee7e742d4f8a559e5a8"
  },
  "kernelspec": {
   "display_name": "Python 3.9.7 ('AXE')",
   "language": "python",
   "name": "python3"
  },
  "language_info": {
   "codemirror_mode": {
    "name": "ipython",
    "version": 3
   },
   "file_extension": ".py",
   "mimetype": "text/x-python",
   "name": "python",
   "nbconvert_exporter": "python",
   "pygments_lexer": "ipython3",
   "version": "3.9.7"
  },
  "orig_nbformat": 4
 },
 "nbformat": 4,
 "nbformat_minor": 2
}

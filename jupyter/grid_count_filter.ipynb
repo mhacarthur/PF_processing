{
 "cells": [
  {
   "cell_type": "code",
   "execution_count": 1,
   "metadata": {},
   "outputs": [],
   "source": [
    "import os\n",
    "import re\n",
    "import glob\n",
    "import numpy as np\n",
    "import pandas as pd\n",
    "import geopandas as gpd\n",
    "from shapely.geometry import Polygon\n",
    "\n",
    "import shapely\n",
    "\n",
    "import clima_anom as ca\n",
    "\n",
    "import matplotlib.cbook\n",
    "import matplotlib.pyplot as plt\n",
    "import matplotlib.gridspec as gridspec\n",
    "\n",
    "import cartopy\n",
    "import cartopy.feature as cf\n",
    "import cartopy.crs as ccrs\n",
    "import cartopy.feature as cfeature\n",
    "import cartopy.io.shapereader as shpreader"
   ]
  },
  {
   "cell_type": "code",
   "execution_count": 2,
   "metadata": {},
   "outputs": [],
   "source": [
    "andes = list(shpreader.Reader('..'+os.sep+'mapping'+os.sep+'andes_1000.shp').geometries())"
   ]
  },
  {
   "cell_type": "code",
   "execution_count": 3,
   "metadata": {},
   "outputs": [
    {
     "name": "stdout",
     "output_type": "stream",
     "text": [
      "Latitude points   : 120\n",
      "Longitude points  : 110\n",
      "Spatial resolution: 0.5x0.5\n"
     ]
    }
   ],
   "source": [
    "#Using IMERG 05x05 grid\n",
    "file_in = '/mnt/Data/Data/IMERG/season/summer/IMERG_2000_12_2020_12_24h_05x05_summer.nc'\n",
    "# file_in = 'E:'+os.sep+'Data'+os.sep+'IMERG'+os.sep+'season'+os.sep+'summer'+os.sep+'IMERG_2001_01_2020_12_24h_05x05_summer.nc'\n",
    "\n",
    "data = ca.read_netcdf(file_in,0)\n",
    "lat = data['lat'].data\n",
    "lon = data['lon'].data\n",
    "\n",
    "lon2d, lat2d = np.meshgrid(lon, lat)\n",
    "\n",
    "nlat = len(lat)\n",
    "nlon = len(lon)\n",
    "\n",
    "res_y = lat[1]-lat[0]\n",
    "res_x = lon[1]-lon[0]\n",
    "\n",
    "del data\n",
    "\n",
    "print(f'Latitude points   : {nlat}')\n",
    "print(f'Longitude points  : {nlon}')\n",
    "print(f'Spatial resolution: {res_x}x{res_y}')"
   ]
  },
  {
   "cell_type": "code",
   "execution_count": 4,
   "metadata": {},
   "outputs": [],
   "source": [
    "xmin, ymin, xmax, ymax= np.min(lon2d)-0.25,np.min(lat2d)+0.25,np.max(lon2d)-0.25,np.max(lat2d)+0.25\n",
    "\n",
    "# how many cells across and down\n",
    "cell_size_y=0.5\n",
    "cell_size_x=0.5\n",
    "\n",
    "# projection of the grid\n",
    "crs = \"+proj=sinu +lon_0=0 +x_0=0 +y_0=0 +a=6371007.181 +b=6371007.181 +units=m +no_defs\"\n",
    "# create the cells in a loop\n",
    "grid_cells = []\n",
    "for x0 in np.arange(xmin, xmax+cell_size_x, cell_size_x ):\n",
    "    for y0 in np.arange(ymin, ymax+cell_size_y, cell_size_y):\n",
    "        # bounds\n",
    "        x1 = x0+cell_size_x\n",
    "        y1 = y0-cell_size_y\n",
    "        grid_cells.append( shapely.geometry.box(x0, y0, x1, y1)  )\n",
    "\n",
    "cell = gpd.GeoDataFrame(grid_cells, columns=['geometry'], crs=\"EPSG:4326\")\n",
    "cell = cell.reset_index()"
   ]
  },
  {
   "cell_type": "code",
   "execution_count": 5,
   "metadata": {},
   "outputs": [],
   "source": [
    "product = 'kurpf'"
   ]
  },
  {
   "cell_type": "code",
   "execution_count": 6,
   "metadata": {},
   "outputs": [
    {
     "name": "stdout",
     "output_type": "stream",
     "text": [
      "Files Number: 85\n"
     ]
    }
   ],
   "source": [
    "path_in = os.sep+'mnt'+os.sep+'Data'+os.sep+'Data'+os.sep+'PF'+os.sep+product+'_SA'+os.sep+product+'_*.csv'\n",
    "file_list = glob.glob(path_in)\n",
    "file_list = sorted(file_list)\n",
    "len_files = len(file_list)\n",
    "print(f'Files Number: {len_files}')"
   ]
  },
  {
   "cell_type": "code",
   "execution_count": 7,
   "metadata": {},
   "outputs": [
    {
     "name": "stdout",
     "output_type": "stream",
     "text": [
      "/mnt/Data/Data/PF/kurpf_SA/kurpf_201403_level2.csv\n",
      "/mnt/Data/Data/PF/kurpf_SA/kurpf_202103_level2.csv\n"
     ]
    }
   ],
   "source": [
    "print(file_list[0])\n",
    "print(file_list[-1])"
   ]
  },
  {
   "cell_type": "code",
   "execution_count": 8,
   "metadata": {},
   "outputs": [
    {
     "data": {
      "text/html": [
       "<div>\n",
       "<style scoped>\n",
       "    .dataframe tbody tr th:only-of-type {\n",
       "        vertical-align: middle;\n",
       "    }\n",
       "\n",
       "    .dataframe tbody tr th {\n",
       "        vertical-align: top;\n",
       "    }\n",
       "\n",
       "    .dataframe thead th {\n",
       "        text-align: right;\n",
       "    }\n",
       "</style>\n",
       "<table border=\"1\" class=\"dataframe\">\n",
       "  <thead>\n",
       "    <tr style=\"text-align: right;\">\n",
       "      <th></th>\n",
       "      <th>lat</th>\n",
       "      <th>lon</th>\n",
       "      <th>YEAR</th>\n",
       "      <th>ORBIT</th>\n",
       "      <th>NPIXELS_20DBZ</th>\n",
       "      <th>NPIXELS_30DBZ</th>\n",
       "      <th>NPIXELS_40DBZ</th>\n",
       "      <th>NPIXELS_50DBZ</th>\n",
       "      <th>NPIXELS_20MM</th>\n",
       "      <th>NPIXELS_30MM</th>\n",
       "      <th>...</th>\n",
       "      <th>MIN85PCT</th>\n",
       "      <th>NLT250</th>\n",
       "      <th>NLT225</th>\n",
       "      <th>N37LT250</th>\n",
       "      <th>N37LT225</th>\n",
       "      <th>MAXHT20</th>\n",
       "      <th>MAXHT30</th>\n",
       "      <th>MAXHT40</th>\n",
       "      <th>NSTRAT_KU</th>\n",
       "      <th>NCONV_KU</th>\n",
       "    </tr>\n",
       "  </thead>\n",
       "  <tbody>\n",
       "    <tr>\n",
       "      <th>0</th>\n",
       "      <td>14.503548</td>\n",
       "      <td>-47.985703</td>\n",
       "      <td>2014.0</td>\n",
       "      <td>148.0</td>\n",
       "      <td>2.0</td>\n",
       "      <td>0.0</td>\n",
       "      <td>0.0</td>\n",
       "      <td>0.0</td>\n",
       "      <td>0.0</td>\n",
       "      <td>0.0</td>\n",
       "      <td>...</td>\n",
       "      <td>283.450012</td>\n",
       "      <td>0.0</td>\n",
       "      <td>0.0</td>\n",
       "      <td>0.0</td>\n",
       "      <td>0.0</td>\n",
       "      <td>2.25</td>\n",
       "      <td>0.0</td>\n",
       "      <td>0.0</td>\n",
       "      <td>0.0</td>\n",
       "      <td>3.0</td>\n",
       "    </tr>\n",
       "    <tr>\n",
       "      <th>1</th>\n",
       "      <td>14.930592</td>\n",
       "      <td>-47.027515</td>\n",
       "      <td>2014.0</td>\n",
       "      <td>148.0</td>\n",
       "      <td>3.0</td>\n",
       "      <td>1.0</td>\n",
       "      <td>0.0</td>\n",
       "      <td>0.0</td>\n",
       "      <td>0.0</td>\n",
       "      <td>0.0</td>\n",
       "      <td>...</td>\n",
       "      <td>283.309998</td>\n",
       "      <td>0.0</td>\n",
       "      <td>0.0</td>\n",
       "      <td>0.0</td>\n",
       "      <td>0.0</td>\n",
       "      <td>2.38</td>\n",
       "      <td>2.0</td>\n",
       "      <td>0.0</td>\n",
       "      <td>0.0</td>\n",
       "      <td>3.0</td>\n",
       "    </tr>\n",
       "  </tbody>\n",
       "</table>\n",
       "<p>2 rows × 24 columns</p>\n",
       "</div>"
      ],
      "text/plain": [
       "         lat        lon    YEAR  ORBIT  NPIXELS_20DBZ  NPIXELS_30DBZ  \\\n",
       "0  14.503548 -47.985703  2014.0  148.0            2.0            0.0   \n",
       "1  14.930592 -47.027515  2014.0  148.0            3.0            1.0   \n",
       "\n",
       "   NPIXELS_40DBZ  NPIXELS_50DBZ  NPIXELS_20MM  NPIXELS_30MM  ...    MIN85PCT  \\\n",
       "0            0.0            0.0           0.0           0.0  ...  283.450012   \n",
       "1            0.0            0.0           0.0           0.0  ...  283.309998   \n",
       "\n",
       "   NLT250  NLT225  N37LT250  N37LT225  MAXHT20  MAXHT30  MAXHT40  NSTRAT_KU  \\\n",
       "0     0.0     0.0       0.0       0.0     2.25      0.0      0.0        0.0   \n",
       "1     0.0     0.0       0.0       0.0     2.38      2.0      0.0        0.0   \n",
       "\n",
       "   NCONV_KU  \n",
       "0       3.0  \n",
       "1       3.0  \n",
       "\n",
       "[2 rows x 24 columns]"
      ]
     },
     "execution_count": 8,
     "metadata": {},
     "output_type": "execute_result"
    }
   ],
   "source": [
    "# Show columns\n",
    "data_tmp = pd.read_csv(file_list[0])\n",
    "data_tmp.head(2)"
   ]
  },
  {
   "cell_type": "code",
   "execution_count": 9,
   "metadata": {},
   "outputs": [],
   "source": [
    "# var = 'NPIXELS_40DBZ'\n",
    "# var_name = '40dbz_GT_10km'\n",
    "# val_min = 10\n",
    "\n",
    "# var = 'NPIXELS_20DBZ'\n",
    "# var_name = '20dbz_GT_10km'\n",
    "# val_min = 10\n",
    "\n",
    "# var = 'MAXHT40'\n",
    "# var_name = 'MAXHT40_GT_10km'\n",
    "# val_min = 10\n",
    "\n",
    "# var = 'MAXHT20'\n",
    "# var_name = 'MAXHT20_GT_10km'\n",
    "# val_min = 10\n",
    "\n",
    "# var = 'NPIXELS_20MM'\n",
    "# var_name = 'NPIXELS_GT_20MM'\n",
    "# val_min = 0\n",
    "\n",
    "var = 'NPIXELS_30MM'\n",
    "var_name = 'NPIXELS_GT_30MM'\n",
    "val_min = 0\n",
    "\n",
    "# var = 'NCONV_KU'\n",
    "# var_name = 'NCONV'\n",
    "# val_min = 0\n",
    "\n",
    "# var = 'MIN85PCT'\n",
    "# var_name = 'MIN85PCT_LT_225K'\n",
    "# val_min = 225"
   ]
  },
  {
   "cell_type": "code",
   "execution_count": 10,
   "metadata": {},
   "outputs": [
    {
     "name": "stdout",
     "output_type": "stream",
     "text": [
      "kurpf_201403_level2.csv\n",
      "kurpf_201404_level2.csv\n",
      "kurpf_201405_level2.csv\n",
      "kurpf_201406_level2.csv\n",
      "kurpf_201407_level2.csv\n",
      "kurpf_201408_level2.csv\n",
      "kurpf_201409_level2.csv\n",
      "kurpf_201410_level2.csv\n",
      "kurpf_201411_level2.csv\n",
      "kurpf_201412_level2.csv\n",
      "kurpf_201501_level2.csv\n",
      "kurpf_201502_level2.csv\n",
      "kurpf_201503_level2.csv\n",
      "kurpf_201504_level2.csv\n",
      "kurpf_201505_level2.csv\n",
      "kurpf_201506_level2.csv\n",
      "kurpf_201507_level2.csv\n",
      "kurpf_201508_level2.csv\n",
      "kurpf_201509_level2.csv\n",
      "kurpf_201510_level2.csv\n",
      "kurpf_201511_level2.csv\n",
      "kurpf_201512_level2.csv\n",
      "kurpf_201601_level2.csv\n",
      "kurpf_201602_level2.csv\n",
      "kurpf_201603_level2.csv\n",
      "kurpf_201604_level2.csv\n",
      "kurpf_201605_level2.csv\n",
      "kurpf_201606_level2.csv\n",
      "kurpf_201607_level2.csv\n",
      "kurpf_201608_level2.csv\n",
      "kurpf_201609_level2.csv\n",
      "kurpf_201610_level2.csv\n",
      "kurpf_201611_level2.csv\n",
      "kurpf_201612_level2.csv\n",
      "kurpf_201701_level2.csv\n",
      "kurpf_201702_level2.csv\n",
      "kurpf_201703_level2.csv\n",
      "kurpf_201704_level2.csv\n",
      "kurpf_201705_level2.csv\n",
      "kurpf_201706_level2.csv\n",
      "kurpf_201707_level2.csv\n",
      "kurpf_201708_level2.csv\n",
      "kurpf_201709_level2.csv\n",
      "kurpf_201710_level2.csv\n",
      "kurpf_201711_level2.csv\n",
      "kurpf_201712_level2.csv\n",
      "kurpf_201801_level2.csv\n",
      "kurpf_201802_level2.csv\n",
      "kurpf_201803_level2.csv\n",
      "kurpf_201804_level2.csv\n",
      "kurpf_201805_level2.csv\n",
      "kurpf_201806_level2.csv\n",
      "kurpf_201807_level2.csv\n",
      "kurpf_201808_level2.csv\n",
      "kurpf_201809_level2.csv\n",
      "kurpf_201810_level2.csv\n",
      "kurpf_201811_level2.csv\n",
      "kurpf_201812_level2.csv\n",
      "kurpf_201901_level2.csv\n",
      "kurpf_201902_level2.csv\n",
      "kurpf_201903_level2.csv\n",
      "kurpf_201904_level2.csv\n",
      "kurpf_201905_level2.csv\n",
      "kurpf_201906_level2.csv\n",
      "kurpf_201907_level2.csv\n",
      "kurpf_201908_level2.csv\n",
      "kurpf_201909_level2.csv\n",
      "kurpf_201910_level2.csv\n",
      "kurpf_201911_level2.csv\n",
      "kurpf_201912_level2.csv\n",
      "kurpf_202001_level2.csv\n",
      "kurpf_202002_level2.csv\n",
      "kurpf_202003_level2.csv\n",
      "kurpf_202004_level2.csv\n",
      "kurpf_202005_level2.csv\n",
      "kurpf_202006_level2.csv\n",
      "kurpf_202007_level2.csv\n",
      "kurpf_202008_level2.csv\n",
      "kurpf_202009_level2.csv\n",
      "kurpf_202010_level2.csv\n",
      "kurpf_202011_level2.csv\n",
      "kurpf_202012_level2.csv\n",
      "kurpf_202101_level2.csv\n",
      "kurpf_202102_level2.csv\n",
      "kurpf_202103_level2.csv\n"
     ]
    }
   ],
   "source": [
    "# https://pygis.io/docs/e_summarize_vector.html\n",
    "pf_count = np.zeros([len_files,nlat,nlon])\n",
    "\n",
    "for t in range(len_files):\n",
    "\n",
    "    file_in = file_list[t]\n",
    "    name_out = file_in.split('/')[-1]\n",
    "    print(name_out)\n",
    "\n",
    "    data = pd.read_csv(file_in)\n",
    "    data_cut = data[data[var] > val_min].reset_index(drop=True)\n",
    "\n",
    "    PF_GPD = gpd.GeoDataFrame(geometry=gpd.points_from_xy(data_cut['lon'],data_cut['lat'], crs=\"EPSG:4326\"))\n",
    "\n",
    "    wells_cell = gpd.sjoin(PF_GPD, cell, how = \"inner\", predicate = \"intersects\")\n",
    "    wells_cell = wells_cell.drop_duplicates(subset = ['index']).reset_index(drop = True)\n",
    "    count_field = \"Count\"\n",
    "    wells_cell[count_field] = 1\n",
    "    wells_cell = wells_cell.groupby('index').agg({count_field:'sum'})\n",
    "    bay_area_grid = cell.merge(wells_cell, on = 'index', how = \"left\")\n",
    "    bay_area_grid[count_field] = bay_area_grid[count_field].fillna(0)\n",
    "    bay_area_grid[count_field] = bay_area_grid[count_field].astype(int)\n",
    "\n",
    "    data_out = bay_area_grid['Count'].values.reshape(nlon, nlat).T\n",
    "\n",
    "    pf_count[t,:,:] = data_out"
   ]
  },
  {
   "cell_type": "code",
   "execution_count": 11,
   "metadata": {},
   "outputs": [
    {
     "name": "stdout",
     "output_type": "stream",
     "text": [
      "pf count shape: (85, 120, 110)\n",
      "/mnt/Data/Data/PF/kurpf_SA_count/kurpf_SA_count_NPIXELS_GT_30MM.nc\n"
     ]
    }
   ],
   "source": [
    "print(f'pf count shape: {pf_count.shape}')\n",
    "info = {'file': '/mnt/Data/Data/PF/'+product+'_SA_count/'+product+'_SA_count_'+var_name+'.nc',\n",
    "        'title': 'Number of events to '+ product +' for '+ var_name +' for IMERG grid 0.5x0.5',\n",
    "        'year_start':2014,'month_start':3,'day_start':1,'hour_start':0,'minute_start':0,\n",
    "        'year_end':2021,'month_end':3,'day_end':1,'hour_end':23,'minute_end':59,\n",
    "        'time_frequency': 'Monthly',\n",
    "        'time_interval':1,\n",
    "        'var_name': 'count',\n",
    "        'var_units': 'adim'}\n",
    "print(info['file'])"
   ]
  },
  {
   "cell_type": "code",
   "execution_count": 12,
   "metadata": {},
   "outputs": [
    {
     "name": "stdout",
     "output_type": "stream",
     "text": [
      "Time Start: 2014-03-01 00:00:00\n",
      "Time End: 2021-03-01 00:00:00\n",
      "Time Frequency: Monthly\n",
      "Time Lenght: 85\n",
      "\n",
      "File created in:  /mnt/Data/Data/PF/kurpf_SA_count/kurpf_SA_count_NPIXELS_GT_30MM.nc\n",
      "File title:  Number of events to kurpf for NPIXELS_GT_30MM for IMERG grid 0.5x0.5\n",
      "var title:  count\n",
      "var units:  adim\n"
     ]
    }
   ],
   "source": [
    "ca.create_netcdf(info,pf_count,lat,lon)"
   ]
  },
  {
   "cell_type": "code",
   "execution_count": null,
   "metadata": {},
   "outputs": [],
   "source": []
  }
 ],
 "metadata": {
  "kernelspec": {
   "display_name": "Python 3.9.7 ('AXE')",
   "language": "python",
   "name": "python3"
  },
  "language_info": {
   "codemirror_mode": {
    "name": "ipython",
    "version": 3
   },
   "file_extension": ".py",
   "mimetype": "text/x-python",
   "name": "python",
   "nbconvert_exporter": "python",
   "pygments_lexer": "ipython3",
   "version": "3.9.7"
  },
  "orig_nbformat": 4,
  "vscode": {
   "interpreter": {
    "hash": "c6c4883052875ec3257edf99ee092a790b9a432228222ee7e742d4f8a559e5a8"
   }
  }
 },
 "nbformat": 4,
 "nbformat_minor": 2
}

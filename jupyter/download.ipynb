{
 "cells": [
  {
   "cell_type": "code",
   "execution_count": 4,
   "metadata": {},
   "outputs": [],
   "source": [
    "import os\n",
    "import argparse\n",
    "import threading\n",
    "\n",
    "import sys\n",
    "sys.path.append('../function/')\n",
    "from Funciones import get_subdirectories, get_url_files, download_file"
   ]
  },
  {
   "cell_type": "code",
   "execution_count": 5,
   "metadata": {},
   "outputs": [],
   "source": [
    "product = 'rgpf'"
   ]
  },
  {
   "cell_type": "code",
   "execution_count": null,
   "metadata": {},
   "outputs": [],
   "source": [
    "BASE_URL = 'http://atmos.tamucc.edu/trmm/data/gpm/level_2/'+product+'/'\n",
    "list_files = get_subdirectories(BASE_URL)\n",
    "print(list_files)"
   ]
  },
  {
   "cell_type": "code",
   "execution_count": null,
   "metadata": {},
   "outputs": [],
   "source": [
    "for f in list_files:\n",
    "    DIR_BASE = '/mnt/Data/Data/PF/'+product+'/'\n",
    "    File_out = DIR_BASE + f\n",
    "\n",
    "    if not os.path.exists(DIR_BASE):\n",
    "        os.makedirs(DIR_BASE)\n",
    "\n",
    "    url = BASE_URL + f\n",
    "\n",
    "    if not os.path.exists(File_out):\n",
    "        print(f\"   Downloading: {f}\")\n",
    "        download_file(url,File_out)\n",
    "    else:\n",
    "        print(\"   File Exists\")\n",
    "\n",
    "    print()\n"
   ]
  },
  {
   "cell_type": "code",
   "execution_count": null,
   "metadata": {},
   "outputs": [],
   "source": []
  }
 ],
 "metadata": {
  "interpreter": {
   "hash": "c6c4883052875ec3257edf99ee092a790b9a432228222ee7e742d4f8a559e5a8"
  },
  "kernelspec": {
   "display_name": "Python 3.9.7 ('AXE')",
   "language": "python",
   "name": "python3"
  },
  "language_info": {
   "codemirror_mode": {
    "name": "ipython",
    "version": 3
   },
   "file_extension": ".py",
   "mimetype": "text/x-python",
   "name": "python",
   "nbconvert_exporter": "python",
   "pygments_lexer": "ipython3",
   "version": "3.9.7"
  },
  "orig_nbformat": 4
 },
 "nbformat": 4,
 "nbformat_minor": 2
}
